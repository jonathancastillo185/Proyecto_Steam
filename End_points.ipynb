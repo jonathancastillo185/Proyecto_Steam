{
 "cells": [
  {
   "cell_type": "code",
   "execution_count": 1,
   "metadata": {},
   "outputs": [],
   "source": [
    "import pandas as pd\n",
    "import ast\n",
    "from funciones import extract\n",
    "import pyarrow"
   ]
  },
  {
   "cell_type": "code",
   "execution_count": 130,
   "metadata": {},
   "outputs": [],
   "source": [
    "df = pd.read_csv(r'data_set_limpio/games_preparado.csv.gz')"
   ]
  },
  {
   "cell_type": "code",
   "execution_count": 131,
   "metadata": {},
   "outputs": [],
   "source": [
    "item = pd.read_csv(r'data_set_limpio/items_preparado.csv.gz')"
   ]
  },
  {
   "cell_type": "code",
   "execution_count": 132,
   "metadata": {},
   "outputs": [],
   "source": [
    "opinion = pd.read_csv(r'data_set_limpio/reviews_preparado.csv.gz')"
   ]
  },
  {
   "cell_type": "code",
   "execution_count": 133,
   "metadata": {},
   "outputs": [],
   "source": [
    "def developer(x):\n",
    "    if x not in list(df['developer']):\n",
    "        return 'El desarrollador no se encuentra en la base de datos'\n",
    "    \n",
    "    fecha_inicio = df.loc[df['developer'] == x]['release_date'].min()[:4]\n",
    "    fecha_final =  df.loc[df['developer'] == x]['release_date'].max()\n",
    "    \n",
    "    anio = {}\n",
    "    \n",
    "    free = {}\n",
    "    \n",
    "    while fecha_inicio <= fecha_final:\n",
    "        if len(df[(df['release_date'] >= fecha_inicio) & (df['release_date'] <= fecha_inicio[:4]+'-12-31') & (df['developer'] == x)]) > 0:\n",
    "            anio[fecha_inicio[:4]] = len(df[(df['release_date'] >= fecha_inicio) & (df['release_date'] <= fecha_inicio[:4]+'-12-31') & (df['developer'] == x)])\n",
    "            free[fecha_inicio[:4]] = len(df[(df['release_date'] >= fecha_inicio) & (df['release_date'] <= fecha_inicio[:4]+'-12-31') & (df['developer'] == x) & ((df['price'] == 'Free') | (df['price'] == 'Free to Play') )])\n",
    "        fecha_inicio = str(int(fecha_inicio[:4])+1)+'-01-01'\n",
    "\n",
    "\n",
    "    for x,y  in free.items():\n",
    "        free[x] = str(round((y / anio[x])*100,2))+'%'\n",
    "\n",
    "\n",
    "    resultado = {'Cantidad de Items': anio,'Contenido Free':free}\n",
    "\n",
    "\n",
    "    return resultado\n",
    "\n",
    "\n"
   ]
  },
  {
   "cell_type": "code",
   "execution_count": 134,
   "metadata": {},
   "outputs": [
    {
     "data": {
      "text/plain": [
       "{'Cantidad de Items': {'1998': 1,\n",
       "  '1999': 1,\n",
       "  '2000': 2,\n",
       "  '2001': 1,\n",
       "  '2003': 1,\n",
       "  '2004': 5,\n",
       "  '2006': 2,\n",
       "  '2007': 3,\n",
       "  '2008': 1,\n",
       "  '2009': 1,\n",
       "  '2010': 2,\n",
       "  '2011': 1,\n",
       "  '2012': 1,\n",
       "  '2017': 2},\n",
       " 'Contenido Free': {'1998': '0.0%',\n",
       "  '1999': '0.0%',\n",
       "  '2000': '0.0%',\n",
       "  '2001': '0.0%',\n",
       "  '2003': '0.0%',\n",
       "  '2004': '0.0%',\n",
       "  '2006': '0.0%',\n",
       "  '2007': '33.33%',\n",
       "  '2008': '0.0%',\n",
       "  '2009': '0.0%',\n",
       "  '2010': '50.0%',\n",
       "  '2011': '0.0%',\n",
       "  '2012': '0.0%',\n",
       "  '2017': '0.0%'}}"
      ]
     },
     "execution_count": 134,
     "metadata": {},
     "output_type": "execute_result"
    }
   ],
   "source": [
    "developer('Valve')"
   ]
  },
  {
   "cell_type": "code",
   "execution_count": 135,
   "metadata": {},
   "outputs": [
    {
     "data": {
      "text/plain": [
       "True"
      ]
     },
     "execution_count": 135,
     "metadata": {},
     "output_type": "execute_result"
    }
   ],
   "source": [
    "'Valve' in list(df['developer'])"
   ]
  },
  {
   "cell_type": "code",
   "execution_count": 154,
   "metadata": {},
   "outputs": [],
   "source": [
    "def userdata(x):\n",
    "    \n",
    "    \n",
    "    precios = []\n",
    "    respuesta = {}\n",
    "    \n",
    "    \n",
    "    usuario = item.loc[item['user_id'] == x]['items']\n",
    "    if not usuario.empty:\n",
    "        usuario = usuario.iloc[0]\n",
    "    data = ast.literal_eval(usuario)\n",
    "    result = pd.DataFrame(data)\n",
    "    result.dropna(inplace=True)\n",
    "    \n",
    "    \n",
    "    for y in result['item_name']:\n",
    "        price = df.loc[df['app_name'] == y]['price'].values\n",
    "        if len(price) > 0:\n",
    "            try: \n",
    "                price_value = float(price[0])\n",
    "                precios.append(price_value)\n",
    "            except ValueError:\n",
    "                pass  \n",
    "\n",
    "    respuesta['Usuario'] = x\n",
    "    respuesta['Dinero gastado'] = str(round(sum(precios)))+' USD'\n",
    "    respuesta[\"cantidad de items\"] = item.loc[item['user_id'] == x]['items_count'].values[0]\n",
    "\n",
    "    coment = len(opinion.loc[opinion['user'] == x])\n",
    "\n",
    "    respuesta['Porcentaje de recomendaciones'] = str(round(((len(opinion.loc[opinion['user'] == x]) / item.loc[item['user_id'] == x]['items_count'].values[0])) * 100,2))+ '%'\n",
    "\n",
    "\n",
    "    return respuesta\n",
    "\n",
    "\n"
   ]
  },
  {
   "cell_type": "code",
   "execution_count": 155,
   "metadata": {},
   "outputs": [],
   "source": [
    "usuarios = {'Usuario': '', 'Dinero gastado': '','cantidad de items': '','Porcentaje de recomendaciones': ''}"
   ]
  },
  {
   "cell_type": "code",
   "execution_count": 164,
   "metadata": {},
   "outputs": [
    {
     "ename": "KeyboardInterrupt",
     "evalue": "",
     "output_type": "error",
     "traceback": [
      "\u001b[0;31m---------------------------------------------------------------------------\u001b[0m",
      "\u001b[0;31mKeyboardInterrupt\u001b[0m                         Traceback (most recent call last)",
      "\u001b[1;32m/Users/jonathancastillo/Desktop/Proyecto_Steam/End_points.ipynb Celda 10\u001b[0m line \u001b[0;36m2\n\u001b[1;32m      <a href='vscode-notebook-cell:/Users/jonathancastillo/Desktop/Proyecto_Steam/End_points.ipynb#X50sZmlsZQ%3D%3D?line=0'>1</a>\u001b[0m \u001b[39mfor\u001b[39;00m x \u001b[39min\u001b[39;00m \u001b[39mlist\u001b[39m(item[\u001b[39m'\u001b[39m\u001b[39muser_id\u001b[39m\u001b[39m'\u001b[39m]):\n\u001b[0;32m----> <a href='vscode-notebook-cell:/Users/jonathancastillo/Desktop/Proyecto_Steam/End_points.ipynb#X50sZmlsZQ%3D%3D?line=1'>2</a>\u001b[0m     aux \u001b[39m=\u001b[39m userdata(x)\n\u001b[1;32m      <a href='vscode-notebook-cell:/Users/jonathancastillo/Desktop/Proyecto_Steam/End_points.ipynb#X50sZmlsZQ%3D%3D?line=2'>3</a>\u001b[0m     usuarios[\u001b[39m'\u001b[39m\u001b[39mUsuario\u001b[39m\u001b[39m'\u001b[39m] \u001b[39m+\u001b[39m\u001b[39m=\u001b[39m aux[\u001b[39m'\u001b[39m\u001b[39mUsuario\u001b[39m\u001b[39m'\u001b[39m]\n\u001b[1;32m      <a href='vscode-notebook-cell:/Users/jonathancastillo/Desktop/Proyecto_Steam/End_points.ipynb#X50sZmlsZQ%3D%3D?line=3'>4</a>\u001b[0m     usuarios[\u001b[39m'\u001b[39m\u001b[39mDinero gastado\u001b[39m\u001b[39m'\u001b[39m] \u001b[39m+\u001b[39m\u001b[39m=\u001b[39m aux[\u001b[39m'\u001b[39m\u001b[39mDinero gastado\u001b[39m\u001b[39m'\u001b[39m]\n",
      "\u001b[1;32m/Users/jonathancastillo/Desktop/Proyecto_Steam/End_points.ipynb Celda 10\u001b[0m line \u001b[0;36m1\n\u001b[1;32m     <a href='vscode-notebook-cell:/Users/jonathancastillo/Desktop/Proyecto_Steam/End_points.ipynb#X50sZmlsZQ%3D%3D?line=12'>13</a>\u001b[0m result\u001b[39m.\u001b[39mdropna(inplace\u001b[39m=\u001b[39m\u001b[39mTrue\u001b[39;00m)\n\u001b[1;32m     <a href='vscode-notebook-cell:/Users/jonathancastillo/Desktop/Proyecto_Steam/End_points.ipynb#X50sZmlsZQ%3D%3D?line=15'>16</a>\u001b[0m \u001b[39mfor\u001b[39;00m y \u001b[39min\u001b[39;00m result[\u001b[39m'\u001b[39m\u001b[39mitem_name\u001b[39m\u001b[39m'\u001b[39m]:\n\u001b[0;32m---> <a href='vscode-notebook-cell:/Users/jonathancastillo/Desktop/Proyecto_Steam/End_points.ipynb#X50sZmlsZQ%3D%3D?line=16'>17</a>\u001b[0m     price \u001b[39m=\u001b[39m df\u001b[39m.\u001b[39mloc[df[\u001b[39m'\u001b[39;49m\u001b[39mapp_name\u001b[39;49m\u001b[39m'\u001b[39;49m] \u001b[39m==\u001b[39;49m y][\u001b[39m'\u001b[39m\u001b[39mprice\u001b[39m\u001b[39m'\u001b[39m]\u001b[39m.\u001b[39mvalues\n\u001b[1;32m     <a href='vscode-notebook-cell:/Users/jonathancastillo/Desktop/Proyecto_Steam/End_points.ipynb#X50sZmlsZQ%3D%3D?line=17'>18</a>\u001b[0m     \u001b[39mif\u001b[39;00m \u001b[39mlen\u001b[39m(price) \u001b[39m>\u001b[39m \u001b[39m0\u001b[39m:\n\u001b[1;32m     <a href='vscode-notebook-cell:/Users/jonathancastillo/Desktop/Proyecto_Steam/End_points.ipynb#X50sZmlsZQ%3D%3D?line=18'>19</a>\u001b[0m         \u001b[39mtry\u001b[39;00m: \n",
      "File \u001b[0;32m~/Desktop/Proyecto_Steam/venv/lib/python3.11/site-packages/pandas/core/ops/common.py:76\u001b[0m, in \u001b[0;36m_unpack_zerodim_and_defer.<locals>.new_method\u001b[0;34m(self, other)\u001b[0m\n\u001b[1;32m     72\u001b[0m             \u001b[39mreturn\u001b[39;00m \u001b[39mNotImplemented\u001b[39m\n\u001b[1;32m     74\u001b[0m other \u001b[39m=\u001b[39m item_from_zerodim(other)\n\u001b[0;32m---> 76\u001b[0m \u001b[39mreturn\u001b[39;00m method(\u001b[39mself\u001b[39;49m, other)\n",
      "File \u001b[0;32m~/Desktop/Proyecto_Steam/venv/lib/python3.11/site-packages/pandas/core/arraylike.py:40\u001b[0m, in \u001b[0;36mOpsMixin.__eq__\u001b[0;34m(self, other)\u001b[0m\n\u001b[1;32m     38\u001b[0m \u001b[39m@unpack_zerodim_and_defer\u001b[39m(\u001b[39m\"\u001b[39m\u001b[39m__eq__\u001b[39m\u001b[39m\"\u001b[39m)\n\u001b[1;32m     39\u001b[0m \u001b[39mdef\u001b[39;00m \u001b[39m__eq__\u001b[39m(\u001b[39mself\u001b[39m, other):\n\u001b[0;32m---> 40\u001b[0m     \u001b[39mreturn\u001b[39;00m \u001b[39mself\u001b[39;49m\u001b[39m.\u001b[39;49m_cmp_method(other, operator\u001b[39m.\u001b[39;49meq)\n",
      "File \u001b[0;32m~/Desktop/Proyecto_Steam/venv/lib/python3.11/site-packages/pandas/core/series.py:5799\u001b[0m, in \u001b[0;36mSeries._cmp_method\u001b[0;34m(self, other, op)\u001b[0m\n\u001b[1;32m   5796\u001b[0m lvalues \u001b[39m=\u001b[39m \u001b[39mself\u001b[39m\u001b[39m.\u001b[39m_values\n\u001b[1;32m   5797\u001b[0m rvalues \u001b[39m=\u001b[39m extract_array(other, extract_numpy\u001b[39m=\u001b[39m\u001b[39mTrue\u001b[39;00m, extract_range\u001b[39m=\u001b[39m\u001b[39mTrue\u001b[39;00m)\n\u001b[0;32m-> 5799\u001b[0m res_values \u001b[39m=\u001b[39m ops\u001b[39m.\u001b[39;49mcomparison_op(lvalues, rvalues, op)\n\u001b[1;32m   5801\u001b[0m \u001b[39mreturn\u001b[39;00m \u001b[39mself\u001b[39m\u001b[39m.\u001b[39m_construct_result(res_values, name\u001b[39m=\u001b[39mres_name)\n",
      "File \u001b[0;32m~/Desktop/Proyecto_Steam/venv/lib/python3.11/site-packages/pandas/core/ops/array_ops.py:346\u001b[0m, in \u001b[0;36mcomparison_op\u001b[0;34m(left, right, op)\u001b[0m\n\u001b[1;32m    343\u001b[0m     \u001b[39mreturn\u001b[39;00m invalid_comparison(lvalues, rvalues, op)\n\u001b[1;32m    345\u001b[0m \u001b[39melif\u001b[39;00m lvalues\u001b[39m.\u001b[39mdtype \u001b[39m==\u001b[39m \u001b[39mobject\u001b[39m \u001b[39mor\u001b[39;00m \u001b[39misinstance\u001b[39m(rvalues, \u001b[39mstr\u001b[39m):\n\u001b[0;32m--> 346\u001b[0m     res_values \u001b[39m=\u001b[39m comp_method_OBJECT_ARRAY(op, lvalues, rvalues)\n\u001b[1;32m    348\u001b[0m \u001b[39melse\u001b[39;00m:\n\u001b[1;32m    349\u001b[0m     res_values \u001b[39m=\u001b[39m _na_arithmetic_op(lvalues, rvalues, op, is_cmp\u001b[39m=\u001b[39m\u001b[39mTrue\u001b[39;00m)\n",
      "File \u001b[0;32m~/Desktop/Proyecto_Steam/venv/lib/python3.11/site-packages/pandas/core/ops/array_ops.py:131\u001b[0m, in \u001b[0;36mcomp_method_OBJECT_ARRAY\u001b[0;34m(op, x, y)\u001b[0m\n\u001b[1;32m    129\u001b[0m     result \u001b[39m=\u001b[39m libops\u001b[39m.\u001b[39mvec_compare(x\u001b[39m.\u001b[39mravel(), y\u001b[39m.\u001b[39mravel(), op)\n\u001b[1;32m    130\u001b[0m \u001b[39melse\u001b[39;00m:\n\u001b[0;32m--> 131\u001b[0m     result \u001b[39m=\u001b[39m libops\u001b[39m.\u001b[39;49mscalar_compare(x\u001b[39m.\u001b[39;49mravel(), y, op)\n\u001b[1;32m    132\u001b[0m \u001b[39mreturn\u001b[39;00m result\u001b[39m.\u001b[39mreshape(x\u001b[39m.\u001b[39mshape)\n",
      "\u001b[0;31mKeyboardInterrupt\u001b[0m: "
     ]
    }
   ],
   "source": [
    "for x in list(item['user_id']):\n",
    "    aux = userdata(x)\n",
    "    usuarios['Usuario'] += aux['Usuario']\n",
    "    usuarios['Dinero gastado'] += aux['Dinero gastado']\n",
    "    usuarios['cantidad de items'] += str(aux['cantidad de items'])\n",
    "    usuarios['Porcentaje de recomendaciones'] += aux['Porcentaje de recomendaciones']"
   ]
  },
  {
   "cell_type": "code",
   "execution_count": 42,
   "metadata": {},
   "outputs": [
    {
     "ename": "IndexError",
     "evalue": "index 0 is out of bounds for axis 0 with size 0",
     "output_type": "error",
     "traceback": [
      "\u001b[1;31m---------------------------------------------------------------------------\u001b[0m",
      "\u001b[1;31mIndexError\u001b[0m                                Traceback (most recent call last)",
      "\u001b[1;32mc:\\Users\\jonat\\Desktop\\ML_OPS\\PI MLOps - STEAM\\End_points.ipynb Celda 12\u001b[0m line \u001b[0;36m2\n\u001b[0;32m     <a href='vscode-notebook-cell:/c%3A/Users/jonat/Desktop/ML_OPS/PI%20MLOps%20-%20STEAM/End_points.ipynb#Y120sZmlsZQ%3D%3D?line=18'>19</a>\u001b[0m mayor[\u001b[39m'\u001b[39m\u001b[39mgenero\u001b[39m\u001b[39m'\u001b[39m] \u001b[39m=\u001b[39m e\n\u001b[0;32m     <a href='vscode-notebook-cell:/c%3A/Users/jonat/Desktop/ML_OPS/PI%20MLOps%20-%20STEAM/End_points.ipynb#Y120sZmlsZQ%3D%3D?line=19'>20</a>\u001b[0m mayor[\u001b[39m'\u001b[39m\u001b[39musuario\u001b[39m\u001b[39m'\u001b[39m] \u001b[39m=\u001b[39m x\n\u001b[1;32m---> <a href='vscode-notebook-cell:/c%3A/Users/jonat/Desktop/ML_OPS/PI%20MLOps%20-%20STEAM/End_points.ipynb#Y120sZmlsZQ%3D%3D?line=20'>21</a>\u001b[0m mayor[\u001b[39m'\u001b[39m\u001b[39mjuego\u001b[39m\u001b[39m'\u001b[39m] \u001b[39m=\u001b[39m \u001b[39mmax\u001b[39;49m[\u001b[39m'\u001b[39;49m\u001b[39mitem_name\u001b[39;49m\u001b[39m'\u001b[39;49m]\u001b[39m.\u001b[39;49mvalues[\u001b[39m0\u001b[39;49m]\n\u001b[0;32m     <a href='vscode-notebook-cell:/c%3A/Users/jonat/Desktop/ML_OPS/PI%20MLOps%20-%20STEAM/End_points.ipynb#Y120sZmlsZQ%3D%3D?line=21'>22</a>\u001b[0m mayor[\u001b[39m'\u001b[39m\u001b[39mhoras\u001b[39m\u001b[39m'\u001b[39m] \u001b[39m=\u001b[39m \u001b[39mmax\u001b[39m[\u001b[39m'\u001b[39m\u001b[39mplaytime_forever\u001b[39m\u001b[39m'\u001b[39m]\u001b[39m.\u001b[39mvalues\n\u001b[0;32m     <a href='vscode-notebook-cell:/c%3A/Users/jonat/Desktop/ML_OPS/PI%20MLOps%20-%20STEAM/End_points.ipynb#Y120sZmlsZQ%3D%3D?line=22'>23</a>\u001b[0m mayor[\u001b[39m'\u001b[39m\u001b[39manio\u001b[39m\u001b[39m'\u001b[39m] \u001b[39m=\u001b[39m \u001b[39mmax\u001b[39m[\u001b[39m'\u001b[39m\u001b[39mrelease_date\u001b[39m\u001b[39m'\u001b[39m]\u001b[39m.\u001b[39mvalues\n",
      "\u001b[1;31mIndexError\u001b[0m: index 0 is out of bounds for axis 0 with size 0"
     ]
    }
   ],
   "source": [
    "\n",
    "mayor = {'genero': '','usuario' : '','juego' : '','anio' : '','horas' : ''}\n",
    "\n",
    "\n",
    "for x,y in usuario.items():\n",
    "    \n",
    "    for e in filtro:\n",
    "\n",
    "        data = ast.literal_eval(y)\n",
    "        result = pd.DataFrame(data)\n",
    "        result.dropna(inplace=True)\n",
    "        result = pd.merge(result, df[['app_name',e,'release_date']], left_on='item_name', right_on='app_name')\n",
    "\n",
    "\n",
    "        parafiltro = result.loc[result[e] == 1]\n",
    "\n",
    "\n",
    "        max = parafiltro.loc[parafiltro['playtime_forever'] == parafiltro['playtime_forever'].max()]\n",
    "\n",
    "        \n",
    "\n",
    "\n",
    "mayor"
   ]
  },
  {
   "cell_type": "code",
   "execution_count": null,
   "metadata": {},
   "outputs": [],
   "source": [
    "\n",
    "\n",
    "data = ast.literal_eval(y)\n",
    "result = pd.DataFrame(data)\n",
    "result.dropna(inplace=True)\n",
    "result = pd.merge(result, df[['app_name',e,'release_date']], left_on='item_name', right_on='app_name')\n",
    "\n",
    "\n",
    "parafiltro = result.loc[result[e] == 1]\n",
    "\n",
    "\n",
    "max = parafiltro.loc[parafiltro['playtime_forever'] == parafiltro['playtime_forever'].max()]"
   ]
  },
  {
   "cell_type": "code",
   "execution_count": 124,
   "metadata": {},
   "outputs": [],
   "source": [
    "item = pd.read_csv(r'data_set_limpio/items_preparado.csv.gz', chunksize= 1000)"
   ]
  },
  {
   "cell_type": "code",
   "execution_count": 125,
   "metadata": {},
   "outputs": [],
   "source": [
    "def userdata(x):\n",
    "    \n",
    "    precios = []\n",
    "    respuesta = {}\n",
    "    \n",
    "    \n",
    "    \n",
    "    \n",
    "    usuario = item.loc[item['user_id'] == x]['items']\n",
    "    if not usuario.empty:\n",
    "        usuario = usuario.iloc[0]\n",
    "    data = ast.literal_eval(usuario)\n",
    "    result = pd.DataFrame(data)\n",
    "    result.dropna(inplace=True)\n",
    "\n",
    "    for y in result['item_name']:\n",
    "        price = df.loc[df['app_name'] == y]['price'].values\n",
    "        if len(price) > 0:\n",
    "            try: \n",
    "                price_value = float(price[0])\n",
    "                precios.append(price_value)\n",
    "            except ValueError:\n",
    "                pass  \n",
    "    \n",
    "    respuesta['Usuario'] = x\n",
    "    respuesta['Dinero gastado'] = str(round(sum(precios)))+' USD'\n",
    "    respuesta[\"cantidad de items\"] = item.loc[item['user_id'] == x]['items_count'].values[0]\n",
    "    \n",
    "    coment = len(opinion.loc[opinion['user'] == x])\n",
    "    \n",
    "    respuesta['Porcentaje de recomendaciones'] = str(round(((len(opinion.loc[opinion['user'] == x]) / item.loc[item['user_id'] == x]['items_count'].values[0])) * 100,2))+ '%'\n",
    "    \n",
    "    \n",
    "    return respuesta"
   ]
  }
 ],
 "metadata": {
  "kernelspec": {
   "display_name": "Python 3",
   "language": "python",
   "name": "python3"
  },
  "language_info": {
   "codemirror_mode": {
    "name": "ipython",
    "version": 3
   },
   "file_extension": ".py",
   "mimetype": "text/x-python",
   "name": "python",
   "nbconvert_exporter": "python",
   "pygments_lexer": "ipython3",
   "version": "3.11.4"
  }
 },
 "nbformat": 4,
 "nbformat_minor": 2
}
