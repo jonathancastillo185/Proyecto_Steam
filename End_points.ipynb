{
 "cells": [
  {
   "cell_type": "code",
   "execution_count": 9,
   "metadata": {},
   "outputs": [],
   "source": [
    "import pandas as pd\n",
    "import ast\n",
    "from funciones import extract"
   ]
  },
  {
   "cell_type": "code",
   "execution_count": 10,
   "metadata": {},
   "outputs": [],
   "source": [
    "df = pd.read_csv(r'data_set_limpio/games_preparado.csv.gz')"
   ]
  },
  {
   "cell_type": "code",
   "execution_count": 12,
   "metadata": {},
   "outputs": [],
   "source": [
    "item = pd.read_csv(r'data_set_limpio/items_preparado.csv.gz')"
   ]
  },
  {
   "cell_type": "code",
   "execution_count": 14,
   "metadata": {},
   "outputs": [],
   "source": [
    "opinion = pd.read_csv(r'data_set_limpio/reviews_preparado.csv.gz')"
   ]
  },
  {
   "cell_type": "code",
   "execution_count": 15,
   "metadata": {},
   "outputs": [],
   "source": [
    "def developer(x):\n",
    "    \n",
    "    fecha_inicio = df.loc[df['developer'] == x]['release_date'].min()[:4]\n",
    "    fecha_final =  df.loc[df['developer'] == x]['release_date'].max()\n",
    "    \n",
    "    anio = {}\n",
    "    free = {}\n",
    "    \n",
    "    while fecha_inicio <= fecha_final:\n",
    "        if len(df[(df['release_date'] >= fecha_inicio) & (df['release_date'] <= fecha_inicio[:4]+'-12-31') & (df['developer'] == x)]) > 0:\n",
    "            anio[fecha_inicio[:4]] = len(df[(df['release_date'] >= fecha_inicio) & (df['release_date'] <= fecha_inicio[:4]+'-12-31') & (df['developer'] == x)])\n",
    "            free[fecha_inicio[:4]] = len(df[(df['release_date'] >= fecha_inicio) & (df['release_date'] <= fecha_inicio[:4]+'-12-31') & (df['developer'] == x) & ((df['price'] == 'Free') | (df['price'] == 'Free to Play') )])\n",
    "        fecha_inicio = str(int(fecha_inicio[:4])+1)+'-01-01'\n",
    "\n",
    "    for x,y  in free.items():\n",
    "        free[x] = str(round((y / anio[x])*100,2))+'%'\n",
    "        \n",
    "    resultado = {'Cantidad de Items': anio,'Contenido Free':free}\n",
    "    \n",
    "    return resultado\n",
    "\n",
    "\n"
   ]
  },
  {
   "cell_type": "code",
   "execution_count": 16,
   "metadata": {},
   "outputs": [
    {
     "data": {
      "text/plain": [
       "{'Cantidad de Items': {'2017': 9, '2018': 1},\n",
       " 'Contenido Free': {'2017': '0.0%', '2018': '0.0%'}}"
      ]
     },
     "execution_count": 16,
     "metadata": {},
     "output_type": "execute_result"
    }
   ],
   "source": [
    "developer('Laush Dmitriy Sergeevich')"
   ]
  },
  {
   "cell_type": "code",
   "execution_count": 29,
   "metadata": {},
   "outputs": [],
   "source": [
    "def userdata(x):\n",
    "    \n",
    "    precios = []\n",
    "    respuesta = {}\n",
    "    \n",
    "    usuario = item.loc[item['user_id'] == x]['items']\n",
    "    if not usuario.empty:\n",
    "        usuario = usuario.iloc[0]\n",
    "    data = ast.literal_eval(usuario)\n",
    "    result = pd.DataFrame(data)\n",
    "    result.dropna(inplace=True)\n",
    "\n",
    "    for y in result['item_name']:\n",
    "        price = df.loc[df['app_name'] == y]['price'].values\n",
    "        if len(price) > 0:\n",
    "            try: \n",
    "                price_value = float(price[0])\n",
    "                precios.append(price_value)\n",
    "            except ValueError:\n",
    "                pass  \n",
    "    \n",
    "    respuesta['Usuario'] = x\n",
    "    respuesta['Dinero gastado'] = str(round(sum(precios)))+' USD'\n",
    "    respuesta[\"cantidad de items\"] = item.loc[item['user_id'] == x]['items_count'].values[0]\n",
    "    \n",
    "    coment = len(opinion.loc[opinion['user'] == x])\n",
    "    \n",
    "    respuesta['Porcentaje de recomendaciones'] = str(round(((len(opinion.loc[opinion['user'] == x]) / item.loc[item['user_id'] == x]['items_count'].values[0])) * 100,2))+ '%'\n",
    "    \n",
    "    \n",
    "    return respuesta\n",
    "\n",
    "\n"
   ]
  },
  {
   "cell_type": "code",
   "execution_count": 30,
   "metadata": {},
   "outputs": [
    {
     "data": {
      "text/plain": [
       "{'Usuario': 'js41637',\n",
       " 'Dinero gastado': '5847 USD',\n",
       " 'cantidad de items': 888,\n",
       " 'Porcentaje de recomendaciones': '0.34%'}"
      ]
     },
     "execution_count": 30,
     "metadata": {},
     "output_type": "execute_result"
    }
   ],
   "source": [
    "userdata('js41637')"
   ]
  },
  {
   "cell_type": "code",
   "execution_count": 31,
   "metadata": {},
   "outputs": [],
   "source": [
    "usuario = item[['user_id','items']][:1].values\n",
    "usuario = dict(usuario)"
   ]
  },
  {
   "cell_type": "code",
   "execution_count": 31,
   "metadata": {},
   "outputs": [
    {
     "data": {
      "text/html": [
       "<div>\n",
       "<style scoped>\n",
       "    .dataframe tbody tr th:only-of-type {\n",
       "        vertical-align: middle;\n",
       "    }\n",
       "\n",
       "    .dataframe tbody tr th {\n",
       "        vertical-align: top;\n",
       "    }\n",
       "\n",
       "    .dataframe thead th {\n",
       "        text-align: right;\n",
       "    }\n",
       "</style>\n",
       "<table border=\"1\" class=\"dataframe\">\n",
       "  <thead>\n",
       "    <tr style=\"text-align: right;\">\n",
       "      <th></th>\n",
       "      <th>user_id</th>\n",
       "      <th>items_count</th>\n",
       "      <th>steam_id</th>\n",
       "      <th>user_url</th>\n",
       "      <th>items</th>\n",
       "      <th>item_max_plating</th>\n",
       "      <th>item_max_hour</th>\n",
       "    </tr>\n",
       "  </thead>\n",
       "  <tbody>\n",
       "    <tr>\n",
       "      <th>0</th>\n",
       "      <td>76561197970982479</td>\n",
       "      <td>277</td>\n",
       "      <td>76561197970982479</td>\n",
       "      <td>http://steamcommunity.com/profiles/76561197970...</td>\n",
       "      <td>[{'item_id': '10', 'item_name': 'Counter-Strik...</td>\n",
       "      <td>Counter-Strike: Global Offensive</td>\n",
       "      <td>23532</td>\n",
       "    </tr>\n",
       "    <tr>\n",
       "      <th>1</th>\n",
       "      <td>js41637</td>\n",
       "      <td>888</td>\n",
       "      <td>76561198035864385</td>\n",
       "      <td>http://steamcommunity.com/id/js41637</td>\n",
       "      <td>[{'item_id': '10', 'item_name': 'Counter-Strik...</td>\n",
       "      <td>The Elder Scrolls V: Skyrim</td>\n",
       "      <td>13831</td>\n",
       "    </tr>\n",
       "    <tr>\n",
       "      <th>2</th>\n",
       "      <td>evcentric</td>\n",
       "      <td>137</td>\n",
       "      <td>76561198007712555</td>\n",
       "      <td>http://steamcommunity.com/id/evcentric</td>\n",
       "      <td>[{'item_id': '1200', 'item_name': 'Red Orchest...</td>\n",
       "      <td>Idling to Rule the Gods</td>\n",
       "      <td>28545</td>\n",
       "    </tr>\n",
       "    <tr>\n",
       "      <th>3</th>\n",
       "      <td>Riot-Punch</td>\n",
       "      <td>328</td>\n",
       "      <td>76561197963445855</td>\n",
       "      <td>http://steamcommunity.com/id/Riot-Punch</td>\n",
       "      <td>[{'item_id': '10', 'item_name': 'Counter-Strik...</td>\n",
       "      <td>Grand Theft Auto IV</td>\n",
       "      <td>52062</td>\n",
       "    </tr>\n",
       "    <tr>\n",
       "      <th>4</th>\n",
       "      <td>doctr</td>\n",
       "      <td>541</td>\n",
       "      <td>76561198002099482</td>\n",
       "      <td>http://steamcommunity.com/id/doctr</td>\n",
       "      <td>[{'item_id': '300', 'item_name': 'Day of Defea...</td>\n",
       "      <td>Counter-Strike: Global Offensive</td>\n",
       "      <td>19800</td>\n",
       "    </tr>\n",
       "    <tr>\n",
       "      <th>...</th>\n",
       "      <td>...</td>\n",
       "      <td>...</td>\n",
       "      <td>...</td>\n",
       "      <td>...</td>\n",
       "      <td>...</td>\n",
       "      <td>...</td>\n",
       "      <td>...</td>\n",
       "    </tr>\n",
       "    <tr>\n",
       "      <th>71499</th>\n",
       "      <td>76561198320136420</td>\n",
       "      <td>321</td>\n",
       "      <td>76561198320136420</td>\n",
       "      <td>http://steamcommunity.com/profiles/76561198320...</td>\n",
       "      <td>[{'item_id': '11020', 'item_name': 'TrackMania...</td>\n",
       "      <td>Evolve Stage 2</td>\n",
       "      <td>103</td>\n",
       "    </tr>\n",
       "    <tr>\n",
       "      <th>71500</th>\n",
       "      <td>ArkPlays7</td>\n",
       "      <td>4</td>\n",
       "      <td>76561198321542621</td>\n",
       "      <td>http://steamcommunity.com/id/ArkPlays7</td>\n",
       "      <td>[{'item_id': '218230', 'item_name': 'PlanetSid...</td>\n",
       "      <td>Counter-Strike: Global Offensive</td>\n",
       "      <td>4557</td>\n",
       "    </tr>\n",
       "    <tr>\n",
       "      <th>71501</th>\n",
       "      <td>76561198323066619</td>\n",
       "      <td>22</td>\n",
       "      <td>76561198323066619</td>\n",
       "      <td>http://steamcommunity.com/profiles/76561198323...</td>\n",
       "      <td>[{'item_id': '413850', 'item_name': 'CS:GO Pla...</td>\n",
       "      <td>Emily is Away</td>\n",
       "      <td>8</td>\n",
       "    </tr>\n",
       "    <tr>\n",
       "      <th>71502</th>\n",
       "      <td>76561198326700687</td>\n",
       "      <td>177</td>\n",
       "      <td>76561198326700687</td>\n",
       "      <td>http://steamcommunity.com/profiles/76561198326...</td>\n",
       "      <td>[{'item_id': '11020', 'item_name': 'TrackMania...</td>\n",
       "      <td>TrackMania Nations Forever</td>\n",
       "      <td>0</td>\n",
       "    </tr>\n",
       "    <tr>\n",
       "      <th>71503</th>\n",
       "      <td>76561198329548331</td>\n",
       "      <td>7</td>\n",
       "      <td>76561198329548331</td>\n",
       "      <td>http://steamcommunity.com/profiles/76561198329...</td>\n",
       "      <td>[{'item_id': '304930', 'item_name': 'Unturned'...</td>\n",
       "      <td>Unturned</td>\n",
       "      <td>677</td>\n",
       "    </tr>\n",
       "  </tbody>\n",
       "</table>\n",
       "<p>71504 rows × 7 columns</p>\n",
       "</div>"
      ],
      "text/plain": [
       "                 user_id  items_count           steam_id  \\\n",
       "0      76561197970982479          277  76561197970982479   \n",
       "1                js41637          888  76561198035864385   \n",
       "2              evcentric          137  76561198007712555   \n",
       "3             Riot-Punch          328  76561197963445855   \n",
       "4                  doctr          541  76561198002099482   \n",
       "...                  ...          ...                ...   \n",
       "71499  76561198320136420          321  76561198320136420   \n",
       "71500          ArkPlays7            4  76561198321542621   \n",
       "71501  76561198323066619           22  76561198323066619   \n",
       "71502  76561198326700687          177  76561198326700687   \n",
       "71503  76561198329548331            7  76561198329548331   \n",
       "\n",
       "                                                user_url  \\\n",
       "0      http://steamcommunity.com/profiles/76561197970...   \n",
       "1                   http://steamcommunity.com/id/js41637   \n",
       "2                 http://steamcommunity.com/id/evcentric   \n",
       "3                http://steamcommunity.com/id/Riot-Punch   \n",
       "4                     http://steamcommunity.com/id/doctr   \n",
       "...                                                  ...   \n",
       "71499  http://steamcommunity.com/profiles/76561198320...   \n",
       "71500             http://steamcommunity.com/id/ArkPlays7   \n",
       "71501  http://steamcommunity.com/profiles/76561198323...   \n",
       "71502  http://steamcommunity.com/profiles/76561198326...   \n",
       "71503  http://steamcommunity.com/profiles/76561198329...   \n",
       "\n",
       "                                                   items  \\\n",
       "0      [{'item_id': '10', 'item_name': 'Counter-Strik...   \n",
       "1      [{'item_id': '10', 'item_name': 'Counter-Strik...   \n",
       "2      [{'item_id': '1200', 'item_name': 'Red Orchest...   \n",
       "3      [{'item_id': '10', 'item_name': 'Counter-Strik...   \n",
       "4      [{'item_id': '300', 'item_name': 'Day of Defea...   \n",
       "...                                                  ...   \n",
       "71499  [{'item_id': '11020', 'item_name': 'TrackMania...   \n",
       "71500  [{'item_id': '218230', 'item_name': 'PlanetSid...   \n",
       "71501  [{'item_id': '413850', 'item_name': 'CS:GO Pla...   \n",
       "71502  [{'item_id': '11020', 'item_name': 'TrackMania...   \n",
       "71503  [{'item_id': '304930', 'item_name': 'Unturned'...   \n",
       "\n",
       "                       item_max_plating  item_max_hour  \n",
       "0      Counter-Strike: Global Offensive          23532  \n",
       "1           The Elder Scrolls V: Skyrim          13831  \n",
       "2               Idling to Rule the Gods          28545  \n",
       "3                   Grand Theft Auto IV          52062  \n",
       "4      Counter-Strike: Global Offensive          19800  \n",
       "...                                 ...            ...  \n",
       "71499                    Evolve Stage 2            103  \n",
       "71500  Counter-Strike: Global Offensive           4557  \n",
       "71501                     Emily is Away              8  \n",
       "71502        TrackMania Nations Forever              0  \n",
       "71503                          Unturned            677  \n",
       "\n",
       "[71504 rows x 7 columns]"
      ]
     },
     "execution_count": 31,
     "metadata": {},
     "output_type": "execute_result"
    }
   ],
   "source": [
    "item"
   ]
  },
  {
   "cell_type": "code",
   "execution_count": 42,
   "metadata": {},
   "outputs": [
    {
     "ename": "IndexError",
     "evalue": "index 0 is out of bounds for axis 0 with size 0",
     "output_type": "error",
     "traceback": [
      "\u001b[1;31m---------------------------------------------------------------------------\u001b[0m",
      "\u001b[1;31mIndexError\u001b[0m                                Traceback (most recent call last)",
      "\u001b[1;32mc:\\Users\\jonat\\Desktop\\ML_OPS\\PI MLOps - STEAM\\End_points.ipynb Celda 12\u001b[0m line \u001b[0;36m2\n\u001b[0;32m     <a href='vscode-notebook-cell:/c%3A/Users/jonat/Desktop/ML_OPS/PI%20MLOps%20-%20STEAM/End_points.ipynb#Y120sZmlsZQ%3D%3D?line=18'>19</a>\u001b[0m mayor[\u001b[39m'\u001b[39m\u001b[39mgenero\u001b[39m\u001b[39m'\u001b[39m] \u001b[39m=\u001b[39m e\n\u001b[0;32m     <a href='vscode-notebook-cell:/c%3A/Users/jonat/Desktop/ML_OPS/PI%20MLOps%20-%20STEAM/End_points.ipynb#Y120sZmlsZQ%3D%3D?line=19'>20</a>\u001b[0m mayor[\u001b[39m'\u001b[39m\u001b[39musuario\u001b[39m\u001b[39m'\u001b[39m] \u001b[39m=\u001b[39m x\n\u001b[1;32m---> <a href='vscode-notebook-cell:/c%3A/Users/jonat/Desktop/ML_OPS/PI%20MLOps%20-%20STEAM/End_points.ipynb#Y120sZmlsZQ%3D%3D?line=20'>21</a>\u001b[0m mayor[\u001b[39m'\u001b[39m\u001b[39mjuego\u001b[39m\u001b[39m'\u001b[39m] \u001b[39m=\u001b[39m \u001b[39mmax\u001b[39;49m[\u001b[39m'\u001b[39;49m\u001b[39mitem_name\u001b[39;49m\u001b[39m'\u001b[39;49m]\u001b[39m.\u001b[39;49mvalues[\u001b[39m0\u001b[39;49m]\n\u001b[0;32m     <a href='vscode-notebook-cell:/c%3A/Users/jonat/Desktop/ML_OPS/PI%20MLOps%20-%20STEAM/End_points.ipynb#Y120sZmlsZQ%3D%3D?line=21'>22</a>\u001b[0m mayor[\u001b[39m'\u001b[39m\u001b[39mhoras\u001b[39m\u001b[39m'\u001b[39m] \u001b[39m=\u001b[39m \u001b[39mmax\u001b[39m[\u001b[39m'\u001b[39m\u001b[39mplaytime_forever\u001b[39m\u001b[39m'\u001b[39m]\u001b[39m.\u001b[39mvalues\n\u001b[0;32m     <a href='vscode-notebook-cell:/c%3A/Users/jonat/Desktop/ML_OPS/PI%20MLOps%20-%20STEAM/End_points.ipynb#Y120sZmlsZQ%3D%3D?line=22'>23</a>\u001b[0m mayor[\u001b[39m'\u001b[39m\u001b[39manio\u001b[39m\u001b[39m'\u001b[39m] \u001b[39m=\u001b[39m \u001b[39mmax\u001b[39m[\u001b[39m'\u001b[39m\u001b[39mrelease_date\u001b[39m\u001b[39m'\u001b[39m]\u001b[39m.\u001b[39mvalues\n",
      "\u001b[1;31mIndexError\u001b[0m: index 0 is out of bounds for axis 0 with size 0"
     ]
    }
   ],
   "source": [
    "\n",
    "mayor = {'genero': '','usuario' : '','juego' : '','anio' : '','horas' : ''}\n",
    "\n",
    "\n",
    "for x,y in usuario.items():\n",
    "    \n",
    "    for e in filtro:\n",
    "\n",
    "        data = ast.literal_eval(y)\n",
    "        result = pd.DataFrame(data)\n",
    "        result.dropna(inplace=True)\n",
    "        result = pd.merge(result, df[['app_name',e,'release_date']], left_on='item_name', right_on='app_name')\n",
    "\n",
    "\n",
    "        parafiltro = result.loc[result[e] == 1]\n",
    "\n",
    "\n",
    "        max = parafiltro.loc[parafiltro['playtime_forever'] == parafiltro['playtime_forever'].max()]\n",
    "\n",
    "        \n",
    "\n",
    "\n",
    "mayor"
   ]
  },
  {
   "cell_type": "code",
   "execution_count": null,
   "metadata": {},
   "outputs": [],
   "source": [
    "\n",
    "\n",
    "data = ast.literal_eval(y)\n",
    "result = pd.DataFrame(data)\n",
    "result.dropna(inplace=True)\n",
    "result = pd.merge(result, df[['app_name',e,'release_date']], left_on='item_name', right_on='app_name')\n",
    "\n",
    "\n",
    "parafiltro = result.loc[result[e] == 1]\n",
    "\n",
    "\n",
    "max = parafiltro.loc[parafiltro['playtime_forever'] == parafiltro['playtime_forever'].max()]"
   ]
  }
 ],
 "metadata": {
  "kernelspec": {
   "display_name": "Python 3",
   "language": "python",
   "name": "python3"
  },
  "language_info": {
   "codemirror_mode": {
    "name": "ipython",
    "version": 3
   },
   "file_extension": ".py",
   "mimetype": "text/x-python",
   "name": "python",
   "nbconvert_exporter": "python",
   "pygments_lexer": "ipython3",
   "version": "3.11.4"
  }
 },
 "nbformat": 4,
 "nbformat_minor": 2
}
