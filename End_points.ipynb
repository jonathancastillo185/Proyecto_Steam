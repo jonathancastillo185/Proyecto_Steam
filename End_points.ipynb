{
 "cells": [
  {
   "cell_type": "code",
   "execution_count": 5,
   "metadata": {},
   "outputs": [],
   "source": [
    "import pandas as pd\n",
    "import ast\n",
    "from funciones import extract\n",
    "import pyarrow\n",
    "import json\n",
    "import gzip\n",
    "import pandas as pd\n",
    "import pyarrow as pa\n",
    "import pyarrow.parquet as pq\n",
    "%load_ext memory_profiler\n",
    "import pyarrow.parquet as pq\n"
   ]
  },
  {
   "cell_type": "code",
   "execution_count": 6,
   "metadata": {},
   "outputs": [],
   "source": [
    "df = pd.read_csv(r'data_set_limpio/games_preparado.csv.gz')"
   ]
  },
  {
   "cell_type": "code",
   "execution_count": 4,
   "metadata": {},
   "outputs": [],
   "source": [
    "item = pd.read_csv(r'data_set_limpio/items_preparado.csv.gz')"
   ]
  },
  {
   "cell_type": "code",
   "execution_count": 7,
   "metadata": {},
   "outputs": [],
   "source": [
    "opinion = pd.read_csv(r'data_set_limpio/reviews_preparado.csv.gz')"
   ]
  },
  {
   "cell_type": "code",
   "execution_count": 5,
   "metadata": {},
   "outputs": [],
   "source": [
    "def developer(des):\n",
    "    if des not in list(df['developer']):\n",
    "        return 'El desarrollador no se encuentra en la base de datos'\n",
    "    \n",
    "\n",
    "    fechas = df['release_date'].unique()\n",
    "    \n",
    "    anio = {}\n",
    "    \n",
    "    free = {}\n",
    "    for x in fechas:\n",
    "        if len(df[(df['release_date'] == x) & (df['developer'] == des)]) != 0:\n",
    "            anio[x] = len(df[(df['release_date'] == x) & (df['developer'] == des)])\n",
    "            free[x] = len(df[(df['release_date'] == x) & (df['developer'] == des) & (df['price'] == 0.0)])\n",
    "    for x,y  in free.items():\n",
    "        free[x] = str(round((y / anio[x])*100,2))+'%'\n",
    "\n",
    "    resultado = {'Cantidad de Items': anio,'Contenido Free':free}\n",
    "    \n",
    "    return resultado\n",
    "\n",
    "\n"
   ]
  },
  {
   "cell_type": "code",
   "execution_count": 8,
   "metadata": {},
   "outputs": [],
   "source": [
    "\n",
    "def developer(developer: str):\n",
    "    if developer not in list(df['developer']):\n",
    "        return 'El desarrollador no se encuentra en la base de datos'\n",
    "\n",
    "    fechas = df['release_date'].unique()\n",
    "\n",
    "    anio = {}\n",
    "    free = {}\n",
    "\n",
    "    for x in fechas:\n",
    "        filter_condition = (df['release_date'] == x) & (df['developer'] == developer)\n",
    "        developer_releases = df[filter_condition]\n",
    "\n",
    "        if len(developer_releases) != 0:\n",
    "            anio[x] = len(developer_releases)\n",
    "            free[x] = len(developer_releases[developer_releases['price'] == 0.0])\n",
    "\n",
    "    for x, y in free.items():\n",
    "        free[x] = f\"{round((y / anio[x]) * 100, 2)}%\"\n",
    "\n",
    "    # Convertir a tipos de datos nativos de Python\n",
    "    anio = {str(k): v for k, v in anio.items()}\n",
    "    free = {str(k): v for k, v in free.items()}\n",
    "\n",
    "    resultado = {'Cantidad de Items': anio, 'Contenido Free': free}\n",
    "\n",
    "    # Serializar a JSON usando json.dumps\n",
    "    return json.dumps(resultado)\n"
   ]
  },
  {
   "cell_type": "code",
   "execution_count": 9,
   "metadata": {},
   "outputs": [
    {
     "data": {
      "text/plain": [
       "'{\"Cantidad de Items\": {\"2017\": 2, \"1998\": 1, \"2006\": 2, \"2003\": 1, \"2007\": 3, \"2000\": 2, \"2001\": 1, \"2004\": 5, \"2008\": 1, \"2009\": 1, \"1999\": 1, \"2010\": 2, \"2011\": 1, \"2012\": 1}, \"Contenido Free\": {\"2017\": \"0.0%\", \"1998\": \"0.0%\", \"2006\": \"0.0%\", \"2003\": \"0.0%\", \"2007\": \"33.33%\", \"2000\": \"0.0%\", \"2001\": \"0.0%\", \"2004\": \"0.0%\", \"2008\": \"0.0%\", \"2009\": \"0.0%\", \"1999\": \"0.0%\", \"2010\": \"50.0%\", \"2011\": \"0.0%\", \"2012\": \"0.0%\"}}'"
      ]
     },
     "execution_count": 9,
     "metadata": {},
     "output_type": "execute_result"
    }
   ],
   "source": [
    "developer('Valve')"
   ]
  },
  {
   "cell_type": "code",
   "execution_count": 7,
   "metadata": {},
   "outputs": [],
   "source": [
    "def userdata(user: str):\n",
    "    \n",
    "    try:\n",
    "        for x in pd.read_csv(r'data_set_limpio/items_preparado.csv.gz', chunksize=3000):\n",
    "            if user in list(x['user_id']):\n",
    "                aux = x\n",
    "                break\n",
    "            x = 0\n",
    "        \n",
    "        \n",
    "        \n",
    "        precios = []\n",
    "        respuesta = {}\n",
    "        \n",
    "        \n",
    "        usuario = aux.loc[aux['user_id'] == user]['items']\n",
    "        \n",
    "        \n",
    "        if not usuario.empty:\n",
    "            usuario = usuario.iloc[0]\n",
    "        data = ast.literal_eval(usuario)\n",
    "        result = pd.DataFrame(data)\n",
    "        result.dropna(inplace=True)\n",
    "        \n",
    "\n",
    "        for y in result['item_name']:\n",
    "            price = df.loc[df['app_name'] == y]['price'].values\n",
    "            if len(price) > 0:\n",
    "                try: \n",
    "                    price_value = float(price[0])\n",
    "                    precios.append(price_value)\n",
    "                except ValueError:\n",
    "                    pass  \n",
    "                \n",
    "        respuesta['Usuario'] = user\n",
    "        respuesta['Dinero gastado'] = str(round(sum(precios)))+' USD'\n",
    "        respuesta[\"cantidad de items\"] = str(len(result))\n",
    "        \n",
    "        respuesta['Porcentaje de recomendaciones'] = str(round(((len(opinion.loc[opinion['user'] == user]) / len(result))) * 100,2))+ '%'\n",
    "        \n",
    "        return respuesta\n",
    "    except:\n",
    "        return 'El usuario no se encuentra en la base de datos.'"
   ]
  },
  {
   "cell_type": "code",
   "execution_count": 9,
   "metadata": {},
   "outputs": [
    {
     "data": {
      "text/plain": [
       "{'Usuario': '76561197970982479',\n",
       " 'Dinero gastado': '2315 USD',\n",
       " 'cantidad de items': '277',\n",
       " 'Porcentaje de recomendaciones': '1.08%'}"
      ]
     },
     "execution_count": 9,
     "metadata": {},
     "output_type": "execute_result"
    }
   ],
   "source": [
    "\n",
    "userdata('76561197970982479')\n"
   ]
  },
  {
   "cell_type": "code",
   "execution_count": 12,
   "metadata": {},
   "outputs": [],
   "source": [
    "def best_developer_year(year : int):\n",
    "    \n",
    "        anio = pd.read_csv(r'data_set_limpio//Max_developer_year.csv')\n",
    "\n",
    "            \n",
    "        anio = anio.sort_values('Anio', ascending=False)\n",
    "        \n",
    "        seleccion = anio.loc[anio['Anio'] == year].copy()\n",
    "        \n",
    "        seleccion.fillna('Sin informacion',inplace=True)\n",
    "        \n",
    "        if not seleccion['Anio'].empty:\n",
    "            respuesta = {'Anio': str(seleccion['Anio'].values[0]),\n",
    "                        'Top 1': str(seleccion['Top 1'].values[0]),\n",
    "                        'Top 2': str(seleccion['Top 2'].values[0]),\n",
    "                        'Top 3': str(seleccion['Top 3'].values[0])\n",
    "                        }\n",
    "        else:\n",
    "            respuesta = {f'No ingreso un valor relevante, este es el rango disponible ({str(anio[\"Anio\"].min())} - {str(anio[\"Anio\"].max())})'}\n",
    "\n",
    "        return respuesta"
   ]
  },
  {
   "cell_type": "code",
   "execution_count": 19,
   "metadata": {},
   "outputs": [
    {
     "data": {
      "text/plain": [
       "{'Anio': '2017',\n",
       " 'Top 1': \"('Smartly Dressed Games', 594)\",\n",
       " 'Top 2': \"('Freejam', 178)\",\n",
       " 'Top 3': \"('Studio Wildcard,Instinct Games,Efecto Studios,Virtual Basement LLC', 160)\"}"
      ]
     },
     "execution_count": 19,
     "metadata": {},
     "output_type": "execute_result"
    }
   ],
   "source": [
    "best_developer_year(2017)"
   ]
  },
  {
   "cell_type": "code",
   "execution_count": 20,
   "metadata": {},
   "outputs": [],
   "source": [
    "def resenias_developer( des : str ):\n",
    "    \n",
    "    try:\n",
    "\n",
    "        table = pq.read_table(r'data_set_limpio/recomends_dev.parquet')\n",
    "        \n",
    "        dev = table.to_pandas()\n",
    "        \n",
    "        developer = dev.loc[dev['Developers'] == des]\n",
    "        \n",
    "        respuesta = {'Deloper' : str(developer['Developers'].values[0]), 'Reviews positivos' : str(developer['Positivo'].values[0]),'Reviews negativos' : str(developer['Negativo'].values[0])}\n",
    "        dev = 0\n",
    "        return respuesta\n",
    "    \n",
    "    except:\n",
    "        \n",
    "        return 'No ingreso un valor relevante, o el desarrollador no se encuentra en la base de datos'   "
   ]
  },
  {
   "cell_type": "code",
   "execution_count": 22,
   "metadata": {},
   "outputs": [
    {
     "data": {
      "text/plain": [
       "{'Deloper': 'Freejam', 'Reviews positivos': '211', 'Reviews negativos': '71'}"
      ]
     },
     "execution_count": 22,
     "metadata": {},
     "output_type": "execute_result"
    }
   ],
   "source": [
    "resenias_developer('Freejam')"
   ]
  },
  {
   "cell_type": "code",
   "execution_count": null,
   "metadata": {},
   "outputs": [],
   "source": []
  }
 ],
 "metadata": {
  "kernelspec": {
   "display_name": "Python 3",
   "language": "python",
   "name": "python3"
  },
  "language_info": {
   "codemirror_mode": {
    "name": "ipython",
    "version": 3
   },
   "file_extension": ".py",
   "mimetype": "text/x-python",
   "name": "python",
   "nbconvert_exporter": "python",
   "pygments_lexer": "ipython3",
   "version": "3.11.4"
  }
 },
 "nbformat": 4,
 "nbformat_minor": 2
}
