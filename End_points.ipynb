{
 "cells": [
  {
   "cell_type": "code",
   "execution_count": 1,
   "metadata": {},
   "outputs": [],
   "source": [
    "import pandas as pd\n",
    "import ast\n",
    "from funciones import extract\n",
    "import pyarrow"
   ]
  },
  {
   "cell_type": "code",
   "execution_count": 6,
   "metadata": {},
   "outputs": [],
   "source": [
    "df = pd.read_csv(r'data_set_limpio/games_preparado.csv.gz')"
   ]
  },
  {
   "cell_type": "code",
   "execution_count": 285,
   "metadata": {},
   "outputs": [],
   "source": [
    "item = pd.read_csv(r'data_set_limpio/items_preparado.csv.gz')"
   ]
  },
  {
   "cell_type": "code",
   "execution_count": 7,
   "metadata": {},
   "outputs": [],
   "source": [
    "opinion = pd.read_csv(r'data_set_limpio/reviews_preparado.csv.gz')"
   ]
  },
  {
   "cell_type": "code",
   "execution_count": 289,
   "metadata": {},
   "outputs": [],
   "source": [
    "def developer(x):\n",
    "    if x not in list(df['developer']):\n",
    "        return 'El desarrollador no se encuentra en la base de datos'\n",
    "    \n",
    "    fecha_inicio = df.loc[df['developer'] == x]['release_date'].min()[:4]\n",
    "    fecha_final =  df.loc[df['developer'] == x]['release_date'].max()\n",
    "    \n",
    "    anio = {}\n",
    "    \n",
    "    free = {}\n",
    "    \n",
    "    while fecha_inicio <= fecha_final:\n",
    "        if len(df[(df['release_date'] >= fecha_inicio) & (df['release_date'] <= fecha_inicio[:4]+'-12-31') & (df['developer'] == x)]) > 0:\n",
    "            anio[fecha_inicio[:4]] = len(df[(df['release_date'] >= fecha_inicio) & (df['release_date'] <= fecha_inicio[:4]+'-12-31') & (df['developer'] == x)])\n",
    "            free[fecha_inicio[:4]] = len(df[(df['release_date'] >= fecha_inicio) & (df['release_date'] <= fecha_inicio[:4]+'-12-31') & (df['developer'] == x) & ((df['price'] == 'Free') | (df['price'] == 'Free to Play') )])\n",
    "        fecha_inicio = str(int(fecha_inicio[:4])+1)+'-01-01'\n",
    "\n",
    "\n",
    "    for x,y  in free.items():\n",
    "        free[x] = str(round((y / anio[x])*100,2))+'%'\n",
    "\n",
    "\n",
    "    resultado = {'Cantidad de Items': anio,'Contenido Free':free}\n",
    "\n",
    "\n",
    "    return resultado\n",
    "\n",
    "\n"
   ]
  },
  {
   "cell_type": "code",
   "execution_count": 14,
   "metadata": {},
   "outputs": [],
   "source": [
    "%load_ext memory_profiler"
   ]
  },
  {
   "cell_type": "code",
   "execution_count": 15,
   "metadata": {},
   "outputs": [
    {
     "ename": "NameError",
     "evalue": "name 'developer' is not defined",
     "output_type": "error",
     "traceback": [
      "\u001b[0;31m---------------------------------------------------------------------------\u001b[0m",
      "\u001b[0;31mNameError\u001b[0m                                 Traceback (most recent call last)",
      "\u001b[1;32m/Users/jonathancastillo/Desktop/Proyecto_Steam/End_points.ipynb Celda 7\u001b[0m line \u001b[0;36m1\n\u001b[0;32m----> <a href='vscode-notebook-cell:/Users/jonathancastillo/Desktop/Proyecto_Steam/End_points.ipynb#W6sZmlsZQ%3D%3D?line=0'>1</a>\u001b[0m get_ipython()\u001b[39m.\u001b[39;49mrun_line_magic(\u001b[39m'\u001b[39;49m\u001b[39mmemit\u001b[39;49m\u001b[39m'\u001b[39;49m, \u001b[39m\"\u001b[39;49m\u001b[39mdeveloper(\u001b[39;49m\u001b[39m'\u001b[39;49m\u001b[39mValve\u001b[39;49m\u001b[39m'\u001b[39;49m\u001b[39m)\u001b[39;49m\u001b[39m\"\u001b[39;49m)\n",
      "File \u001b[0;32m~/Desktop/Proyecto_Steam/venv/lib/python3.11/site-packages/IPython/core/interactiveshell.py:2432\u001b[0m, in \u001b[0;36mInteractiveShell.run_line_magic\u001b[0;34m(self, magic_name, line, _stack_depth)\u001b[0m\n\u001b[1;32m   2430\u001b[0m     kwargs[\u001b[39m'\u001b[39m\u001b[39mlocal_ns\u001b[39m\u001b[39m'\u001b[39m] \u001b[39m=\u001b[39m \u001b[39mself\u001b[39m\u001b[39m.\u001b[39mget_local_scope(stack_depth)\n\u001b[1;32m   2431\u001b[0m \u001b[39mwith\u001b[39;00m \u001b[39mself\u001b[39m\u001b[39m.\u001b[39mbuiltin_trap:\n\u001b[0;32m-> 2432\u001b[0m     result \u001b[39m=\u001b[39m fn(\u001b[39m*\u001b[39;49margs, \u001b[39m*\u001b[39;49m\u001b[39m*\u001b[39;49mkwargs)\n\u001b[1;32m   2434\u001b[0m \u001b[39m# The code below prevents the output from being displayed\u001b[39;00m\n\u001b[1;32m   2435\u001b[0m \u001b[39m# when using magics with decorator @output_can_be_silenced\u001b[39;00m\n\u001b[1;32m   2436\u001b[0m \u001b[39m# when the last Python token in the expression is a ';'.\u001b[39;00m\n\u001b[1;32m   2437\u001b[0m \u001b[39mif\u001b[39;00m \u001b[39mgetattr\u001b[39m(fn, magic\u001b[39m.\u001b[39mMAGIC_OUTPUT_CAN_BE_SILENCED, \u001b[39mFalse\u001b[39;00m):\n",
      "File \u001b[0;32m~/Desktop/Proyecto_Steam/venv/lib/python3.11/site-packages/memory_profiler.py:1113\u001b[0m, in \u001b[0;36mMemoryProfilerMagics.memit\u001b[0;34m(self, line, cell)\u001b[0m\n\u001b[1;32m   1111\u001b[0m \u001b[39mwhile\u001b[39;00m counter \u001b[39m<\u001b[39m repeat:\n\u001b[1;32m   1112\u001b[0m     counter \u001b[39m+\u001b[39m\u001b[39m=\u001b[39m \u001b[39m1\u001b[39m\n\u001b[0;32m-> 1113\u001b[0m     tmp \u001b[39m=\u001b[39m memory_usage((_func_exec, (stmt, \u001b[39mself\u001b[39;49m\u001b[39m.\u001b[39;49mshell\u001b[39m.\u001b[39;49muser_ns)),\n\u001b[1;32m   1114\u001b[0m                        timeout\u001b[39m=\u001b[39;49mtimeout, interval\u001b[39m=\u001b[39;49minterval,\n\u001b[1;32m   1115\u001b[0m                        max_usage\u001b[39m=\u001b[39;49m\u001b[39mTrue\u001b[39;49;00m, max_iterations\u001b[39m=\u001b[39;49m\u001b[39m1\u001b[39;49m,\n\u001b[1;32m   1116\u001b[0m                        include_children\u001b[39m=\u001b[39;49minclude_children)\n\u001b[1;32m   1117\u001b[0m     mem_usage\u001b[39m.\u001b[39mappend(tmp)\n\u001b[1;32m   1119\u001b[0m result \u001b[39m=\u001b[39m MemitResult(mem_usage, baseline, repeat, timeout, interval,\n\u001b[1;32m   1120\u001b[0m                      include_children)\n",
      "File \u001b[0;32m~/Desktop/Proyecto_Steam/venv/lib/python3.11/site-packages/memory_profiler.py:379\u001b[0m, in \u001b[0;36mmemory_usage\u001b[0;34m(proc, interval, timeout, timestamps, include_children, multiprocess, max_usage, retval, stream, backend, max_iterations)\u001b[0m\n\u001b[1;32m    376\u001b[0m \u001b[39m# When there is an exception in the \"proc\" - the (spawned) monitoring processes don't get killed.\u001b[39;00m\n\u001b[1;32m    377\u001b[0m \u001b[39m# Therefore, the whole process hangs indefinitely. Here, we are ensuring that the process gets killed!\u001b[39;00m\n\u001b[1;32m    378\u001b[0m \u001b[39mtry\u001b[39;00m:\n\u001b[0;32m--> 379\u001b[0m     returned \u001b[39m=\u001b[39m f(\u001b[39m*\u001b[39;49margs, \u001b[39m*\u001b[39;49m\u001b[39m*\u001b[39;49mkw)\n\u001b[1;32m    380\u001b[0m     parent_conn\u001b[39m.\u001b[39msend(\u001b[39m0\u001b[39m)  \u001b[39m# finish timing\u001b[39;00m\n\u001b[1;32m    381\u001b[0m     ret \u001b[39m=\u001b[39m parent_conn\u001b[39m.\u001b[39mrecv()\n",
      "File \u001b[0;32m~/Desktop/Proyecto_Steam/venv/lib/python3.11/site-packages/memory_profiler.py:889\u001b[0m, in \u001b[0;36m_func_exec\u001b[0;34m(stmt, ns)\u001b[0m\n\u001b[1;32m    886\u001b[0m \u001b[39mdef\u001b[39;00m \u001b[39m_func_exec\u001b[39m(stmt, ns):\n\u001b[1;32m    887\u001b[0m     \u001b[39m# helper for magic_memit, just a function proxy for the exec\u001b[39;00m\n\u001b[1;32m    888\u001b[0m     \u001b[39m# statement\u001b[39;00m\n\u001b[0;32m--> 889\u001b[0m     exec(stmt, ns)\n",
      "File \u001b[0;32m<string>:1\u001b[0m\n",
      "\u001b[0;31mNameError\u001b[0m: name 'developer' is not defined"
     ]
    }
   ],
   "source": [
    "%memit developer('Valve')"
   ]
  },
  {
   "cell_type": "code",
   "execution_count": 135,
   "metadata": {},
   "outputs": [
    {
     "data": {
      "text/plain": [
       "True"
      ]
     },
     "execution_count": 135,
     "metadata": {},
     "output_type": "execute_result"
    }
   ],
   "source": [
    "'Valve' in list(df['developer'])"
   ]
  },
  {
   "cell_type": "code",
   "execution_count": 287,
   "metadata": {},
   "outputs": [],
   "source": [
    "def userdata(x):\n",
    "    \n",
    "    \n",
    "    precios = []\n",
    "    respuesta = {}\n",
    "    \n",
    "    \n",
    "    usuario = item.loc[item['user_id'] == x]['items']\n",
    "    if not usuario.empty:\n",
    "        usuario = usuario.iloc[0]\n",
    "    data = ast.literal_eval(usuario)\n",
    "    result = pd.DataFrame(data)\n",
    "    result.dropna(inplace=True)\n",
    "    \n",
    "    \n",
    "    for y in result['item_name']:\n",
    "        price = df.loc[df['app_name'] == y]['price'].values\n",
    "        if len(price) > 0:\n",
    "            try: \n",
    "                price_value = float(price[0])\n",
    "                precios.append(price_value)\n",
    "            except ValueError:\n",
    "                pass  \n",
    "\n",
    "    respuesta['Usuario'] = x\n",
    "    respuesta['Dinero gastado'] = str(round(sum(precios)))+' USD'\n",
    "    respuesta[\"cantidad de items\"] = item.loc[item['user_id'] == x]['items_count'].values[0]\n",
    "\n",
    "    coment = len(opinion.loc[opinion['user'] == x])\n",
    "\n",
    "    respuesta['Porcentaje de recomendaciones'] = str(round(((len(opinion.loc[opinion['user'] == x]) / item.loc[item['user_id'] == x]['items_count'].values[0])) * 100,2))+ '%'\n",
    "\n",
    "\n",
    "    return respuesta\n",
    "\n",
    "\n"
   ]
  },
  {
   "cell_type": "code",
   "execution_count": 155,
   "metadata": {},
   "outputs": [],
   "source": [
    "usuarios = {'Usuario': '', 'Dinero gastado': '','cantidad de items': '','Porcentaje de recomendaciones': ''}"
   ]
  },
  {
   "cell_type": "code",
   "execution_count": 164,
   "metadata": {},
   "outputs": [
    {
     "ename": "KeyboardInterrupt",
     "evalue": "",
     "output_type": "error",
     "traceback": [
      "\u001b[0;31m---------------------------------------------------------------------------\u001b[0m",
      "\u001b[0;31mKeyboardInterrupt\u001b[0m                         Traceback (most recent call last)",
      "\u001b[1;32m/Users/jonathancastillo/Desktop/Proyecto_Steam/End_points.ipynb Celda 10\u001b[0m line \u001b[0;36m2\n\u001b[1;32m      <a href='vscode-notebook-cell:/Users/jonathancastillo/Desktop/Proyecto_Steam/End_points.ipynb#X50sZmlsZQ%3D%3D?line=0'>1</a>\u001b[0m \u001b[39mfor\u001b[39;00m x \u001b[39min\u001b[39;00m \u001b[39mlist\u001b[39m(item[\u001b[39m'\u001b[39m\u001b[39muser_id\u001b[39m\u001b[39m'\u001b[39m]):\n\u001b[0;32m----> <a href='vscode-notebook-cell:/Users/jonathancastillo/Desktop/Proyecto_Steam/End_points.ipynb#X50sZmlsZQ%3D%3D?line=1'>2</a>\u001b[0m     aux \u001b[39m=\u001b[39m userdata(x)\n\u001b[1;32m      <a href='vscode-notebook-cell:/Users/jonathancastillo/Desktop/Proyecto_Steam/End_points.ipynb#X50sZmlsZQ%3D%3D?line=2'>3</a>\u001b[0m     usuarios[\u001b[39m'\u001b[39m\u001b[39mUsuario\u001b[39m\u001b[39m'\u001b[39m] \u001b[39m+\u001b[39m\u001b[39m=\u001b[39m aux[\u001b[39m'\u001b[39m\u001b[39mUsuario\u001b[39m\u001b[39m'\u001b[39m]\n\u001b[1;32m      <a href='vscode-notebook-cell:/Users/jonathancastillo/Desktop/Proyecto_Steam/End_points.ipynb#X50sZmlsZQ%3D%3D?line=3'>4</a>\u001b[0m     usuarios[\u001b[39m'\u001b[39m\u001b[39mDinero gastado\u001b[39m\u001b[39m'\u001b[39m] \u001b[39m+\u001b[39m\u001b[39m=\u001b[39m aux[\u001b[39m'\u001b[39m\u001b[39mDinero gastado\u001b[39m\u001b[39m'\u001b[39m]\n",
      "\u001b[1;32m/Users/jonathancastillo/Desktop/Proyecto_Steam/End_points.ipynb Celda 10\u001b[0m line \u001b[0;36m1\n\u001b[1;32m     <a href='vscode-notebook-cell:/Users/jonathancastillo/Desktop/Proyecto_Steam/End_points.ipynb#X50sZmlsZQ%3D%3D?line=12'>13</a>\u001b[0m result\u001b[39m.\u001b[39mdropna(inplace\u001b[39m=\u001b[39m\u001b[39mTrue\u001b[39;00m)\n\u001b[1;32m     <a href='vscode-notebook-cell:/Users/jonathancastillo/Desktop/Proyecto_Steam/End_points.ipynb#X50sZmlsZQ%3D%3D?line=15'>16</a>\u001b[0m \u001b[39mfor\u001b[39;00m y \u001b[39min\u001b[39;00m result[\u001b[39m'\u001b[39m\u001b[39mitem_name\u001b[39m\u001b[39m'\u001b[39m]:\n\u001b[0;32m---> <a href='vscode-notebook-cell:/Users/jonathancastillo/Desktop/Proyecto_Steam/End_points.ipynb#X50sZmlsZQ%3D%3D?line=16'>17</a>\u001b[0m     price \u001b[39m=\u001b[39m df\u001b[39m.\u001b[39mloc[df[\u001b[39m'\u001b[39;49m\u001b[39mapp_name\u001b[39;49m\u001b[39m'\u001b[39;49m] \u001b[39m==\u001b[39;49m y][\u001b[39m'\u001b[39m\u001b[39mprice\u001b[39m\u001b[39m'\u001b[39m]\u001b[39m.\u001b[39mvalues\n\u001b[1;32m     <a href='vscode-notebook-cell:/Users/jonathancastillo/Desktop/Proyecto_Steam/End_points.ipynb#X50sZmlsZQ%3D%3D?line=17'>18</a>\u001b[0m     \u001b[39mif\u001b[39;00m \u001b[39mlen\u001b[39m(price) \u001b[39m>\u001b[39m \u001b[39m0\u001b[39m:\n\u001b[1;32m     <a href='vscode-notebook-cell:/Users/jonathancastillo/Desktop/Proyecto_Steam/End_points.ipynb#X50sZmlsZQ%3D%3D?line=18'>19</a>\u001b[0m         \u001b[39mtry\u001b[39;00m: \n",
      "File \u001b[0;32m~/Desktop/Proyecto_Steam/venv/lib/python3.11/site-packages/pandas/core/ops/common.py:76\u001b[0m, in \u001b[0;36m_unpack_zerodim_and_defer.<locals>.new_method\u001b[0;34m(self, other)\u001b[0m\n\u001b[1;32m     72\u001b[0m             \u001b[39mreturn\u001b[39;00m \u001b[39mNotImplemented\u001b[39m\n\u001b[1;32m     74\u001b[0m other \u001b[39m=\u001b[39m item_from_zerodim(other)\n\u001b[0;32m---> 76\u001b[0m \u001b[39mreturn\u001b[39;00m method(\u001b[39mself\u001b[39;49m, other)\n",
      "File \u001b[0;32m~/Desktop/Proyecto_Steam/venv/lib/python3.11/site-packages/pandas/core/arraylike.py:40\u001b[0m, in \u001b[0;36mOpsMixin.__eq__\u001b[0;34m(self, other)\u001b[0m\n\u001b[1;32m     38\u001b[0m \u001b[39m@unpack_zerodim_and_defer\u001b[39m(\u001b[39m\"\u001b[39m\u001b[39m__eq__\u001b[39m\u001b[39m\"\u001b[39m)\n\u001b[1;32m     39\u001b[0m \u001b[39mdef\u001b[39;00m \u001b[39m__eq__\u001b[39m(\u001b[39mself\u001b[39m, other):\n\u001b[0;32m---> 40\u001b[0m     \u001b[39mreturn\u001b[39;00m \u001b[39mself\u001b[39;49m\u001b[39m.\u001b[39;49m_cmp_method(other, operator\u001b[39m.\u001b[39;49meq)\n",
      "File \u001b[0;32m~/Desktop/Proyecto_Steam/venv/lib/python3.11/site-packages/pandas/core/series.py:5799\u001b[0m, in \u001b[0;36mSeries._cmp_method\u001b[0;34m(self, other, op)\u001b[0m\n\u001b[1;32m   5796\u001b[0m lvalues \u001b[39m=\u001b[39m \u001b[39mself\u001b[39m\u001b[39m.\u001b[39m_values\n\u001b[1;32m   5797\u001b[0m rvalues \u001b[39m=\u001b[39m extract_array(other, extract_numpy\u001b[39m=\u001b[39m\u001b[39mTrue\u001b[39;00m, extract_range\u001b[39m=\u001b[39m\u001b[39mTrue\u001b[39;00m)\n\u001b[0;32m-> 5799\u001b[0m res_values \u001b[39m=\u001b[39m ops\u001b[39m.\u001b[39;49mcomparison_op(lvalues, rvalues, op)\n\u001b[1;32m   5801\u001b[0m \u001b[39mreturn\u001b[39;00m \u001b[39mself\u001b[39m\u001b[39m.\u001b[39m_construct_result(res_values, name\u001b[39m=\u001b[39mres_name)\n",
      "File \u001b[0;32m~/Desktop/Proyecto_Steam/venv/lib/python3.11/site-packages/pandas/core/ops/array_ops.py:346\u001b[0m, in \u001b[0;36mcomparison_op\u001b[0;34m(left, right, op)\u001b[0m\n\u001b[1;32m    343\u001b[0m     \u001b[39mreturn\u001b[39;00m invalid_comparison(lvalues, rvalues, op)\n\u001b[1;32m    345\u001b[0m \u001b[39melif\u001b[39;00m lvalues\u001b[39m.\u001b[39mdtype \u001b[39m==\u001b[39m \u001b[39mobject\u001b[39m \u001b[39mor\u001b[39;00m \u001b[39misinstance\u001b[39m(rvalues, \u001b[39mstr\u001b[39m):\n\u001b[0;32m--> 346\u001b[0m     res_values \u001b[39m=\u001b[39m comp_method_OBJECT_ARRAY(op, lvalues, rvalues)\n\u001b[1;32m    348\u001b[0m \u001b[39melse\u001b[39;00m:\n\u001b[1;32m    349\u001b[0m     res_values \u001b[39m=\u001b[39m _na_arithmetic_op(lvalues, rvalues, op, is_cmp\u001b[39m=\u001b[39m\u001b[39mTrue\u001b[39;00m)\n",
      "File \u001b[0;32m~/Desktop/Proyecto_Steam/venv/lib/python3.11/site-packages/pandas/core/ops/array_ops.py:131\u001b[0m, in \u001b[0;36mcomp_method_OBJECT_ARRAY\u001b[0;34m(op, x, y)\u001b[0m\n\u001b[1;32m    129\u001b[0m     result \u001b[39m=\u001b[39m libops\u001b[39m.\u001b[39mvec_compare(x\u001b[39m.\u001b[39mravel(), y\u001b[39m.\u001b[39mravel(), op)\n\u001b[1;32m    130\u001b[0m \u001b[39melse\u001b[39;00m:\n\u001b[0;32m--> 131\u001b[0m     result \u001b[39m=\u001b[39m libops\u001b[39m.\u001b[39;49mscalar_compare(x\u001b[39m.\u001b[39;49mravel(), y, op)\n\u001b[1;32m    132\u001b[0m \u001b[39mreturn\u001b[39;00m result\u001b[39m.\u001b[39mreshape(x\u001b[39m.\u001b[39mshape)\n",
      "\u001b[0;31mKeyboardInterrupt\u001b[0m: "
     ]
    }
   ],
   "source": [
    "for x in list(item['user_id']):\n",
    "    aux = userdata(x)\n",
    "    usuarios['Usuario'] += aux['Usuario']\n",
    "    usuarios['Dinero gastado'] += aux['Dinero gastado']\n",
    "    usuarios['cantidad de items'] += str(aux['cantidad de items'])\n",
    "    usuarios['Porcentaje de recomendaciones'] += aux['Porcentaje de recomendaciones']"
   ]
  },
  {
   "cell_type": "code",
   "execution_count": 42,
   "metadata": {},
   "outputs": [
    {
     "ename": "IndexError",
     "evalue": "index 0 is out of bounds for axis 0 with size 0",
     "output_type": "error",
     "traceback": [
      "\u001b[1;31m---------------------------------------------------------------------------\u001b[0m",
      "\u001b[1;31mIndexError\u001b[0m                                Traceback (most recent call last)",
      "\u001b[1;32mc:\\Users\\jonat\\Desktop\\ML_OPS\\PI MLOps - STEAM\\End_points.ipynb Celda 12\u001b[0m line \u001b[0;36m2\n\u001b[0;32m     <a href='vscode-notebook-cell:/c%3A/Users/jonat/Desktop/ML_OPS/PI%20MLOps%20-%20STEAM/End_points.ipynb#Y120sZmlsZQ%3D%3D?line=18'>19</a>\u001b[0m mayor[\u001b[39m'\u001b[39m\u001b[39mgenero\u001b[39m\u001b[39m'\u001b[39m] \u001b[39m=\u001b[39m e\n\u001b[0;32m     <a href='vscode-notebook-cell:/c%3A/Users/jonat/Desktop/ML_OPS/PI%20MLOps%20-%20STEAM/End_points.ipynb#Y120sZmlsZQ%3D%3D?line=19'>20</a>\u001b[0m mayor[\u001b[39m'\u001b[39m\u001b[39musuario\u001b[39m\u001b[39m'\u001b[39m] \u001b[39m=\u001b[39m x\n\u001b[1;32m---> <a href='vscode-notebook-cell:/c%3A/Users/jonat/Desktop/ML_OPS/PI%20MLOps%20-%20STEAM/End_points.ipynb#Y120sZmlsZQ%3D%3D?line=20'>21</a>\u001b[0m mayor[\u001b[39m'\u001b[39m\u001b[39mjuego\u001b[39m\u001b[39m'\u001b[39m] \u001b[39m=\u001b[39m \u001b[39mmax\u001b[39;49m[\u001b[39m'\u001b[39;49m\u001b[39mitem_name\u001b[39;49m\u001b[39m'\u001b[39;49m]\u001b[39m.\u001b[39;49mvalues[\u001b[39m0\u001b[39;49m]\n\u001b[0;32m     <a href='vscode-notebook-cell:/c%3A/Users/jonat/Desktop/ML_OPS/PI%20MLOps%20-%20STEAM/End_points.ipynb#Y120sZmlsZQ%3D%3D?line=21'>22</a>\u001b[0m mayor[\u001b[39m'\u001b[39m\u001b[39mhoras\u001b[39m\u001b[39m'\u001b[39m] \u001b[39m=\u001b[39m \u001b[39mmax\u001b[39m[\u001b[39m'\u001b[39m\u001b[39mplaytime_forever\u001b[39m\u001b[39m'\u001b[39m]\u001b[39m.\u001b[39mvalues\n\u001b[0;32m     <a href='vscode-notebook-cell:/c%3A/Users/jonat/Desktop/ML_OPS/PI%20MLOps%20-%20STEAM/End_points.ipynb#Y120sZmlsZQ%3D%3D?line=22'>23</a>\u001b[0m mayor[\u001b[39m'\u001b[39m\u001b[39manio\u001b[39m\u001b[39m'\u001b[39m] \u001b[39m=\u001b[39m \u001b[39mmax\u001b[39m[\u001b[39m'\u001b[39m\u001b[39mrelease_date\u001b[39m\u001b[39m'\u001b[39m]\u001b[39m.\u001b[39mvalues\n",
      "\u001b[1;31mIndexError\u001b[0m: index 0 is out of bounds for axis 0 with size 0"
     ]
    }
   ],
   "source": [
    "\n",
    "mayor = {'genero': '','usuario' : '','juego' : '','anio' : '','horas' : ''}\n",
    "\n",
    "\n",
    "for x,y in usuario.items():\n",
    "    \n",
    "    for e in filtro:\n",
    "\n",
    "        data = ast.literal_eval(y)\n",
    "        result = pd.DataFrame(data)\n",
    "        result.dropna(inplace=True)\n",
    "        result = pd.merge(result, df[['app_name',e,'release_date']], left_on='item_name', right_on='app_name')\n",
    "\n",
    "\n",
    "        parafiltro = result.loc[result[e] == 1]\n",
    "\n",
    "\n",
    "        max = parafiltro.loc[parafiltro['playtime_forever'] == parafiltro['playtime_forever'].max()]\n",
    "\n",
    "        \n",
    "\n",
    "\n",
    "mayor"
   ]
  },
  {
   "cell_type": "code",
   "execution_count": null,
   "metadata": {},
   "outputs": [],
   "source": [
    "\n",
    "\n",
    "data = ast.literal_eval(y)\n",
    "result = pd.DataFrame(data)\n",
    "result.dropna(inplace=True)\n",
    "result = pd.merge(result, df[['app_name',e,'release_date']], left_on='item_name', right_on='app_name')\n",
    "\n",
    "\n",
    "parafiltro = result.loc[result[e] == 1]\n",
    "\n",
    "\n",
    "max = parafiltro.loc[parafiltro['playtime_forever'] == parafiltro['playtime_forever'].max()]"
   ]
  },
  {
   "cell_type": "code",
   "execution_count": 124,
   "metadata": {},
   "outputs": [],
   "source": [
    "item = pd.read_csv(r'data_set_limpio/items_preparado.csv.gz', chunksize= 1000)"
   ]
  },
  {
   "cell_type": "code",
   "execution_count": 17,
   "metadata": {},
   "outputs": [],
   "source": [
    "def userdata(user: str):\n",
    "    \n",
    "    try:\n",
    "        for x in pd.read_csv(r'data_set_limpio/items_preparado.csv.gz', chunksize=1000):\n",
    "            if user in list(x['user_id']):\n",
    "                aux = x\n",
    "                break\n",
    "        \n",
    "                \n",
    "            \n",
    "        \n",
    "        precios = []\n",
    "        respuesta = {}\n",
    "        \n",
    "        \n",
    "        usuario = aux.loc[aux['user_id'] == user]['items']\n",
    "        \n",
    "        \n",
    "        if not usuario.empty:\n",
    "            usuario = usuario.iloc[0]\n",
    "        data = ast.literal_eval(usuario)\n",
    "        result = pd.DataFrame(data)\n",
    "        result.dropna(inplace=True)\n",
    "        \n",
    "\n",
    "        for y in result['item_name']:\n",
    "            price = df.loc[df['app_name'] == y]['price'].values\n",
    "            if len(price) > 0:\n",
    "                try: \n",
    "                    price_value = float(price[0])\n",
    "                    precios.append(price_value)\n",
    "                except ValueError:\n",
    "                    pass  \n",
    "                \n",
    "        respuesta['Usuario'] = user\n",
    "        respuesta['Dinero gastado'] = str(round(sum(precios)))+' USD'\n",
    "        respuesta[\"cantidad de items\"] = str(len(result))\n",
    "        \n",
    "        respuesta['Porcentaje de recomendaciones'] = str(round(((len(opinion.loc[opinion['user'] == user]) / len(result))) * 100,2))+ '%'\n",
    "        \n",
    "        return respuesta\n",
    "    except:\n",
    "        return 'El usuario no se encuentra en la base de datos.'\n"
   ]
  },
  {
   "cell_type": "code",
   "execution_count": 19,
   "metadata": {},
   "outputs": [
    {
     "name": "stdout",
     "output_type": "stream",
     "text": [
      "peak memory: 527.36 MiB, increment: 0.03 MiB\n"
     ]
    }
   ],
   "source": [
    "%memit userdata('76561197970982479')"
   ]
  },
  {
   "cell_type": "code",
   "execution_count": null,
   "metadata": {},
   "outputs": [],
   "source": []
  },
  {
   "cell_type": "code",
   "execution_count": 12,
   "metadata": {},
   "outputs": [
    {
     "data": {
      "text/plain": [
       "{'Usuario': '76561197970982479',\n",
       " 'Dinero gastado': '2315 USD',\n",
       " 'cantidad de items': '277',\n",
       " 'Porcentaje de recomendaciones': '1.08%'}"
      ]
     },
     "execution_count": 12,
     "metadata": {},
     "output_type": "execute_result"
    }
   ],
   "source": [
    "userdata('76561197970982479')"
   ]
  },
  {
   "cell_type": "code",
   "execution_count": 279,
   "metadata": {},
   "outputs": [
    {
     "data": {
      "text/html": [
       "<div>\n",
       "<style scoped>\n",
       "    .dataframe tbody tr th:only-of-type {\n",
       "        vertical-align: middle;\n",
       "    }\n",
       "\n",
       "    .dataframe tbody tr th {\n",
       "        vertical-align: top;\n",
       "    }\n",
       "\n",
       "    .dataframe thead th {\n",
       "        text-align: right;\n",
       "    }\n",
       "</style>\n",
       "<table border=\"1\" class=\"dataframe\">\n",
       "  <thead>\n",
       "    <tr style=\"text-align: right;\">\n",
       "      <th></th>\n",
       "      <th>posted</th>\n",
       "      <th>item_id</th>\n",
       "      <th>helpful</th>\n",
       "      <th>recommend</th>\n",
       "      <th>review</th>\n",
       "      <th>user</th>\n",
       "      <th>opinion</th>\n",
       "    </tr>\n",
       "  </thead>\n",
       "  <tbody>\n",
       "    <tr>\n",
       "      <th>0</th>\n",
       "      <td>Posted November 5, 2011.</td>\n",
       "      <td>1250</td>\n",
       "      <td>No ratings yet</td>\n",
       "      <td>True</td>\n",
       "      <td>Simple yet with great replayability. In my opi...</td>\n",
       "      <td>76561197970982479</td>\n",
       "      <td>1</td>\n",
       "    </tr>\n",
       "    <tr>\n",
       "      <th>1</th>\n",
       "      <td>Posted July 15, 2011.</td>\n",
       "      <td>22200</td>\n",
       "      <td>No ratings yet</td>\n",
       "      <td>True</td>\n",
       "      <td>It's unique and worth a playthrough.</td>\n",
       "      <td>76561197970982479</td>\n",
       "      <td>1</td>\n",
       "    </tr>\n",
       "    <tr>\n",
       "      <th>2</th>\n",
       "      <td>Posted April 21, 2011.</td>\n",
       "      <td>43110</td>\n",
       "      <td>No ratings yet</td>\n",
       "      <td>True</td>\n",
       "      <td>Great atmosphere. The gunplay can be a bit chu...</td>\n",
       "      <td>76561197970982479</td>\n",
       "      <td>1</td>\n",
       "    </tr>\n",
       "    <tr>\n",
       "      <th>3</th>\n",
       "      <td>Posted June 24, 2014.</td>\n",
       "      <td>251610</td>\n",
       "      <td>15 of 20 people (75%) found this review helpful</td>\n",
       "      <td>True</td>\n",
       "      <td>I know what you think when you see this title ...</td>\n",
       "      <td>js41637</td>\n",
       "      <td>1</td>\n",
       "    </tr>\n",
       "    <tr>\n",
       "      <th>4</th>\n",
       "      <td>Posted September 8, 2013.</td>\n",
       "      <td>227300</td>\n",
       "      <td>0 of 1 people (0%) found this review helpful</td>\n",
       "      <td>True</td>\n",
       "      <td>For a simple (it's actually not all that simpl...</td>\n",
       "      <td>js41637</td>\n",
       "      <td>1</td>\n",
       "    </tr>\n",
       "    <tr>\n",
       "      <th>...</th>\n",
       "      <td>...</td>\n",
       "      <td>...</td>\n",
       "      <td>...</td>\n",
       "      <td>...</td>\n",
       "      <td>...</td>\n",
       "      <td>...</td>\n",
       "      <td>...</td>\n",
       "    </tr>\n",
       "    <tr>\n",
       "      <th>59300</th>\n",
       "      <td>Posted July 10.</td>\n",
       "      <td>70</td>\n",
       "      <td>No ratings yet</td>\n",
       "      <td>True</td>\n",
       "      <td>a must have classic from steam definitely wort...</td>\n",
       "      <td>76561198312638244</td>\n",
       "      <td>1</td>\n",
       "    </tr>\n",
       "    <tr>\n",
       "      <th>59301</th>\n",
       "      <td>Posted July 8.</td>\n",
       "      <td>362890</td>\n",
       "      <td>No ratings yet</td>\n",
       "      <td>True</td>\n",
       "      <td>this game is a perfect remake of the original ...</td>\n",
       "      <td>76561198312638244</td>\n",
       "      <td>1</td>\n",
       "    </tr>\n",
       "    <tr>\n",
       "      <th>59302</th>\n",
       "      <td>Posted July 3.</td>\n",
       "      <td>273110</td>\n",
       "      <td>1 of 2 people (50%) found this review helpful</td>\n",
       "      <td>True</td>\n",
       "      <td>had so much fun plaing this and collecting res...</td>\n",
       "      <td>LydiaMorley</td>\n",
       "      <td>1</td>\n",
       "    </tr>\n",
       "    <tr>\n",
       "      <th>59303</th>\n",
       "      <td>Posted July 20.</td>\n",
       "      <td>730</td>\n",
       "      <td>No ratings yet</td>\n",
       "      <td>True</td>\n",
       "      <td>:D</td>\n",
       "      <td>LydiaMorley</td>\n",
       "      <td>2</td>\n",
       "    </tr>\n",
       "    <tr>\n",
       "      <th>59304</th>\n",
       "      <td>Posted July 2.</td>\n",
       "      <td>440</td>\n",
       "      <td>No ratings yet</td>\n",
       "      <td>True</td>\n",
       "      <td>so much fun :D</td>\n",
       "      <td>LydiaMorley</td>\n",
       "      <td>2</td>\n",
       "    </tr>\n",
       "  </tbody>\n",
       "</table>\n",
       "<p>59305 rows × 7 columns</p>\n",
       "</div>"
      ],
      "text/plain": [
       "                          posted  item_id  \\\n",
       "0       Posted November 5, 2011.     1250   \n",
       "1          Posted July 15, 2011.    22200   \n",
       "2         Posted April 21, 2011.    43110   \n",
       "3          Posted June 24, 2014.   251610   \n",
       "4      Posted September 8, 2013.   227300   \n",
       "...                          ...      ...   \n",
       "59300            Posted July 10.       70   \n",
       "59301             Posted July 8.   362890   \n",
       "59302             Posted July 3.   273110   \n",
       "59303            Posted July 20.      730   \n",
       "59304             Posted July 2.      440   \n",
       "\n",
       "                                               helpful  recommend  \\\n",
       "0                                       No ratings yet       True   \n",
       "1                                       No ratings yet       True   \n",
       "2                                       No ratings yet       True   \n",
       "3      15 of 20 people (75%) found this review helpful       True   \n",
       "4         0 of 1 people (0%) found this review helpful       True   \n",
       "...                                                ...        ...   \n",
       "59300                                   No ratings yet       True   \n",
       "59301                                   No ratings yet       True   \n",
       "59302    1 of 2 people (50%) found this review helpful       True   \n",
       "59303                                   No ratings yet       True   \n",
       "59304                                   No ratings yet       True   \n",
       "\n",
       "                                                  review               user  \\\n",
       "0      Simple yet with great replayability. In my opi...  76561197970982479   \n",
       "1                   It's unique and worth a playthrough.  76561197970982479   \n",
       "2      Great atmosphere. The gunplay can be a bit chu...  76561197970982479   \n",
       "3      I know what you think when you see this title ...            js41637   \n",
       "4      For a simple (it's actually not all that simpl...            js41637   \n",
       "...                                                  ...                ...   \n",
       "59300  a must have classic from steam definitely wort...  76561198312638244   \n",
       "59301  this game is a perfect remake of the original ...  76561198312638244   \n",
       "59302  had so much fun plaing this and collecting res...        LydiaMorley   \n",
       "59303                                                 :D        LydiaMorley   \n",
       "59304                                     so much fun :D        LydiaMorley   \n",
       "\n",
       "       opinion  \n",
       "0            1  \n",
       "1            1  \n",
       "2            1  \n",
       "3            1  \n",
       "4            1  \n",
       "...        ...  \n",
       "59300        1  \n",
       "59301        1  \n",
       "59302        1  \n",
       "59303        2  \n",
       "59304        2  \n",
       "\n",
       "[59305 rows x 7 columns]"
      ]
     },
     "execution_count": 279,
     "metadata": {},
     "output_type": "execute_result"
    }
   ],
   "source": [
    "opinion"
   ]
  }
 ],
 "metadata": {
  "kernelspec": {
   "display_name": "Python 3",
   "language": "python",
   "name": "python3"
  },
  "language_info": {
   "codemirror_mode": {
    "name": "ipython",
    "version": 3
   },
   "file_extension": ".py",
   "mimetype": "text/x-python",
   "name": "python",
   "nbconvert_exporter": "python",
   "pygments_lexer": "ipython3",
   "version": "3.11.4"
  }
 },
 "nbformat": 4,
 "nbformat_minor": 2
}
