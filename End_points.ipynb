{
 "cells": [
  {
   "cell_type": "code",
   "execution_count": 4,
   "metadata": {},
   "outputs": [
    {
     "name": "stdout",
     "output_type": "stream",
     "text": [
      "The memory_profiler extension is already loaded. To reload it, use:\n",
      "  %reload_ext memory_profiler\n"
     ]
    }
   ],
   "source": [
    "import pandas as pd\n",
    "import ast\n",
    "from funciones import extract\n",
    "import pyarrow\n",
    "import json\n",
    "import gzip\n",
    "import pandas as pd\n",
    "import pyarrow as pa\n",
    "import pyarrow.parquet as pq\n",
    "%load_ext memory_profiler\n",
    "import pyarrow.parquet as pq\n"
   ]
  },
  {
   "cell_type": "code",
   "execution_count": 5,
   "metadata": {},
   "outputs": [
    {
     "name": "stdout",
     "output_type": "stream",
     "text": [
      "peak memory: 152.62 MiB, increment: 22.25 MiB\n"
     ]
    }
   ],
   "source": [
    "df = pd.read_csv(r'data_set_limpio/games_preparado.csv.gz')"
   ]
  },
  {
   "cell_type": "code",
   "execution_count": 7,
   "metadata": {},
   "outputs": [
    {
     "name": "stdout",
     "output_type": "stream",
     "text": [
      "peak memory: 1628.27 MiB, increment: 1484.53 MiB\n"
     ]
    }
   ],
   "source": [
    "item = pd.read_csv(r'data_set_limpio/items_preparado.csv.gz')"
   ]
  },
  {
   "cell_type": "code",
   "execution_count": 9,
   "metadata": {},
   "outputs": [
    {
     "name": "stdout",
     "output_type": "stream",
     "text": [
      "peak memory: 1188.91 MiB, increment: 49.68 MiB\n"
     ]
    }
   ],
   "source": [
    "opinion = pd.read_csv(r'data_set_limpio/reviews_preparado.csv.gz')"
   ]
  },
  {
   "cell_type": "code",
   "execution_count": 9,
   "metadata": {},
   "outputs": [],
   "source": [
    "def developer(x):\n",
    "    if x not in list(df['developer']):\n",
    "        return 'El desarrollador no se encuentra en la base de datos'\n",
    "    \n",
    "    fecha_inicio = df.loc[df['developer'] == x]['release_date'].min()[:4]\n",
    "    fecha_final =  df.loc[df['developer'] == x]['release_date'].max()\n",
    "    \n",
    "    anio = {}\n",
    "    \n",
    "    free = {}\n",
    "    \n",
    "    while fecha_inicio <= fecha_final:\n",
    "        if len(df[(df['release_date'] >= fecha_inicio) & (df['release_date'] <= fecha_inicio[:4]+'-12-31') & (df['developer'] == x)]) > 0:\n",
    "            anio[fecha_inicio[:4]] = len(df[(df['release_date'] >= fecha_inicio) & (df['release_date'] <= fecha_inicio[:4]+'-12-31') & (df['developer'] == x)])\n",
    "            free[fecha_inicio[:4]] = len(df[(df['release_date'] >= fecha_inicio) & (df['release_date'] <= fecha_inicio[:4]+'-12-31') & (df['developer'] == x) & ((df['price'] == 'Free') | (df['price'] == 'Free to Play') )])\n",
    "        fecha_inicio = str(int(fecha_inicio[:4])+1)+'-01-01'\n",
    "\n",
    "\n",
    "    for x,y  in free.items():\n",
    "        free[x] = str(round((y / anio[x])*100,2))+'%'\n",
    "\n",
    "\n",
    "    resultado = {'Cantidad de Items': anio,'Contenido Free':free}\n",
    "\n",
    "    \n",
    "    return resultado\n",
    "\n",
    "\n"
   ]
  },
  {
   "cell_type": "code",
   "execution_count": 29,
   "metadata": {},
   "outputs": [
    {
     "data": {
      "text/plain": [
       "{'Cantidad de Items': {'1998': 1,\n",
       "  '1999': 1,\n",
       "  '2000': 2,\n",
       "  '2001': 1,\n",
       "  '2003': 1,\n",
       "  '2004': 5,\n",
       "  '2006': 2,\n",
       "  '2007': 3,\n",
       "  '2008': 1,\n",
       "  '2009': 1,\n",
       "  '2010': 2,\n",
       "  '2011': 1,\n",
       "  '2012': 1,\n",
       "  '2017': 2},\n",
       " 'Contenido Free': {'1998': '0.0%',\n",
       "  '1999': '0.0%',\n",
       "  '2000': '0.0%',\n",
       "  '2001': '0.0%',\n",
       "  '2003': '0.0%',\n",
       "  '2004': '0.0%',\n",
       "  '2006': '0.0%',\n",
       "  '2007': '33.33%',\n",
       "  '2008': '0.0%',\n",
       "  '2009': '0.0%',\n",
       "  '2010': '50.0%',\n",
       "  '2011': '0.0%',\n",
       "  '2012': '0.0%',\n",
       "  '2017': '0.0%'}}"
      ]
     },
     "execution_count": 29,
     "metadata": {},
     "output_type": "execute_result"
    }
   ],
   "source": [
    "developer('Valve')"
   ]
  },
  {
   "cell_type": "code",
   "execution_count": 7,
   "metadata": {},
   "outputs": [],
   "source": [
    "def userdata(user: str):\n",
    "    \n",
    "    try:\n",
    "        for x in pd.read_csv(r'data_set_limpio/items_preparado.csv.gz', chunksize=3000):\n",
    "            if user in list(x['user_id']):\n",
    "                aux = x\n",
    "                break\n",
    "            x = 0\n",
    "        \n",
    "        \n",
    "        \n",
    "        precios = []\n",
    "        respuesta = {}\n",
    "        \n",
    "        \n",
    "        usuario = aux.loc[aux['user_id'] == user]['items']\n",
    "        \n",
    "        \n",
    "        if not usuario.empty:\n",
    "            usuario = usuario.iloc[0]\n",
    "        data = ast.literal_eval(usuario)\n",
    "        result = pd.DataFrame(data)\n",
    "        result.dropna(inplace=True)\n",
    "        \n",
    "\n",
    "        for y in result['item_name']:\n",
    "            price = df.loc[df['app_name'] == y]['price'].values\n",
    "            if len(price) > 0:\n",
    "                try: \n",
    "                    price_value = float(price[0])\n",
    "                    precios.append(price_value)\n",
    "                except ValueError:\n",
    "                    pass  \n",
    "                \n",
    "        respuesta['Usuario'] = user\n",
    "        respuesta['Dinero gastado'] = str(round(sum(precios)))+' USD'\n",
    "        respuesta[\"cantidad de items\"] = str(len(result))\n",
    "        \n",
    "        respuesta['Porcentaje de recomendaciones'] = str(round(((len(opinion.loc[opinion['user'] == user]) / len(result))) * 100,2))+ '%'\n",
    "        \n",
    "        return respuesta\n",
    "    except:\n",
    "        return 'El usuario no se encuentra en la base de datos.'"
   ]
  },
  {
   "cell_type": "code",
   "execution_count": 30,
   "metadata": {},
   "outputs": [
    {
     "data": {
      "text/plain": [
       "{'Usuario': '76561197970982479',\n",
       " 'Dinero gastado': '2315 USD',\n",
       " 'cantidad de items': '277',\n",
       " 'Porcentaje de recomendaciones': '1.08%'}"
      ]
     },
     "execution_count": 30,
     "metadata": {},
     "output_type": "execute_result"
    }
   ],
   "source": [
    "\n",
    "userdata('76561197970982479')\n"
   ]
  },
  {
   "cell_type": "code",
   "execution_count": 184,
   "metadata": {},
   "outputs": [],
   "source": [
    "def best_developer_year(year):\n",
    "    \n",
    "    anio = pd.read_csv('data_set_limpio\\Max_developer_year.csv')\n",
    "    \n",
    "    anio = anio.sort_values('Anio', ascending=False)\n",
    "    \n",
    "    seleccion = anio.loc[anio['Anio'] == year].copy()\n",
    "    \n",
    "    seleccion.fillna('No existen resenias',inplace=True)\n",
    "    \n",
    "    respuesta = {}\n",
    "    \n",
    "    respuesta['Anio'] = seleccion['Anio'].values[0]\n",
    "    respuesta['Top 1'] = seleccion['Top 1'].values[0]\n",
    "    respuesta['Top 2'] = seleccion['Top 2'].values[0]\n",
    "    respuesta['Top 3'] = seleccion['Top 3'].values[0]\n",
    "    return respuesta"
   ]
  },
  {
   "cell_type": "code",
   "execution_count": 1,
   "metadata": {},
   "outputs": [],
   "source": [
    "def resenias_developer( des : str ):\n",
    "    \n",
    "    try:\n",
    "\n",
    "        table = pq.read_table('data_set_limpio/recomends_dev.parquet')\n",
    "        \n",
    "        dev = table.to_pandas()\n",
    "        \n",
    "        developer = dev.loc[dev['Developers'] == des]\n",
    "        \n",
    "        respuesta = {'Deloper' : str(developer['Developers'].values[0]), 'Reviews positivos' : str(developer['Positivo'].values[0]),'Reviews negativos' : str(developer['Negativo'].values[0])}\n",
    "        dev = 0\n",
    "        return respuesta\n",
    "    \n",
    "    except:\n",
    "        \n",
    "        return 'No ingreso un valor relevante, o el desarrollador no se encuentra en la base de datos'   "
   ]
  },
  {
   "cell_type": "code",
   "execution_count": 10,
   "metadata": {},
   "outputs": [
    {
     "data": {
      "text/plain": [
       "{'Deloper': 'Valve', 'Reviews positivos': '5857', 'Reviews negativos': '2741'}"
      ]
     },
     "execution_count": 10,
     "metadata": {},
     "output_type": "execute_result"
    }
   ],
   "source": [
    "resenias_developer('Valve')"
   ]
  },
  {
   "cell_type": "code",
   "execution_count": null,
   "metadata": {},
   "outputs": [],
   "source": []
  }
 ],
 "metadata": {
  "kernelspec": {
   "display_name": "Python 3",
   "language": "python",
   "name": "python3"
  },
  "language_info": {
   "codemirror_mode": {
    "name": "ipython",
    "version": 3
   },
   "file_extension": ".py",
   "mimetype": "text/x-python",
   "name": "python",
   "nbconvert_exporter": "python",
   "pygments_lexer": "ipython3",
   "version": "3.11.5"
  }
 },
 "nbformat": 4,
 "nbformat_minor": 2
}
