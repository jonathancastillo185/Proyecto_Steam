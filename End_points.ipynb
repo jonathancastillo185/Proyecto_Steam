{
 "cells": [
  {
   "cell_type": "code",
   "execution_count": 7,
   "metadata": {},
   "outputs": [
    {
     "name": "stdout",
     "output_type": "stream",
     "text": [
      "The memory_profiler extension is already loaded. To reload it, use:\n",
      "  %reload_ext memory_profiler\n"
     ]
    }
   ],
   "source": [
    "import pandas as pd\n",
    "import ast\n",
    "from funciones import extract\n",
    "import pyarrow\n",
    "import json\n",
    "import gzip\n",
    "import pandas as pd\n",
    "import pyarrow as pa\n",
    "import pyarrow.parquet as pq\n",
    "%load_ext memory_profiler\n",
    "import pyarrow.parquet as pq\n"
   ]
  },
  {
   "cell_type": "code",
   "execution_count": 8,
   "metadata": {},
   "outputs": [],
   "source": [
    "df = pd.read_csv(r'data_set_limpio/games_preparado.csv.gz')"
   ]
  },
  {
   "cell_type": "code",
   "execution_count": 10,
   "metadata": {},
   "outputs": [],
   "source": [
    "opinion = pd.read_csv(r'data_set_limpio/reviews_preparado.csv.gz')"
   ]
  },
  {
   "cell_type": "code",
   "execution_count": 11,
   "metadata": {},
   "outputs": [],
   "source": [
    "item_user = pd.read_csv(r'data_set_limpio\\item_cantidad_usuarios.csv.gz')"
   ]
  },
  {
   "cell_type": "code",
   "execution_count": 4,
   "metadata": {},
   "outputs": [],
   "source": [
    "\n",
    "def developer(developer: str):\n",
    "    if developer not in list(df['developer']):\n",
    "        \n",
    "\n",
    "    fechas = df['release_date'].unique()\n",
    "\n",
    "    anio = {}\n",
    "    free = {}\n",
    "\n",
    "    for x in fechas:\n",
    "        filter_condition = (df['release_date'] == x) & (df['developer'] == developer)\n",
    "        developer_releases = df[filter_condition]\n",
    "\n",
    "        if len(developer_releases) != 0:\n",
    "            anio[x] = len(developer_releases)\n",
    "            free[x] = len(developer_releases[developer_releases['price'] == 0.0])\n",
    "\n",
    "    for x, y in free.items():\n",
    "        free[x] = f\"{round((y / anio[x]) * 100, 2)}%\"\n",
    "\n",
    "    # Convertir a tipos de datos nativos de Python\n",
    "    anio = {str(k): v for k, v in anio.items()}\n",
    "    free = {str(k): v for k, v in free.items()}\n",
    "\n",
    "    resultado = {'Cantidad de Items': anio, 'Contenido Free': free}\n",
    "\n",
    "    # Serializar a JSON usando json.dumps\n",
    "    return resultado\n"
   ]
  },
  {
   "cell_type": "code",
   "execution_count": 5,
   "metadata": {},
   "outputs": [
    {
     "data": {
      "text/plain": [
       "{'Cantidad de Items': {'2017': 2,\n",
       "  '1998': 1,\n",
       "  '2006': 2,\n",
       "  '2003': 1,\n",
       "  '2007': 3,\n",
       "  '2000': 2,\n",
       "  '2001': 1,\n",
       "  '2004': 5,\n",
       "  '2008': 1,\n",
       "  '2009': 1,\n",
       "  '1999': 1,\n",
       "  '2010': 2,\n",
       "  '2011': 1,\n",
       "  '2012': 1},\n",
       " 'Contenido Free': {'2017': '0.0%',\n",
       "  '1998': '0.0%',\n",
       "  '2006': '0.0%',\n",
       "  '2003': '0.0%',\n",
       "  '2007': '33.33%',\n",
       "  '2000': '0.0%',\n",
       "  '2001': '0.0%',\n",
       "  '2004': '0.0%',\n",
       "  '2008': '0.0%',\n",
       "  '2009': '0.0%',\n",
       "  '1999': '0.0%',\n",
       "  '2010': '50.0%',\n",
       "  '2011': '0.0%',\n",
       "  '2012': '0.0%'}}"
      ]
     },
     "execution_count": 5,
     "metadata": {},
     "output_type": "execute_result"
    }
   ],
   "source": [
    "developer('Valve')"
   ]
  },
  {
   "cell_type": "code",
   "execution_count": 9,
   "metadata": {},
   "outputs": [],
   "source": [
    "def userdata(user: str):\n",
    "    try:\n",
    "        usuario = 0\n",
    "        chunks = pd.read_csv(r'data_set_limpio\\item_desplegado.csv.gz', chunksize=200000)\n",
    "        for chunk in chunks:\n",
    "            if chunk['user'].isin([user]).any():\n",
    "                usuario = chunk[chunk['user'] == user]\n",
    "                break\n",
    "\n",
    "        resultado = {\n",
    "            'Usuario' : user,\n",
    "            'Dinero gastado' : str(usuario['price'].sum())+'$',\n",
    "            'cantidad de items' : str(item_user.loc[item_user['user_id'] == user]['items_count'].values[0]),\n",
    "            'Porcentaje de recomendaciones' :str(round((len(opinion.loc[opinion['user'] == user])  / item_user.loc[item_user['user_id'] == user]['items_count'].values[0])*100,2))+'%'}\n",
    "        \n",
    "        return resultado\n",
    "    except:\n",
    "        return 'El usuario no se encuentra en la base de datos.'"
   ]
  },
  {
   "cell_type": "code",
   "execution_count": 10,
   "metadata": {},
   "outputs": [
    {
     "data": {
      "text/plain": [
       "{'Usuario': '76561197970982479',\n",
       " 'Dinero gastado': '2315 USD',\n",
       " 'cantidad de items': '277',\n",
       " 'Porcentaje de recomendaciones': '1.08%'}"
      ]
     },
     "execution_count": 10,
     "metadata": {},
     "output_type": "execute_result"
    }
   ],
   "source": [
    "userdata('76561197970982479')"
   ]
  },
  {
   "cell_type": "code",
   "execution_count": 11,
   "metadata": {},
   "outputs": [],
   "source": [
    "def best_developer_year(year : int):\n",
    "    \n",
    "        anio = pd.read_csv(r'data_set_limpio//Max_developer_year.csv')\n",
    "\n",
    "            \n",
    "        anio = anio.sort_values('Anio', ascending=False)\n",
    "        \n",
    "        seleccion = anio.loc[anio['Anio'] == year].copy()\n",
    "        \n",
    "        seleccion.fillna('Sin informacion',inplace=True)\n",
    "        \n",
    "        if not seleccion['Anio'].empty:\n",
    "            respuesta = {'Anio': str(seleccion['Anio'].values[0]),\n",
    "                        'Top 1': str(seleccion['Top 1'].values[0]),\n",
    "                        'Top 2': str(seleccion['Top 2'].values[0]),\n",
    "                        'Top 3': str(seleccion['Top 3'].values[0])\n",
    "                        }\n",
    "        else:\n",
    "            respuesta = {f'No ingreso un valor relevante, este es el rango disponible ({str(anio[\"Anio\"].min())} - {str(anio[\"Anio\"].max())})'}\n",
    "\n",
    "        return respuesta"
   ]
  },
  {
   "cell_type": "code",
   "execution_count": 12,
   "metadata": {},
   "outputs": [
    {
     "data": {
      "text/plain": [
       "{'Anio': '2017',\n",
       " 'Top 1': \"('Smartly Dressed Games', 594)\",\n",
       " 'Top 2': \"('Freejam', 178)\",\n",
       " 'Top 3': \"('Studio Wildcard,Instinct Games,Efecto Studios,Virtual Basement LLC', 160)\"}"
      ]
     },
     "execution_count": 12,
     "metadata": {},
     "output_type": "execute_result"
    }
   ],
   "source": [
    "best_developer_year(2017)"
   ]
  },
  {
   "cell_type": "code",
   "execution_count": 12,
   "metadata": {},
   "outputs": [],
   "source": [
    "def resenias_developer( des : str ):\n",
    "    \n",
    "    try:\n",
    "\n",
    "        table = pq.read_table(r'data_set_limpio/recomends_dev.parquet')\n",
    "        \n",
    "        dev = table.to_pandas()\n",
    "        \n",
    "        developer = dev.loc[dev['Developers'] == des]\n",
    "        \n",
    "        respuesta = {'Deloper' : str(developer['Developers'].values[0]), 'Reviews positivos' : str(developer['Positivo'].values[0]),'Reviews negativos' : str(developer['Negativo'].values[0])}\n",
    "        dev = 0\n",
    "        return respuesta\n",
    "    \n",
    "    except:\n",
    "        \n",
    "        return 'No ingreso un valor relevante, o el desarrollador no se encuentra en la base de datos'   "
   ]
  },
  {
   "cell_type": "code",
   "execution_count": 14,
   "metadata": {},
   "outputs": [
    {
     "data": {
      "text/plain": [
       "{'Deloper': 'Freejam', 'Reviews positivos': '211', 'Reviews negativos': '71'}"
      ]
     },
     "execution_count": 14,
     "metadata": {},
     "output_type": "execute_result"
    }
   ],
   "source": [
    "resenias_developer('Freejam')"
   ]
  },
  {
   "cell_type": "code",
   "execution_count": null,
   "metadata": {},
   "outputs": [],
   "source": []
  }
 ],
 "metadata": {
  "kernelspec": {
   "display_name": "Python 3",
   "language": "python",
   "name": "python3"
  },
  "language_info": {
   "codemirror_mode": {
    "name": "ipython",
    "version": 3
   },
   "file_extension": ".py",
   "mimetype": "text/x-python",
   "name": "python",
   "nbconvert_exporter": "python",
   "pygments_lexer": "ipython3",
   "version": "3.11.5"
  }
 },
 "nbformat": 4,
 "nbformat_minor": 2
}
