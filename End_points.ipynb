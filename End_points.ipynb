{
 "cells": [
  {
   "cell_type": "code",
   "execution_count": 39,
   "metadata": {},
   "outputs": [
    {
     "name": "stdout",
     "output_type": "stream",
     "text": [
      "The memory_profiler extension is already loaded. To reload it, use:\n",
      "  %reload_ext memory_profiler\n"
     ]
    }
   ],
   "source": [
    "import pandas as pd\n",
    "import ast\n",
    "from funciones import extract\n",
    "import numpy\n",
    "%load_ext memory_profiler\n",
    "import pyarrow.parquet as pq"
   ]
  },
  {
   "cell_type": "code",
   "execution_count": 21,
   "metadata": {},
   "outputs": [],
   "source": [
    "df = pd.read_csv(r'data_set_limpio/games_preparado.csv.gz')"
   ]
  },
  {
   "cell_type": "code",
   "execution_count": 22,
   "metadata": {},
   "outputs": [],
   "source": [
    "item = pd.read_csv(r'data_set_limpio/items_preparado.csv.gz')"
   ]
  },
  {
   "cell_type": "code",
   "execution_count": 23,
   "metadata": {},
   "outputs": [],
   "source": [
    "opinion = pd.read_csv(r'data_set_limpio/reviews_preparado.csv.gz')"
   ]
  },
  {
   "cell_type": "code",
   "execution_count": 24,
   "metadata": {},
   "outputs": [],
   "source": [
    "def developer(x):\n",
    "    if x not in list(df['developer']):\n",
    "        return 'El desarrollador no se encuentra en la base de datos'\n",
    "    \n",
    "    fecha_inicio = df.loc[df['developer'] == x]['release_date'].min()[:4]\n",
    "    fecha_final =  df.loc[df['developer'] == x]['release_date'].max()\n",
    "    \n",
    "    anio = {}\n",
    "    \n",
    "    free = {}\n",
    "    \n",
    "    while fecha_inicio <= fecha_final:\n",
    "        if len(df[(df['release_date'] >= fecha_inicio) & (df['release_date'] <= fecha_inicio[:4]+'-12-31') & (df['developer'] == x)]) > 0:\n",
    "            anio[fecha_inicio[:4]] = len(df[(df['release_date'] >= fecha_inicio) & (df['release_date'] <= fecha_inicio[:4]+'-12-31') & (df['developer'] == x)])\n",
    "            free[fecha_inicio[:4]] = len(df[(df['release_date'] >= fecha_inicio) & (df['release_date'] <= fecha_inicio[:4]+'-12-31') & (df['developer'] == x) & ((df['price'] == 'Free') | (df['price'] == 'Free to Play') )])\n",
    "        fecha_inicio = str(int(fecha_inicio[:4])+1)+'-01-01'\n",
    "\n",
    "\n",
    "    for x,y  in free.items():\n",
    "        free[x] = str(round((y / anio[x])*100,2))+'%'\n",
    "\n",
    "\n",
    "    resultado = {'Cantidad de Items': anio,'Contenido Free':free}\n",
    "\n",
    "\n",
    "    return resultado\n",
    "\n",
    "\n"
   ]
  },
  {
   "cell_type": "code",
   "execution_count": 25,
   "metadata": {},
   "outputs": [],
   "source": [
    "def userdata(user: str):\n",
    "    \n",
    "    try:\n",
    "        for x in pd.read_csv(r'data_set_limpio/items_preparado.csv.gz', chunksize=5000):\n",
    "            if user in list(x['user_id']):\n",
    "                aux = x\n",
    "                break\n",
    "            x = 0\n",
    "                \n",
    "            \n",
    "\n",
    "        precios = []\n",
    "        respuesta = {}\n",
    "        \n",
    "        \n",
    "        usuario = aux.loc[aux['user_id'] == user]['items']\n",
    "        \n",
    "        \n",
    "        if not usuario.empty:\n",
    "            usuario = usuario.iloc[0]\n",
    "        data = ast.literal_eval(usuario)\n",
    "        result = pd.DataFrame(data)\n",
    "        #result.dropna(inplace=True)\n",
    "        #result.drop(columns='playtime_2weeks',inplace=True)\n",
    "\n",
    "\n",
    "        for y in result['item_name']:\n",
    "            price = df.loc[df['app_name'] == y]['price'].values\n",
    "            if len(price) > 0:\n",
    "                try: \n",
    "                    price_value = float(price[0])\n",
    "                    precios.append(price_value)\n",
    "                except ValueError:\n",
    "                    pass  \n",
    "        \n",
    "        respuesta['Usuario'] = user\n",
    "        respuesta['Dinero gastado'] = str(round(sum(precios)))+' USD'\n",
    "        respuesta[\"cantidad de items\"] = str(len(result))\n",
    "        \n",
    "        respuesta['Porcentaje de recomendaciones'] = str(round(((len(opinion.loc[opinion['user'] == user]) / len(result))) * 100,2))+ '%'\n",
    "        \n",
    "        return respuesta\n",
    "    except:\n",
    "        return 'El usuario no se encuentra en la base de datos.'\n",
    "\n",
    "\n"
   ]
  },
  {
   "cell_type": "code",
   "execution_count": 33,
   "metadata": {},
   "outputs": [],
   "source": [
    "def best_developer_year(year : int):\n",
    "\n",
    "    anio = pd.read_csv('data_set_limpi\\\\Max_developer_year.csv')\n",
    "    \n",
    "    anio = anio.sort_values('Anio', ascending=False)\n",
    "    \n",
    "    seleccion = anio.loc[anio['Anio'] == year].copy()\n",
    "    \n",
    "    seleccion.fillna('No existen resenias',inplace=True)\n",
    "    \n",
    "    \n",
    "    \n",
    "    if not seleccion['Anio'].empty:\n",
    "        respuesta = {'Anio': str(seleccion['Anio'].values[0]),\n",
    "                    'Top 1': str(seleccion['Top 1'].values[0]),\n",
    "                    'Top 2': str(seleccion['Top 2'].values[0]),\n",
    "                    'Top 3': str(seleccion['Top 3'].values[0])\n",
    "                    }\n",
    "    else:\n",
    "        respuesta = {f'No ingreso un valor relevante, este es el rango disponible ({str(anio[\"Anio\"].min())} - {str(anio[\"Anio\"].max())})'}\n",
    "\n",
    "    return respuesta"
   ]
  },
  {
   "cell_type": "code",
   "execution_count": 42,
   "metadata": {},
   "outputs": [],
   "source": [
    "def resenias_developer( des : str ):\n",
    "    \n",
    "    try:\n",
    "\n",
    "        table = pq.read_table('data_set_limpio/recomends_dev.parquet')\n",
    "        \n",
    "        dev = table.to_pandas()\n",
    "        \n",
    "        developer = dev.loc[dev['Developers'] == des]\n",
    "        \n",
    "        respuesta = {'Deloper' : str(developer['Developers'].values[0]), 'Reviews positivos' : str(developer['Positivo'].values[0]),'Reviews negativos' : str(developer['Negativo'].values[0])}\n",
    "        dev = 0\n",
    "        return respuesta\n",
    "    \n",
    "    except:\n",
    "        \n",
    "        return 'No ingreso un valor relevante, o el desarrollador no se encuentra en la base de datos'   "
   ]
  },
  {
   "cell_type": "code",
   "execution_count": 43,
   "metadata": {},
   "outputs": [
    {
     "data": {
      "text/plain": [
       "{'Deloper': 'Valve', 'Reviews positivos': '5857', 'Reviews negativos': '2741'}"
      ]
     },
     "execution_count": 43,
     "metadata": {},
     "output_type": "execute_result"
    }
   ],
   "source": [
    "resenias_developer('Valve')"
   ]
  }
 ],
 "metadata": {
  "kernelspec": {
   "display_name": "Python 3",
   "language": "python",
   "name": "python3"
  },
  "language_info": {
   "codemirror_mode": {
    "name": "ipython",
    "version": 3
   },
   "file_extension": ".py",
   "mimetype": "text/x-python",
   "name": "python",
   "nbconvert_exporter": "python",
   "pygments_lexer": "ipython3",
   "version": "3.11.5"
  }
 },
 "nbformat": 4,
 "nbformat_minor": 2
}
