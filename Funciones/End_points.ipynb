{
 "cells": [
  {
   "cell_type": "code",
   "execution_count": 1,
   "metadata": {},
   "outputs": [],
   "source": [
    "import pandas as pd\n",
    "import ast\n",
    "from funciones import extract\n",
    "import pyarrow\n",
    "import json\n",
    "import gzip\n",
    "import pandas as pd\n",
    "import pyarrow as pa\n",
    "import pyarrow.parquet as pq\n",
    "%load_ext memory_profiler\n",
    "import pyarrow.parquet as pq"
   ]
  },
  {
   "cell_type": "code",
   "execution_count": 2,
   "metadata": {},
   "outputs": [],
   "source": [
    "df = pd.read_csv(r'../data_set_limpio/games_preparado.csv.gz')"
   ]
  },
  {
   "cell_type": "code",
   "execution_count": 3,
   "metadata": {},
   "outputs": [],
   "source": [
    "opinion = pd.read_csv(r'../data_set_limpio/reviews_preparado.csv.gz')"
   ]
  },
  {
   "cell_type": "code",
   "execution_count": 4,
   "metadata": {},
   "outputs": [],
   "source": [
    "item_user = pd.read_csv(r'../data_set_limpio/item_cantidad_usuarios.csv.gz')"
   ]
  },
  {
   "cell_type": "code",
   "execution_count": 5,
   "metadata": {},
   "outputs": [],
   "source": [
    "def developer(developer: str):\n",
    "    if developer not in list(df['developer']):\n",
    "        return {'El desarrollador no se encuentra en la base de datos'}\n",
    "\n",
    "    fechas = df['release_date'].unique()  # --- > Obtiene las fechas únicas de lanzamiento\n",
    "\n",
    "    anio = {} \n",
    "    free = {} \n",
    "\n",
    "    for x in fechas:\n",
    "        filter_condition = (df['release_date'] == x) & (df['developer'] == developer) \n",
    "        developer_releases = df[filter_condition]  # --- > Filtra los lanzamientos del desarrollador\n",
    "\n",
    "        if len(developer_releases) != 0:\n",
    "            anio[x] = len(developer_releases)  # --- > Almacena la cantidad de lanzamientos del desarrollador\n",
    "            free[x] = len(developer_releases[developer_releases['price'] == 0.0])  # --- > Almacena la cantidad de lanzamientos gratuitos\n",
    "\n",
    "    for x, y in free.items():\n",
    "        free[x] = f\"{round((y / anio[x]) * 100, 2)}%\"  # --- > Calcula el porcentaje de lanzamientos gratuitos respecto al total por año\n",
    "\n",
    "    # --- > Convierte las claves del diccionario 'anio' y 'free' a cadenas\n",
    "    anio = {str(k): v for k, v in anio.items()}\n",
    "    free = {str(k): v for k, v in free.items()}\n",
    "\n",
    "    resultado = {'Cantidad de Items': anio, 'Contenido Free': free} \n",
    "\n",
    "    return resultado  # --- > Devuelve el resultado\n"
   ]
  },
  {
   "cell_type": "code",
   "execution_count": 6,
   "metadata": {},
   "outputs": [
    {
     "data": {
      "text/plain": [
       "{'Cantidad de Items': {'2017': 2,\n",
       "  '1998': 1,\n",
       "  '2006': 2,\n",
       "  '2003': 1,\n",
       "  '2007': 3,\n",
       "  '2000': 2,\n",
       "  '2001': 1,\n",
       "  '2004': 5,\n",
       "  '2008': 1,\n",
       "  '2009': 1,\n",
       "  '1999': 1,\n",
       "  '2010': 2,\n",
       "  '2011': 1,\n",
       "  '2012': 1},\n",
       " 'Contenido Free': {'2017': '0.0%',\n",
       "  '1998': '0.0%',\n",
       "  '2006': '0.0%',\n",
       "  '2003': '0.0%',\n",
       "  '2007': '33.33%',\n",
       "  '2000': '0.0%',\n",
       "  '2001': '0.0%',\n",
       "  '2004': '0.0%',\n",
       "  '2008': '0.0%',\n",
       "  '2009': '0.0%',\n",
       "  '1999': '0.0%',\n",
       "  '2010': '50.0%',\n",
       "  '2011': '0.0%',\n",
       "  '2012': '0.0%'}}"
      ]
     },
     "execution_count": 6,
     "metadata": {},
     "output_type": "execute_result"
    }
   ],
   "source": [
    "developer('Valve') # --- > prueba"
   ]
  },
  {
   "cell_type": "code",
   "execution_count": 7,
   "metadata": {},
   "outputs": [],
   "source": [
    "def userdata(user: str):\n",
    "    try:\n",
    "        if user not in item_user['user_id'].unique():\n",
    "            return {f'El usuario {user}, no existe.'}  # --- > Verifica si el usuario no existe en la base de datos\n",
    "\n",
    "        usuario = 0\n",
    "        chunks = pd.read_csv(r'../data_set_limpio/item_desplegado.csv.gz', chunksize=200000)  # --- > Lee el archivo CSV en bloques para optimizar lo mejor posible el uso de los recursos\n",
    "        for chunk in chunks:\n",
    "            if chunk['user'].isin([user]).any():\n",
    "                usuario = chunk[chunk['user'] == user]  # --- > Obtiene el usuario si se encuentra en el chunk\n",
    "                break\n",
    "\n",
    "        resultado = {\n",
    "            'Usuario': user,\n",
    "            'Dinero gastado': str(usuario['price'].sum())+'$',  # --- > Calcula el dinero gastado por el usuario\n",
    "            'cantidad de items': str(item_user.loc[item_user['user_id'] == user]['items_count'].values[0]),  # --- > Obtiene la cantidad de items para el usuario\n",
    "            'Porcentaje de recomendaciones': str(round((len(opinion.loc[opinion['user'] == user]) / item_user.loc[item_user['user_id'] == user]['items_count'].values[0]) * 100, 2))+'%'  # --- > Calcula el porcentaje de recomendaciones del usuario\n",
    "        }\n",
    "\n",
    "        return resultado  # --- > Devuelve el resultado\n",
    "    except:\n",
    "        return {'El usuario no se encuentra en la base de datos.'}  # --- > Manejo en caso de errores\n"
   ]
  },
  {
   "cell_type": "code",
   "execution_count": 8,
   "metadata": {},
   "outputs": [
    {
     "data": {
      "text/plain": [
       "{'Usuario': '76561197970982479',\n",
       " 'Dinero gastado': '2752.41$',\n",
       " 'cantidad de items': '277',\n",
       " 'Porcentaje de recomendaciones': '1.08%'}"
      ]
     },
     "execution_count": 8,
     "metadata": {},
     "output_type": "execute_result"
    }
   ],
   "source": [
    "userdata('76561197970982479')"
   ]
  },
  {
   "cell_type": "code",
   "execution_count": 9,
   "metadata": {},
   "outputs": [],
   "source": [
    "def best_developer_year(year: int):\n",
    "    anio = pd.read_csv(r'../data_set_limpio//Max_developer_year.csv')  # --- > Lee el archivo CSV que contiene datos de los mejores desarrolladores por año\n",
    "\n",
    "    anio = anio.sort_values('Anio', ascending=False)  # --- > Ordena los datos por el año en orden descendente\n",
    "\n",
    "    seleccion = anio.loc[anio['Anio'] == year].copy()  # --- > Selecciona los datos correspondientes al año ingresado\n",
    "\n",
    "    seleccion.fillna('Sin informacion', inplace=True)  # --- > Rellena los valores faltantes con 'Sin información'\n",
    "\n",
    "    if not seleccion['Anio'].empty:\n",
    "        \n",
    "        # --- > Si hay datos disponibles para el año proporcionado, se crea un diccionario con la información de los mejores desarrolladores\n",
    "        \n",
    "        respuesta = {\n",
    "            'Anio': str(seleccion['Anio'].values[0]),\n",
    "            'Top 1': str(seleccion['Top 1'].values[0]),\n",
    "            'Top 2': str(seleccion['Top 2'].values[0]),\n",
    "            'Top 3': str(seleccion['Top 3'].values[0])\n",
    "        }\n",
    "\n",
    "    else:\n",
    "        \n",
    "        # --- > Si no se proporciona un año relevante dentro del rango disponible, se devuelve un mensaje con el rango disponible\n",
    "        respuesta = {f'No ingreso un valor relevante, este es el rango disponible ({str(anio[\"Anio\"].min())} - {str(anio[\"Anio\"].max())})'}\n",
    "\n",
    "    return respuesta\n"
   ]
  },
  {
   "cell_type": "code",
   "execution_count": 11,
   "metadata": {},
   "outputs": [
    {
     "data": {
      "text/plain": [
       "{'Anio': '2014',\n",
       " 'Top 1': \"('Edge of Reality', 198)\",\n",
       " 'Top 2': \"('Coffee Stain Studios', 152)\",\n",
       " 'Top 3': \"('New World Interactive', 132)\"}"
      ]
     },
     "execution_count": 11,
     "metadata": {},
     "output_type": "execute_result"
    }
   ],
   "source": [
    "best_developer_year(2014)"
   ]
  },
  {
   "cell_type": "code",
   "execution_count": 26,
   "metadata": {},
   "outputs": [],
   "source": [
    "def review_developer(des: str):\n",
    "    try:\n",
    "        table = pq.read_table(r'../data_set_limpio/recomends_dev.parquet')  # --- > Lee el archivo Parquet que contiene reseñas de desarrolladores\n",
    "\n",
    "        dev = table.to_pandas()  # --- > Convierte los datos en un DataFrame de Pandas\n",
    "\n",
    "        developer = dev.loc[dev['Developers'] == des]  # --- > Filtra las reseñas para el desarrollador especificado\n",
    "\n",
    "        respuesta = {\n",
    "            'Deloper': str(developer['Developers'].values[0]),\n",
    "            'Reviews positivos': str(developer['Positivo'].values[0]),\n",
    "            'Reviews negativos': str(developer['Negativo'].values[0]) \n",
    "        }\n",
    "\n",
    "        dev = 0  # --- > Reinicializa la variable 'dev' a 0\n",
    "        return respuesta\n",
    "\n",
    "    except:\n",
    "        return {'No ingreso un valor relevante, o el desarrollador no tiene Resenias'}  # --- > Captura excepciones y devuelve un mensaje indicando la falta de valor relevante o reseñas del desarrollador\n"
   ]
  },
  {
   "cell_type": "code",
   "execution_count": 27,
   "metadata": {},
   "outputs": [
    {
     "data": {
      "text/plain": [
       "{'Deloper': 'Freejam', 'Reviews positivos': '211', 'Reviews negativos': '71'}"
      ]
     },
     "execution_count": 27,
     "metadata": {},
     "output_type": "execute_result"
    }
   ],
   "source": [
    "review_developer('Freejam') # --- > testeo"
   ]
  },
  {
   "cell_type": "code",
   "execution_count": null,
   "metadata": {},
   "outputs": [],
   "source": []
  }
 ],
 "metadata": {
  "kernelspec": {
   "display_name": "Python 3",
   "language": "python",
   "name": "python3"
  },
  "language_info": {
   "codemirror_mode": {
    "name": "ipython",
    "version": 3
   },
   "file_extension": ".py",
   "mimetype": "text/x-python",
   "name": "python",
   "nbconvert_exporter": "python",
   "pygments_lexer": "ipython3",
   "version": "3.11.5"
  }
 },
 "nbformat": 4,
 "nbformat_minor": 2
}
