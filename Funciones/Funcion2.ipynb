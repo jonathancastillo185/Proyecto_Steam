{
 "cells": [
  {
   "cell_type": "code",
   "execution_count": 2,
   "metadata": {},
   "outputs": [],
   "source": [
    "import pandas as pd\n",
    "import ast\n",
    "from funciones import extract\n",
    "import pyarrow\n",
    "import json\n",
    "import gzip\n",
    "import pandas as pd\n",
    "import pyarrow as pa\n",
    "import pyarrow.parquet as pq\n",
    "%load_ext memory_profiler\n",
    "import pyarrow.parquet as pq"
   ]
  },
  {
   "cell_type": "code",
   "execution_count": 4,
   "metadata": {},
   "outputs": [],
   "source": [
    "item_user = pd.read_csv(r'../data_set_limpio/item_cantidad_usuarios.csv.gz')"
   ]
  },
  {
   "cell_type": "code",
   "execution_count": 5,
   "metadata": {},
   "outputs": [],
   "source": [
    "opinion = pd.read_csv(r'../data_set_limpio/reviews_preparado.csv.gz')"
   ]
  },
  {
   "cell_type": "code",
   "execution_count": 8,
   "metadata": {},
   "outputs": [],
   "source": [
    "def userdata(user: str):\n",
    "    try:\n",
    "        usuario = 0\n",
    "        chunks = pd.read_csv(r'../data_set_limpio/item_desplegado.csv.gz', chunksize=200000)\n",
    "        for chunk in chunks:\n",
    "            if chunk['user'].isin([user]).any():\n",
    "                usuario = chunk[chunk['user'] == user]\n",
    "                break\n",
    "\n",
    "        resultado = {\n",
    "            'Usuario' : user,\n",
    "            'Dinero gastado' : str(usuario['price'].sum())+'$',\n",
    "            'cantidad de items' : str(item_user.loc[item_user['user_id'] == user]['items_count'].values[0]),\n",
    "            'Porcentaje de recomendaciones' :str(round((len(opinion.loc[opinion['user'] == user])  / item_user.loc[item_user['user_id'] == user]['items_count'].values[0])*100,2))+'%'}\n",
    "        \n",
    "        return resultado\n",
    "    except:\n",
    "        return 'El usuario no se encuentra en la base de datos.'\n"
   ]
  },
  {
   "cell_type": "code",
   "execution_count": 9,
   "metadata": {},
   "outputs": [
    {
     "data": {
      "text/plain": [
       "{'Usuario': '76561198329548331',\n",
       " 'Dinero gastado': '0.0$',\n",
       " 'cantidad de items': '7',\n",
       " 'Porcentaje de recomendaciones': '0.0%'}"
      ]
     },
     "execution_count": 9,
     "metadata": {},
     "output_type": "execute_result"
    }
   ],
   "source": [
    "userdata('76561198329548331')"
   ]
  },
  {
   "cell_type": "markdown",
   "metadata": {},
   "source": [
    "usuarios probados - iteracion de chunks\n",
    "\n",
    "indice  -   usuario\n",
    "\n",
    "1000004     conordarley1998 -> peak memory: 320.53 MiB, increment: 193.39 MiB 4.42s\n",
    "\n",
    "2000003     xenocide1310 -> peak memory: peak memory: 324.86 MiB 4.38 s\n",
    "\n",
    "2050004     76561198073938058 -> peak memory: 323.74 MiB 5.1s\n",
    "\n",
    "1050004     76561198076447620 -> peak memory: 325.99 MiB 5 s\n",
    "\n",
    "550004      aromortis -> peak memory: 320.77 MiB 5 s"
   ]
  },
  {
   "cell_type": "markdown",
   "metadata": {},
   "source": [
    "usuarios probados - iteracion de chunks optimizada\n",
    "\n",
    "indice  -   usuario\n",
    "\n",
    "1000004     conordarley1998 -> peak memory: 171.46 MiB 2.4s => 1.8 s\n",
    "\n",
    "2000003     xenocide1310 -> peak memory: 140.34 MiB 3.9 s 100000 chunks = 2.9s\n",
    "\n",
    "2050004     76561198073938058 -> peak memory: 140.45 MiB 4.0 s = 3\n",
    "\n",
    "1050004     76561198076447620 -> peak memory: 140.23 MiB 2.3 s =  1.9\n",
    "\n",
    "550004      aromortis -> peak memory: 138.73 MiB    = 1.3"
   ]
  }
 ],
 "metadata": {
  "kernelspec": {
   "display_name": "Python 3",
   "language": "python",
   "name": "python3"
  },
  "language_info": {
   "codemirror_mode": {
    "name": "ipython",
    "version": 3
   },
   "file_extension": ".py",
   "mimetype": "text/x-python",
   "name": "python",
   "nbconvert_exporter": "python",
   "pygments_lexer": "ipython3",
   "version": "3.11.5"
  }
 },
 "nbformat": 4,
 "nbformat_minor": 2
}
