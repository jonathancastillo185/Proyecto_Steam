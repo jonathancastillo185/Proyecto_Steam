{
 "cells": [
  {
   "cell_type": "code",
   "execution_count": null,
   "metadata": {},
   "outputs": [],
   "source": [
    "import pandas as pd\n",
    "import ast\n",
    "from funciones import extract"
   ]
  },
  {
   "cell_type": "code",
   "execution_count": null,
   "metadata": {},
   "outputs": [],
   "source": [
    "df = pd.read_csv(r'data_set_limpio/games_preparado.csv.gz')\n",
    "item = pd.read_csv(r'data_set_limpio/items_preparado.csv.gz')\n",
    "opinion = pd.read_csv(r'data_set_limpio/reviews_preparado.csv.gz')"
   ]
  },
  {
   "cell_type": "code",
   "execution_count": null,
   "metadata": {},
   "outputs": [],
   "source": [
    "prueba1 = pd.merge(opinion[['item_id','opinion','user']], df[['id','developer']], left_on='item_id', right_on='id')\n",
    "\n",
    "prueba1"
   ]
  },
  {
   "cell_type": "code",
   "execution_count": null,
   "metadata": {},
   "outputs": [],
   "source": [
    "developers = prueba1['developer'].unique()"
   ]
  },
  {
   "cell_type": "code",
   "execution_count": null,
   "metadata": {},
   "outputs": [],
   "source": [
    "positivo = []\n",
    "negativo = []\n",
    "for x in developers:\n",
    "    positivo.append( len(prueba1.loc[(prueba1['developer'] == x) & (prueba1['opinion'] == 2)]))\n",
    "    negativo.append( len(prueba1.loc[(prueba1['developer'] == x) & (prueba1['opinion'] == 0)]))"
   ]
  },
  {
   "cell_type": "code",
   "execution_count": null,
   "metadata": {},
   "outputs": [],
   "source": [
    "End5 = pd.DataFrame(data ={'Developers':developers,'Positivo':positivo,'Negativo':negativo})"
   ]
  },
  {
   "cell_type": "code",
   "execution_count": null,
   "metadata": {},
   "outputs": [],
   "source": [
    "End5.to_parquet('data_set_limpio/recomends_dev.parquet',index=False)"
   ]
  }
 ],
 "metadata": {
  "language_info": {
   "name": "python"
  }
 },
 "nbformat": 4,
 "nbformat_minor": 2
}
