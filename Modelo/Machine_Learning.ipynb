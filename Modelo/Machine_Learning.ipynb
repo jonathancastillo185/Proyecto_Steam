{
 "cells": [
  {
   "cell_type": "code",
   "execution_count": 1,
   "metadata": {},
   "outputs": [],
   "source": [
    "from surprise.model_selection import GridSearchCV, train_test_split\n",
    "from surprise import SVDpp, Dataset, Reader, accuracy\n",
    "import pickle\n",
    "import pandas as pd\n",
    "import gzip\n",
    "import tracemalloc\n",
    "import random"
   ]
  },
  {
   "cell_type": "code",
   "execution_count": 5,
   "metadata": {},
   "outputs": [],
   "source": [
    "with open('../Modelo/modelo_entrenado.pkl', 'rb') as file:\n",
    "    model = pickle.load(file)"
   ]
  },
  {
   "cell_type": "code",
   "execution_count": 8,
   "metadata": {},
   "outputs": [],
   "source": [
    "entrenar = pd.read_csv(r'../data_set_limpio/modelo.csv.gz')"
   ]
  },
  {
   "cell_type": "code",
   "execution_count": 45,
   "metadata": {},
   "outputs": [],
   "source": [
    "'''\n",
    "\n",
    "    En este bloque realizo un merge sobre los datasets y selecciono solo las columnas que considero necesarias\n",
    "\n",
    "'''\n",
    "\n",
    "prueba1 = pd.merge(opinion[['item_id','user','recommend','opinion','helpful']], df[['id','app_name']], left_on='item_id', right_on='id')\n",
    "\n",
    "prueba1['recommend'] = prueba1['recommend'].replace({True: 1, False: 0})\n",
    "\n",
    "prueba1.loc[prueba1['helpful'] == 'No ratings yet', 'helpful'] = 0\n",
    "\n",
    "prueba1.loc[prueba1['helpful']  != 0 , 'helpful'] = 1"
   ]
  },
  {
   "cell_type": "code",
   "execution_count": 393,
   "metadata": {},
   "outputs": [
    {
     "name": "stderr",
     "output_type": "stream",
     "text": [
      "C:\\Users\\jonat\\AppData\\Local\\Temp\\ipykernel_25504\\1727096209.py:2: FutureWarning: Series.__getitem__ treating keys as positions is deprecated. In a future version, integer keys will always be treated as labels (consistent with DataFrame behavior). To access a value by position, use `ser.iloc[pos]`\n",
      "  if (row[2] == 1) and (row[3] == 2) and (row[4] == 1):\n",
      "C:\\Users\\jonat\\AppData\\Local\\Temp\\ipykernel_25504\\1727096209.py:4: FutureWarning: Series.__getitem__ treating keys as positions is deprecated. In a future version, integer keys will always be treated as labels (consistent with DataFrame behavior). To access a value by position, use `ser.iloc[pos]`\n",
      "  elif (row[2] == 1) and (row[3] == 1) and (row[4] == 1):\n",
      "C:\\Users\\jonat\\AppData\\Local\\Temp\\ipykernel_25504\\1727096209.py:6: FutureWarning: Series.__getitem__ treating keys as positions is deprecated. In a future version, integer keys will always be treated as labels (consistent with DataFrame behavior). To access a value by position, use `ser.iloc[pos]`\n",
      "  elif (row[2] == 1) and (row[3] == 0) and (row[4] == 1):\n",
      "C:\\Users\\jonat\\AppData\\Local\\Temp\\ipykernel_25504\\1727096209.py:8: FutureWarning: Series.__getitem__ treating keys as positions is deprecated. In a future version, integer keys will always be treated as labels (consistent with DataFrame behavior). To access a value by position, use `ser.iloc[pos]`\n",
      "  elif (row[2] == 0) and (row[3] == 2) and (row[4] == 0):\n",
      "C:\\Users\\jonat\\AppData\\Local\\Temp\\ipykernel_25504\\1727096209.py:10: FutureWarning: Series.__getitem__ treating keys as positions is deprecated. In a future version, integer keys will always be treated as labels (consistent with DataFrame behavior). To access a value by position, use `ser.iloc[pos]`\n",
      "  elif (row[2] == 0) and (row[3] == 1) and (row[4] == 1):\n",
      "C:\\Users\\jonat\\AppData\\Local\\Temp\\ipykernel_25504\\1727096209.py:12: FutureWarning: Series.__getitem__ treating keys as positions is deprecated. In a future version, integer keys will always be treated as labels (consistent with DataFrame behavior). To access a value by position, use `ser.iloc[pos]`\n",
      "  elif (row[2] == 0) and (row[3] == 1) and (row[4] == 0):\n",
      "C:\\Users\\jonat\\AppData\\Local\\Temp\\ipykernel_25504\\1727096209.py:14: FutureWarning: Series.__getitem__ treating keys as positions is deprecated. In a future version, integer keys will always be treated as labels (consistent with DataFrame behavior). To access a value by position, use `ser.iloc[pos]`\n",
      "  elif (row[2] == 1) and (row[3] == 2) and (row[4] == 0):\n",
      "C:\\Users\\jonat\\AppData\\Local\\Temp\\ipykernel_25504\\1727096209.py:2: FutureWarning: Series.__getitem__ treating keys as positions is deprecated. In a future version, integer keys will always be treated as labels (consistent with DataFrame behavior). To access a value by position, use `ser.iloc[pos]`\n",
      "  if (row[2] == 1) and (row[3] == 2) and (row[4] == 1):\n",
      "C:\\Users\\jonat\\AppData\\Local\\Temp\\ipykernel_25504\\1727096209.py:4: FutureWarning: Series.__getitem__ treating keys as positions is deprecated. In a future version, integer keys will always be treated as labels (consistent with DataFrame behavior). To access a value by position, use `ser.iloc[pos]`\n",
      "  elif (row[2] == 1) and (row[3] == 1) and (row[4] == 1):\n",
      "C:\\Users\\jonat\\AppData\\Local\\Temp\\ipykernel_25504\\1727096209.py:6: FutureWarning: Series.__getitem__ treating keys as positions is deprecated. In a future version, integer keys will always be treated as labels (consistent with DataFrame behavior). To access a value by position, use `ser.iloc[pos]`\n",
      "  elif (row[2] == 1) and (row[3] == 0) and (row[4] == 1):\n",
      "C:\\Users\\jonat\\AppData\\Local\\Temp\\ipykernel_25504\\1727096209.py:8: FutureWarning: Series.__getitem__ treating keys as positions is deprecated. In a future version, integer keys will always be treated as labels (consistent with DataFrame behavior). To access a value by position, use `ser.iloc[pos]`\n",
      "  elif (row[2] == 0) and (row[3] == 2) and (row[4] == 0):\n",
      "C:\\Users\\jonat\\AppData\\Local\\Temp\\ipykernel_25504\\1727096209.py:10: FutureWarning: Series.__getitem__ treating keys as positions is deprecated. In a future version, integer keys will always be treated as labels (consistent with DataFrame behavior). To access a value by position, use `ser.iloc[pos]`\n",
      "  elif (row[2] == 0) and (row[3] == 1) and (row[4] == 1):\n",
      "C:\\Users\\jonat\\AppData\\Local\\Temp\\ipykernel_25504\\1727096209.py:12: FutureWarning: Series.__getitem__ treating keys as positions is deprecated. In a future version, integer keys will always be treated as labels (consistent with DataFrame behavior). To access a value by position, use `ser.iloc[pos]`\n",
      "  elif (row[2] == 0) and (row[3] == 1) and (row[4] == 0):\n",
      "C:\\Users\\jonat\\AppData\\Local\\Temp\\ipykernel_25504\\1727096209.py:14: FutureWarning: Series.__getitem__ treating keys as positions is deprecated. In a future version, integer keys will always be treated as labels (consistent with DataFrame behavior). To access a value by position, use `ser.iloc[pos]`\n",
      "  elif (row[2] == 1) and (row[3] == 2) and (row[4] == 0):\n",
      "C:\\Users\\jonat\\AppData\\Local\\Temp\\ipykernel_25504\\1727096209.py:16: FutureWarning: Series.__getitem__ treating keys as positions is deprecated. In a future version, integer keys will always be treated as labels (consistent with DataFrame behavior). To access a value by position, use `ser.iloc[pos]`\n",
      "  elif (row[2] == 1) and (row[3] == 1) and (row[4] == 0):\n",
      "C:\\Users\\jonat\\AppData\\Local\\Temp\\ipykernel_25504\\1727096209.py:18: FutureWarning: Series.__getitem__ treating keys as positions is deprecated. In a future version, integer keys will always be treated as labels (consistent with DataFrame behavior). To access a value by position, use `ser.iloc[pos]`\n",
      "  elif (row[2] == 1) and (row[3] == 0) and (row[4] == 0):\n",
      "C:\\Users\\jonat\\AppData\\Local\\Temp\\ipykernel_25504\\1727096209.py:20: FutureWarning: Series.__getitem__ treating keys as positions is deprecated. In a future version, integer keys will always be treated as labels (consistent with DataFrame behavior). To access a value by position, use `ser.iloc[pos]`\n",
      "  elif (row[2] == 0) and (row[3] == 0) and (row[4] == 0):\n",
      "C:\\Users\\jonat\\AppData\\Local\\Temp\\ipykernel_25504\\1727096209.py:22: FutureWarning: Series.__getitem__ treating keys as positions is deprecated. In a future version, integer keys will always be treated as labels (consistent with DataFrame behavior). To access a value by position, use `ser.iloc[pos]`\n",
      "  elif (row[2] == 0) and (row[3] == 0) and (row[4] == 1):\n",
      "C:\\Users\\jonat\\AppData\\Local\\Temp\\ipykernel_25504\\1727096209.py:24: FutureWarning: Series.__getitem__ treating keys as positions is deprecated. In a future version, integer keys will always be treated as labels (consistent with DataFrame behavior). To access a value by position, use `ser.iloc[pos]`\n",
      "  elif (row[2] == 0) and (row[3] == 1) and (row[4] == 1):\n"
     ]
    }
   ],
   "source": [
    "'''\n",
    "\n",
    "    Itero sobre cada linea para crear una nueva columna llamada ratin, esa es la que voy a utilizar para entrenar el modelo, en conjunto con app_name y user.\n",
    "\n",
    "'''\n",
    "\n",
    "for index, row in prueba1.iterrows():\n",
    "    if (row[2] == 1) and (row[3] == 2) and (row[4] == 1):\n",
    "        prueba1.at[index, 'rating'] = 4\n",
    "    elif (row[2] == 1) and (row[3] == 1) and (row[4] == 1):\n",
    "        prueba1.at[index, 'rating'] = 3\n",
    "    elif (row[2] == 1) and (row[3] == 0) and (row[4] == 1):\n",
    "        prueba1.at[index, 'rating'] = 2\n",
    "    elif (row[2] == 0) and (row[3] == 2) and (row[4] == 0):\n",
    "        prueba1.at[index, 'rating'] = 2\n",
    "    elif (row[2] == 0) and (row[3] == 1) and (row[4] == 1):\n",
    "        prueba1.at[index, 'rating'] = 2\n",
    "    elif (row[2] == 0) and (row[3] == 1) and (row[4] == 0):\n",
    "        prueba1.at[index, 'rating'] = 1\n",
    "    elif (row[2] == 1) and (row[3] == 2) and (row[4] == 0):\n",
    "        prueba1.at[index, 'rating'] = 3\n",
    "    elif (row[2] == 1) and (row[3] == 1) and (row[4] == 0):\n",
    "        prueba1.at[index, 'rating'] = 2\n",
    "    elif (row[2] == 1) and (row[3] == 0) and (row[4] == 0):\n",
    "        prueba1.at[index, 'rating'] = 1\n",
    "    elif (row[2] == 0) and (row[3] == 0) and (row[4] == 0):\n",
    "        prueba1.at[index, 'rating'] = 0\n",
    "    elif (row[2] == 0) and (row[3] == 0) and (row[4] == 1):\n",
    "        prueba1.at[index, 'rating'] = 1\n",
    "    elif (row[2] == 0) and (row[3] == 1) and (row[4] == 1):\n",
    "        prueba1.at[index, 'rating'] = 2\n",
    "    else:\n",
    "        prueba1.at[index, 'rating'] = 2\n",
    "        "
   ]
  },
  {
   "cell_type": "code",
   "execution_count": 413,
   "metadata": {},
   "outputs": [],
   "source": [
    "'''\n",
    "\n",
    "    Vuelvo a filtrar el dataset, para obtener solo las columnas que necesarias para entrenar el modelo\n",
    "\n",
    "'''\n",
    "\n",
    "entrenar = prueba1[['user','app_name','rating']]"
   ]
  },
  {
   "cell_type": "code",
   "execution_count": 361,
   "metadata": {},
   "outputs": [
    {
     "name": "stdout",
     "output_type": "stream",
     "text": [
      "Mejores parámetros encontrados: {'n_factors': 50, 'n_epochs': 20, 'lr_all': 0.01, 'reg_all': 0.04, 'random_state': 0}\n"
     ]
    }
   ],
   "source": [
    "'''\n",
    "\n",
    "    Utilizo la herramienta GridSearchCV, para buscar los mejores hiperparametros para mi modelo\n",
    "    Elegi SSVDpp por que es útil cuando se trata de sistemas de recomendación basados en datos implícitos\n",
    "\n",
    "'''\n",
    "\n",
    "reader = Reader(rating_scale=(0, 4)) \n",
    "\n",
    "data = Dataset.load_from_df(entrenar[['user', 'app_name', 'rating']], reader)\n",
    "\n",
    "param_grid = {\n",
    "    'n_factors': [50, 100],\n",
    "    'n_epochs': [20, 25],\n",
    "    'lr_all': [0.005, 0.01],\n",
    "    'reg_all': [0.02, 0.04],\n",
    "    'random_state': [0, 42]\n",
    "}\n",
    "\n",
    "model = SVDpp()\n",
    "\n",
    "grid_search = GridSearchCV(SVDpp, param_grid, measures=['rmse'], cv=3)\n",
    "\n",
    "grid_search.fit(data)\n",
    "\n",
    "best_params = grid_search.best_params['rmse']\n",
    "\n",
    "print(\"Mejores parámetros encontrados:\", best_params)\n",
    "\n",
    "#Mejores parámetros encontrados: {'n_factors': 50, 'n_epochs': 25, 'lr_all': 0.005, 'reg_all': 0.04, 'random_state': 42}"
   ]
  },
  {
   "cell_type": "code",
   "execution_count": 438,
   "metadata": {},
   "outputs": [
    {
     "name": "stdout",
     "output_type": "stream",
     "text": [
      "RMSE: 1.0196\n",
      "RMSE: 1.0196406487549206\n"
     ]
    }
   ],
   "source": [
    "'''\n",
    "\n",
    "    Con los datos ya preparados y los mejores hiperparametros, solo me queda entrenar el modelo.\n",
    "\n",
    "'''\n",
    "\n",
    "reader = Reader(rating_scale=(0, 4))  # el rating_scale hace referencia al puntaje de mi columna rating\n",
    "\n",
    "data = Dataset.load_from_df(entrenar[['user', 'app_name', 'rating']], reader)\n",
    "\n",
    "trainset, testset = train_test_split(data, test_size=0.2)\n",
    "\n",
    "model = SVDpp(n_factors = 50, n_epochs = 25, lr_all= 0.005, reg_all= 0.04)\n",
    "\n",
    "model.fit(trainset)\n",
    "\n",
    "predictions = model.test(testset)\n",
    "\n",
    "from surprise import accuracy\n",
    "\n",
    "rmse = accuracy.rmse(predictions)\n",
    "print(f\"RMSE: {rmse}\")"
   ]
  },
  {
   "cell_type": "code",
   "execution_count": 42,
   "metadata": {},
   "outputs": [],
   "source": [
    "def recomendaciones_usuario(usuario: str):\n",
    "    '''\n",
    "    \n",
    "        Esta funcion pone en marcha el modelo ya entrenado de machine learning, solo se le pasa un usuario en los requisitos\n",
    "        La funcion va a retornar 5 juegos recomendados en base a los gustos del usuario, basado en su rating recomendaciones\n",
    "        En caso de que el usuario ingresado no haya ralizado una compra y no tenga items en su biblioteca, se le presentaran\n",
    "        5 juegos al asar, que cambiaran luego cuando se determine el gusto del usuario al comprar y realizar valoraciones de juegos.\n",
    "    \n",
    "    '''\n",
    "    \n",
    "    if usuario not in entrenar['user'].unique():\n",
    "        juegos_aleatorios = list(entrenar['app_name'].sample(5))\n",
    "        mensaje = f'El usuario {usuario} no posee ningún item en su biblioteca, por lo que la recomendación será aleatoria.'\n",
    "        return {mensaje: juegos_aleatorios}\n",
    "    else:\n",
    "        diccionario = {}\n",
    "        \n",
    "        juegos_valorados = entrenar[entrenar['user'] == usuario]['app_name'].unique()\n",
    "        todos_los_juegos = entrenar['app_name'].unique()\n",
    "\n",
    "        juegos_no_valorados = list(set(todos_los_juegos) - set(juegos_valorados))\n",
    "\n",
    "        predicciones = [model.predict(usuario, juego) for juego in juegos_no_valorados]\n",
    "        \n",
    "        recomendaciones = sorted(predicciones, key=lambda x: x.est, reverse=True)[:5] \n",
    "        cont = 1\n",
    "        for recomendacion in recomendaciones:\n",
    "            diccionario[f'Top {cont}'] = recomendacion.iid\n",
    "            cont += 1\n",
    "            \n",
    "        return {f'Usuario: {usuario}': diccionario}\n",
    "\n"
   ]
  },
  {
   "cell_type": "code",
   "execution_count": 48,
   "metadata": {},
   "outputs": [
    {
     "data": {
      "text/plain": [
       "{'El usuario Freejam no posee ningún item en su biblioteca, por lo que la recomendación será aleatoria.': ['Counter-Strike: Global Offensive',\n",
       "  'Dying Light',\n",
       "  'Counter-Strike: Global Offensive',\n",
       "  'Middle-earth™: Shadow of Mordor™',\n",
       "  'Castle Crashers®']}"
      ]
     },
     "execution_count": 48,
     "metadata": {},
     "output_type": "execute_result"
    }
   ],
   "source": [
    "'''\n",
    "    Realizo un pequenio testeo\n",
    "'''\n",
    "\n",
    "testeo1 = recomendaciones_usuario('Freejam')\n",
    "testeo1"
   ]
  },
  {
   "cell_type": "code",
   "execution_count": 33,
   "metadata": {},
   "outputs": [
    {
     "data": {
      "text/plain": [
       "{'76561197970982479': {'Usuario: 76561197970982479': {'Top 1': 'Magicite',\n",
       "   'Top 2': 'Bit Blaster XL',\n",
       "   'Top 3': 'The Elder Scrolls® Online: Tamriel Unlimited™',\n",
       "   'Top 4': 'Tales from the Borderlands',\n",
       "   'Top 5': \"Sid Meier's Civilization V: Brave New World\"}},\n",
       " 'death-hunter': {'Usuario: death-hunter': {'Top 1': 'LEGO® Star Wars™ - The Complete Saga',\n",
       "   'Top 2': 'Batman - The Telltale Series',\n",
       "   'Top 3': 'STAR WARS™ Knights of the Old Republic™ II - The Sith Lords™',\n",
       "   'Top 4': 'Resident Evil 6 / Biohazard 6',\n",
       "   'Top 5': 'Bit Blaster XL'}},\n",
       " 'DJKamBer': {'Usuario: DJKamBer': {'Top 1': 'Batman - The Telltale Series',\n",
       "   'Top 2': 'Bit Blaster XL',\n",
       "   'Top 3': 'Dragon Age: Origins',\n",
       "   'Top 4': 'Resident Evil 6 / Biohazard 6',\n",
       "   'Top 5': 'Life is Strange - Episode 1'}},\n",
       " 'diego9031': {'Usuario: diego9031': {'Top 1': 'Tales from the Borderlands',\n",
       "   'Top 2': 'Bit Blaster XL',\n",
       "   'Top 3': 'Batman - The Telltale Series',\n",
       "   'Top 4': 'SMITE®',\n",
       "   'Top 5': 'FINAL FANTASY TYPE-0™ HD'}},\n",
       " '76561198081962345': {'Usuario: 76561198081962345': {'Top 1': 'STAR WARS™ Knights of the Old Republic™ II - The Sith Lords™',\n",
       "   'Top 2': 'Tropico 5',\n",
       "   'Top 3': 'LEGO® Star Wars™ - The Complete Saga',\n",
       "   'Top 4': 'Magicite',\n",
       "   'Top 5': 'Deus Ex: Mankind Divided'}}}"
      ]
     },
     "execution_count": 33,
     "metadata": {},
     "output_type": "execute_result"
    }
   ],
   "source": [
    "usuarios = entrenar['user'].unique() # --- > Testeo diferentes usuarios para comprobar su comportamiento\n",
    "\n",
    "diccionario = {}\n",
    "\n",
    "for x in usuarios[:5]:\n",
    "    \n",
    "    diccionario[x] = recomendaciones_usuario(x)\n",
    "\n",
    "diccionario"
   ]
  },
  {
   "cell_type": "code",
   "execution_count": 21,
   "metadata": {},
   "outputs": [],
   "source": [
    "'''\n",
    "    Exporto el dataset como un csv\n",
    "'''\n",
    "prueba1.to_csv('../data_set_limpio/modelo.csv',encoding='UTF-8',index=False)"
   ]
  },
  {
   "cell_type": "code",
   "execution_count": 22,
   "metadata": {},
   "outputs": [],
   "source": [
    "'''\n",
    "    Releo el archivo, para luego comprimirlo y exportarlo ahora en gzip.\n",
    "'''\n",
    "with open('../data_set_limpio/modelo.csv', 'rb') as f_in, gzip.open('../data_set_limpio/modelo.csv.gz', 'wb') as f_out:\n",
    "    f_out.writelines(f_in)"
   ]
  },
  {
   "cell_type": "code",
   "execution_count": 425,
   "metadata": {},
   "outputs": [],
   "source": [
    "'''\n",
    "    Bloque de codigo para realizar el llamado al modelo de machine learning\n",
    "'''\n",
    "with open('../Modelo/modelo_entrenado.pkl', 'wb') as file:\n",
    "    pickle.dump(model, file)"
   ]
  }
 ],
 "metadata": {
  "kernelspec": {
   "display_name": "Python 3",
   "language": "python",
   "name": "python3"
  },
  "language_info": {
   "codemirror_mode": {
    "name": "ipython",
    "version": 3
   },
   "file_extension": ".py",
   "mimetype": "text/x-python",
   "name": "python",
   "nbconvert_exporter": "python",
   "pygments_lexer": "ipython3",
   "version": "3.9.18"
  }
 },
 "nbformat": 4,
 "nbformat_minor": 2
}
