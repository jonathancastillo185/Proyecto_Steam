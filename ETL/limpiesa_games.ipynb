{
 "cells": [
  {
   "cell_type": "code",
   "execution_count": 4,
   "metadata": {},
   "outputs": [
    {
     "ename": "SyntaxError",
     "evalue": "invalid syntax (2625645245.py, line 3)",
     "output_type": "error",
     "traceback": [
      "\u001b[1;36m  Cell \u001b[1;32mIn[4], line 3\u001b[1;36m\u001b[0m\n\u001b[1;33m    from '../Funciones/funciones.py' import extraer_anio\u001b[0m\n\u001b[1;37m         ^\u001b[0m\n\u001b[1;31mSyntaxError\u001b[0m\u001b[1;31m:\u001b[0m invalid syntax\n"
     ]
    }
   ],
   "source": [
    "import pandas as pd\n",
    "import gzip\n",
    "from '../Funciones/funciones.py' import extraer_anio\n",
    "from '../Funciones/funciones.py' import convertir_0"
   ]
  },
  {
   "cell_type": "code",
   "execution_count": 5,
   "metadata": {},
   "outputs": [
    {
     "name": "stderr",
     "output_type": "stream",
     "text": [
      "C:\\Users\\jonat\\AppData\\Local\\Temp\\ipykernel_11480\\2807454174.py:1: DtypeWarning: Columns (0,1,2,3,4,5,6,7,8,9,12) have mixed types. Specify dtype option on import or set low_memory=False.\n",
      "  games = pd.read_csv(r'data_sets\\steam_gamez.csv',index_col=False)\n"
     ]
    }
   ],
   "source": [
    "games = pd.read_csv(r'../data_sets/steam_gamez.csv',index_col=False)"
   ]
  },
  {
   "cell_type": "code",
   "execution_count": 6,
   "metadata": {},
   "outputs": [
    {
     "data": {
      "text/plain": [
       "120445"
      ]
     },
     "execution_count": 6,
     "metadata": {},
     "output_type": "execute_result"
    }
   ],
   "source": [
    "# Verifico que las filas que tengo pensado eliminar, solo esten rellenas con valores NaN, de lo contrario, en pasos siguientes verificare como realizar la normalizacion\n",
    "games[games.isna().all(axis=1)].shape[0] + games.dropna(thresh=1).shape[0]"
   ]
  },
  {
   "cell_type": "code",
   "execution_count": 7,
   "metadata": {},
   "outputs": [
    {
     "data": {
      "text/plain": [
       "(27220, 11)"
      ]
     },
     "execution_count": 7,
     "metadata": {},
     "output_type": "execute_result"
    }
   ],
   "source": [
    "# Elimino las filas nulas\n",
    "\n",
    "\n",
    "games.dropna(thresh=9,inplace=True) # ---> Elimino las filas que cumplen con la condicion de estar completamente sin datos (NaN), de lo contrario si contienen algun valor no se eliminan\n",
    "\n",
    "\n",
    "games.drop(columns='title',inplace=True) # ---> Elimino la columna title ya que la columna app_name contien el mismo valor y con los faltantes\n",
    "\n",
    "\n",
    "games = games.drop(games.loc[games['id'].isna()].index) # ---> Realice una exploracion en la columna id, y tome la desicion de eliminar las filas que no contienen valores, no tienen relevancia en el resto del proceso\n",
    "\n",
    "\n",
    "games['id'] = games['id'].astype(int) # ---> Realice una conversion en el tipo de dato de la columna id, de Float a Int\n",
    "\n",
    "\n",
    "games = games.drop_duplicates(subset=['id']) # ---> Comprobe que existen valores repetidos, verifique que todos sus valores sean identicos y luego procedi a realizar su eliminacion.\n",
    "\n",
    "\n",
    "# Primero comprobe que la columna genres y tags, contienen los mismos valores, complete los faltantes de la columna tags con los valores de la columna genres\n",
    "filas_vacias = games['tags'].isna() # ---> guardo las filas con valores NaN en tags\n",
    "games.loc[filas_vacias, 'tags'] = games.loc[filas_vacias, 'genres'] # asigno los valores de la columna genres dentro de la columna tags\n",
    "games.drop(columns='genres',inplace=True) # ---> Elimino la columna genres\n",
    "\n",
    "\n",
    "# Relleno los valores de la columna publisher, con los valores de la columna developer, solo cuando publisher no tiene ningun valor.\n",
    "filas_vacias = games['publisher'].isna()\n",
    "games.loc[filas_vacias, 'publisher'] = games.loc[filas_vacias, 'developer']\n",
    "# En este caso no elimino ninguna de las columnas, ya que algunos valores que son relevantes tambien son diferentes.\n",
    "\n",
    "\n",
    "games.dropna(inplace=True) # ---> Elimino todos los NaN\n",
    "\n",
    "# Utilizo mi funcion extraer_anio guardada y especificada en el directorio funcines, archivo funciones.py\n",
    "games['release_date'] = games['release_date'].apply(extraer_anio)\n",
    "\n",
    "# Normalizo los ultimos datos de la columna release_date\n",
    "games['release_date'] = games['release_date'].replace('SOON™',2019)\n",
    "games['release_date'] = games['release_date'].replace('soon',2019)\n",
    "games['release_date'] = games['release_date'].replace('SOON',2019)\n",
    "\n",
    "# Reemplazo todos los valores que no pueden convertirse a float, por 0.0, con mi funcion convertir_0 que tambien esta guardada y explicada dentro del archivo funciones.py\n",
    "games['price'] = games['price'].apply(convertir_0)\n",
    "\n",
    "# Convierto la columna id de valores str a int\n",
    "games['id'] = games['id'].astype(int)\n",
    "\n",
    "# Convierto la columna release_date de valores str a int\n",
    "games['release_date'] = games['release_date'].astype(int)\n",
    "\n",
    "games.shape"
   ]
  },
  {
   "cell_type": "code",
   "execution_count": 1,
   "metadata": {},
   "outputs": [
    {
     "ename": "NameError",
     "evalue": "name 'games' is not defined",
     "output_type": "error",
     "traceback": [
      "\u001b[1;31m---------------------------------------------------------------------------\u001b[0m",
      "\u001b[1;31mNameError\u001b[0m                                 Traceback (most recent call last)",
      "\u001b[1;32mc:\\Users\\jonat\\Desktop\\github1 - copia\\Proyecto_Steam\\ETL\\limpiesa_games.ipynb Celda 5\u001b[0m line \u001b[0;36m2\n\u001b[0;32m      <a href='vscode-notebook-cell:/c%3A/Users/jonat/Desktop/github1%20-%20copia/Proyecto_Steam/ETL/limpiesa_games.ipynb#W4sZmlsZQ%3D%3D?line=0'>1</a>\u001b[0m \u001b[39m#echo un vistaso al dataframe para ver si logro el objetivo esperado\u001b[39;00m\n\u001b[1;32m----> <a href='vscode-notebook-cell:/c%3A/Users/jonat/Desktop/github1%20-%20copia/Proyecto_Steam/ETL/limpiesa_games.ipynb#W4sZmlsZQ%3D%3D?line=1'>2</a>\u001b[0m games\u001b[39m.\u001b[39mhead(\u001b[39m20\u001b[39m)\n",
      "\u001b[1;31mNameError\u001b[0m: name 'games' is not defined"
     ]
    }
   ],
   "source": [
    "#echo un vistaso al dataframe para ver si logro el objetivo esperado\n",
    "games.head(20)"
   ]
  },
  {
   "cell_type": "code",
   "execution_count": 11,
   "metadata": {},
   "outputs": [
    {
     "data": {
      "text/plain": [
       "publisher       0\n",
       "app_name        0\n",
       "url             0\n",
       "release_date    0\n",
       "tags            0\n",
       "reviews_url     0\n",
       "specs           0\n",
       "price           0\n",
       "early_access    0\n",
       "id              0\n",
       "developer       0\n",
       "dtype: int64"
      ]
     },
     "execution_count": 11,
     "metadata": {},
     "output_type": "execute_result"
    }
   ],
   "source": [
    "games.isna().sum()"
   ]
  },
  {
   "cell_type": "code",
   "execution_count": 12,
   "metadata": {},
   "outputs": [],
   "source": [
    "games.to_csv('../data_set_limpio/games_preparado.csv',encoding='UTF-8',index=False)"
   ]
  },
  {
   "cell_type": "code",
   "execution_count": 13,
   "metadata": {},
   "outputs": [],
   "source": [
    "with open('../data_set_limpio/games_preparado.csv', 'rb') as f_in, gzip.open('data_set_limpio/games_preparado.csv.gz', 'wb') as f_out:\n",
    "    f_out.writelines(f_in)"
   ]
  }
 ],
 "metadata": {
  "kernelspec": {
   "display_name": "Python 3",
   "language": "python",
   "name": "python3"
  },
  "language_info": {
   "codemirror_mode": {
    "name": "ipython",
    "version": 3
   },
   "file_extension": ".py",
   "mimetype": "text/x-python",
   "name": "python",
   "nbconvert_exporter": "python",
   "pygments_lexer": "ipython3",
   "version": "3.9.18"
  }
 },
 "nbformat": 4,
 "nbformat_minor": 2
}
