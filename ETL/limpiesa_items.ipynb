{
 "cells": [
  {
   "cell_type": "code",
   "execution_count": 2,
   "metadata": {},
   "outputs": [],
   "source": [
    "import pandas as pd\n",
    "import ast\n",
    "import pyarrow.parquet as pq\n",
    "import ast\n",
    "import time\n",
    "import gzip\n",
    "%load_ext memory_profiler"
   ]
  },
  {
   "cell_type": "code",
   "execution_count": null,
   "metadata": {},
   "outputs": [],
   "source": [
    "#items = pd.read_csv(r'../data_sets/items_user.csv',index_col=False)"
   ]
  },
  {
   "cell_type": "code",
   "execution_count": 3,
   "metadata": {},
   "outputs": [],
   "source": [
    "item = pd.read_csv(r'../data_set_limpio/item_desplegado.csv.gz')"
   ]
  },
  {
   "cell_type": "code",
   "execution_count": 4,
   "metadata": {},
   "outputs": [],
   "source": [
    "df = pd.read_csv(r'../data_set_limpio/games_preparado.csv.gz')"
   ]
  },
  {
   "cell_type": "code",
   "execution_count": null,
   "metadata": {},
   "outputs": [],
   "source": [
    "#items = items[items['items'] != '[]'] # ---> realizo una limpieza de los usuarios que no tienen items, por que no van a ser relevantes."
   ]
  },
  {
   "cell_type": "code",
   "execution_count": 10,
   "metadata": {},
   "outputs": [
    {
     "data": {
      "text/html": [
       "<div>\n",
       "<style scoped>\n",
       "    .dataframe tbody tr th:only-of-type {\n",
       "        vertical-align: middle;\n",
       "    }\n",
       "\n",
       "    .dataframe tbody tr th {\n",
       "        vertical-align: top;\n",
       "    }\n",
       "\n",
       "    .dataframe thead th {\n",
       "        text-align: right;\n",
       "    }\n",
       "</style>\n",
       "<table border=\"1\" class=\"dataframe\">\n",
       "  <thead>\n",
       "    <tr style=\"text-align: right;\">\n",
       "      <th></th>\n",
       "      <th>item_id</th>\n",
       "      <th>item_name</th>\n",
       "      <th>playtime_forever</th>\n",
       "      <th>user</th>\n",
       "    </tr>\n",
       "  </thead>\n",
       "  <tbody>\n",
       "    <tr>\n",
       "      <th>0</th>\n",
       "      <td>10</td>\n",
       "      <td>Counter-Strike</td>\n",
       "      <td>6</td>\n",
       "      <td>76561197970982479</td>\n",
       "    </tr>\n",
       "    <tr>\n",
       "      <th>1</th>\n",
       "      <td>30</td>\n",
       "      <td>Day of Defeat</td>\n",
       "      <td>7</td>\n",
       "      <td>76561197970982479</td>\n",
       "    </tr>\n",
       "    <tr>\n",
       "      <th>2</th>\n",
       "      <td>300</td>\n",
       "      <td>Day of Defeat: Source</td>\n",
       "      <td>4733</td>\n",
       "      <td>76561197970982479</td>\n",
       "    </tr>\n",
       "    <tr>\n",
       "      <th>3</th>\n",
       "      <td>240</td>\n",
       "      <td>Counter-Strike: Source</td>\n",
       "      <td>1853</td>\n",
       "      <td>76561197970982479</td>\n",
       "    </tr>\n",
       "    <tr>\n",
       "      <th>4</th>\n",
       "      <td>3830</td>\n",
       "      <td>Psychonauts</td>\n",
       "      <td>333</td>\n",
       "      <td>76561197970982479</td>\n",
       "    </tr>\n",
       "  </tbody>\n",
       "</table>\n",
       "</div>"
      ],
      "text/plain": [
       "   item_id               item_name  playtime_forever               user\n",
       "0       10          Counter-Strike                 6  76561197970982479\n",
       "1       30           Day of Defeat                 7  76561197970982479\n",
       "2      300   Day of Defeat: Source              4733  76561197970982479\n",
       "3      240  Counter-Strike: Source              1853  76561197970982479\n",
       "4     3830             Psychonauts               333  76561197970982479"
      ]
     },
     "execution_count": 10,
     "metadata": {},
     "output_type": "execute_result"
    }
   ],
   "source": [
    "item.head()"
   ]
  },
  {
   "cell_type": "code",
   "execution_count": null,
   "metadata": {},
   "outputs": [],
   "source": [
    "user = '76561197970982479'\n",
    "\n",
    "usuario = item.loc[item['user_id'] == user]['items']\n",
    "\n",
    "if not usuario.empty:\n",
    "    usuario = usuario.iloc[0]\n",
    "data = ast.literal_eval(usuario)\n",
    "result = pd.DataFrame(data)\n",
    "result.drop(columns='playtime_2weeks',inplace=True)\n",
    "\n",
    "result = result[result['playtime_forever'] != 0]\n",
    "result['user'] = user\n",
    "result"
   ]
  },
  {
   "cell_type": "code",
   "execution_count": null,
   "metadata": {},
   "outputs": [],
   "source": [
    "def process_data_first_100(item):\n",
    "    results = []  # Lista para almacenar los resultados desanidados\n",
    "    limited_item = item.head(1000)  # Tomar solo las primeras 100 filas\n",
    "\n",
    "    start_time = time.time()  # Registrar el tiempo de inicio\n",
    "\n",
    "    for index, row in limited_item.iterrows():\n",
    "        usuario = row['items']\n",
    "\n",
    "        if not pd.isnull(usuario):  # Verifica si el valor no es nulo\n",
    "            usuario = ast.literal_eval(usuario)\n",
    "            result = pd.DataFrame(usuario)\n",
    "            result.drop(columns='playtime_2weeks', inplace=True)\n",
    "            result = result[result['playtime_forever'] != 0]\n",
    "            result['user'] = row['user_id']\n",
    "            results.append(result)\n",
    "\n",
    "    end_time = time.time()  # Registrar el tiempo al finalizar\n",
    "\n",
    "    execution_time = end_time - start_time  # Calcular el tiempo de ejecución\n",
    "    print(f\"Tiempo de ejecución: {execution_time} segundos\")\n",
    "\n",
    "    concatenated_results = pd.concat(results, ignore_index=True) if results else pd.DataFrame()  # Concatenar resultados\n",
    "\n",
    "    return concatenated_results\n"
   ]
  },
  {
   "cell_type": "code",
   "execution_count": null,
   "metadata": {},
   "outputs": [],
   "source": [
    "def process_data_full(item):\n",
    "    results = []  # Lista para almacenar los resultados desanidados\n",
    "\n",
    "    start_time = time.time()  # Registrar el tiempo de inicio\n",
    "\n",
    "    for index, row in item.iterrows():\n",
    "        usuario = row['items']\n",
    "\n",
    "        if not pd.isnull(usuario):  # Verifica si el valor no es nulo\n",
    "            usuario = ast.literal_eval(usuario)\n",
    "            result = pd.DataFrame(usuario)\n",
    "            result.drop(columns='playtime_2weeks', inplace=True)\n",
    "            result = result[result['playtime_forever'] != 0]\n",
    "            result['user'] = row['user_id']\n",
    "            result\n",
    "        \n",
    "            results.append(result)\n",
    "\n",
    "    end_time = time.time()  # Registrar el tiempo al finalizar\n",
    "\n",
    "    execution_time = end_time - start_time  # Calcular el tiempo de ejecución\n",
    "    print(f\"Tiempo de ejecución: {execution_time} segundos\")\n",
    "\n",
    "    concatenated_results = pd.concat(results, ignore_index=True) if results else pd.DataFrame()  # Concatenar resultados\n",
    "\n",
    "    return concatenated_results\n"
   ]
  },
  {
   "cell_type": "code",
   "execution_count": null,
   "metadata": {},
   "outputs": [],
   "source": [
    "resultados_concatenados = process_data_full(item)"
   ]
  },
  {
   "cell_type": "code",
   "execution_count": 30,
   "metadata": {},
   "outputs": [],
   "source": [
    "df = df[['id','price']]"
   ]
  },
  {
   "cell_type": "code",
   "execution_count": 39,
   "metadata": {},
   "outputs": [
    {
     "data": {
      "text/html": [
       "<div>\n",
       "<style scoped>\n",
       "    .dataframe tbody tr th:only-of-type {\n",
       "        vertical-align: middle;\n",
       "    }\n",
       "\n",
       "    .dataframe tbody tr th {\n",
       "        vertical-align: top;\n",
       "    }\n",
       "\n",
       "    .dataframe thead th {\n",
       "        text-align: right;\n",
       "    }\n",
       "</style>\n",
       "<table border=\"1\" class=\"dataframe\">\n",
       "  <thead>\n",
       "    <tr style=\"text-align: right;\">\n",
       "      <th></th>\n",
       "      <th>item_id</th>\n",
       "      <th>item_name</th>\n",
       "      <th>playtime_forever</th>\n",
       "      <th>user</th>\n",
       "      <th>id</th>\n",
       "      <th>price</th>\n",
       "    </tr>\n",
       "  </thead>\n",
       "  <tbody>\n",
       "    <tr>\n",
       "      <th>0</th>\n",
       "      <td>10</td>\n",
       "      <td>Counter-Strike</td>\n",
       "      <td>6</td>\n",
       "      <td>76561197970982479</td>\n",
       "      <td>10.0</td>\n",
       "      <td>9.99</td>\n",
       "    </tr>\n",
       "    <tr>\n",
       "      <th>1</th>\n",
       "      <td>30</td>\n",
       "      <td>Day of Defeat</td>\n",
       "      <td>7</td>\n",
       "      <td>76561197970982479</td>\n",
       "      <td>30.0</td>\n",
       "      <td>4.99</td>\n",
       "    </tr>\n",
       "    <tr>\n",
       "      <th>2</th>\n",
       "      <td>300</td>\n",
       "      <td>Day of Defeat: Source</td>\n",
       "      <td>4733</td>\n",
       "      <td>76561197970982479</td>\n",
       "      <td>300.0</td>\n",
       "      <td>9.99</td>\n",
       "    </tr>\n",
       "    <tr>\n",
       "      <th>3</th>\n",
       "      <td>240</td>\n",
       "      <td>Counter-Strike: Source</td>\n",
       "      <td>1853</td>\n",
       "      <td>76561197970982479</td>\n",
       "      <td>240.0</td>\n",
       "      <td>19.99</td>\n",
       "    </tr>\n",
       "    <tr>\n",
       "      <th>4</th>\n",
       "      <td>3830</td>\n",
       "      <td>Psychonauts</td>\n",
       "      <td>333</td>\n",
       "      <td>76561197970982479</td>\n",
       "      <td>3830.0</td>\n",
       "      <td>9.99</td>\n",
       "    </tr>\n",
       "    <tr>\n",
       "      <th>...</th>\n",
       "      <td>...</td>\n",
       "      <td>...</td>\n",
       "      <td>...</td>\n",
       "      <td>...</td>\n",
       "      <td>...</td>\n",
       "      <td>...</td>\n",
       "    </tr>\n",
       "    <tr>\n",
       "      <th>3285240</th>\n",
       "      <td>417860</td>\n",
       "      <td>Emily is Away</td>\n",
       "      <td>8</td>\n",
       "      <td>76561198323066619</td>\n",
       "      <td>417860.0</td>\n",
       "      <td>0.00</td>\n",
       "    </tr>\n",
       "    <tr>\n",
       "      <th>3285241</th>\n",
       "      <td>304930</td>\n",
       "      <td>Unturned</td>\n",
       "      <td>677</td>\n",
       "      <td>76561198329548331</td>\n",
       "      <td>304930.0</td>\n",
       "      <td>0.00</td>\n",
       "    </tr>\n",
       "    <tr>\n",
       "      <th>3285242</th>\n",
       "      <td>227940</td>\n",
       "      <td>Heroes &amp; Generals</td>\n",
       "      <td>43</td>\n",
       "      <td>76561198329548331</td>\n",
       "      <td>227940.0</td>\n",
       "      <td>0.00</td>\n",
       "    </tr>\n",
       "    <tr>\n",
       "      <th>3285243</th>\n",
       "      <td>388490</td>\n",
       "      <td>One Way To Die: Steam Edition</td>\n",
       "      <td>3</td>\n",
       "      <td>76561198329548331</td>\n",
       "      <td>388490.0</td>\n",
       "      <td>0.00</td>\n",
       "    </tr>\n",
       "    <tr>\n",
       "      <th>3285244</th>\n",
       "      <td>521570</td>\n",
       "      <td>You Have 10 Seconds 2</td>\n",
       "      <td>4</td>\n",
       "      <td>76561198329548331</td>\n",
       "      <td>521570.0</td>\n",
       "      <td>0.00</td>\n",
       "    </tr>\n",
       "  </tbody>\n",
       "</table>\n",
       "<p>2748512 rows × 6 columns</p>\n",
       "</div>"
      ],
      "text/plain": [
       "         item_id                      item_name  playtime_forever  \\\n",
       "0             10                 Counter-Strike                 6   \n",
       "1             30                  Day of Defeat                 7   \n",
       "2            300          Day of Defeat: Source              4733   \n",
       "3            240         Counter-Strike: Source              1853   \n",
       "4           3830                    Psychonauts               333   \n",
       "...          ...                            ...               ...   \n",
       "3285240   417860                  Emily is Away                 8   \n",
       "3285241   304930                       Unturned               677   \n",
       "3285242   227940              Heroes & Generals                43   \n",
       "3285243   388490  One Way To Die: Steam Edition                 3   \n",
       "3285244   521570          You Have 10 Seconds 2                 4   \n",
       "\n",
       "                      user        id  price  \n",
       "0        76561197970982479      10.0   9.99  \n",
       "1        76561197970982479      30.0   4.99  \n",
       "2        76561197970982479     300.0   9.99  \n",
       "3        76561197970982479     240.0  19.99  \n",
       "4        76561197970982479    3830.0   9.99  \n",
       "...                    ...       ...    ...  \n",
       "3285240  76561198323066619  417860.0   0.00  \n",
       "3285241  76561198329548331  304930.0   0.00  \n",
       "3285242  76561198329548331  227940.0   0.00  \n",
       "3285243  76561198329548331  388490.0   0.00  \n",
       "3285244  76561198329548331  521570.0   0.00  \n",
       "\n",
       "[2748512 rows x 6 columns]"
      ]
     },
     "execution_count": 39,
     "metadata": {},
     "output_type": "execute_result"
    }
   ],
   "source": [
    "item_precio = pd.merge(item, df, how='left', left_on='item_id', right_on='id')\n",
    "\n",
    "item_precio.dropna(inplace=True)\n",
    "\n",
    "item_precio"
   ]
  },
  {
   "cell_type": "code",
   "execution_count": 40,
   "metadata": {},
   "outputs": [],
   "source": [
    "item_precio.to_csv('../data_set_limpio/item_desplegado.csv',encoding='UTF-8',index=False)"
   ]
  },
  {
   "cell_type": "code",
   "execution_count": 41,
   "metadata": {},
   "outputs": [],
   "source": [
    "with open('../data_set_limpio/item_desplegado.csv', 'rb') as f_in, gzip.open('../data_set_limpio/item_desplegado.csv.gz', 'wb') as f_out:\n",
    "    f_out.writelines(f_in)"
   ]
  },
  {
   "cell_type": "code",
   "execution_count": null,
   "metadata": {},
   "outputs": [],
   "source": [
    "solo_necesario = item[['user_id','items_count']]"
   ]
  },
  {
   "cell_type": "code",
   "execution_count": null,
   "metadata": {},
   "outputs": [],
   "source": [
    "solo_necesario.to_csv('../data_set_limpio/item_cantidad_usuarios.csv',encoding='UTF-8',index=False)"
   ]
  },
  {
   "cell_type": "code",
   "execution_count": null,
   "metadata": {},
   "outputs": [],
   "source": [
    "with open('../data_set_limpio/item_cantidad_usuarios.csv', 'rb') as f_in, gzip.open('../data_set_limpio/item_cantidad_usuarios.csv.gz', 'wb') as f_out:\n",
    "    f_out.writelines(f_in)"
   ]
  }
 ],
 "metadata": {
  "kernelspec": {
   "display_name": "Python 3",
   "language": "python",
   "name": "python3"
  },
  "language_info": {
   "codemirror_mode": {
    "name": "ipython",
    "version": 3
   },
   "file_extension": ".py",
   "mimetype": "text/x-python",
   "name": "python",
   "nbconvert_exporter": "python",
   "pygments_lexer": "ipython3",
   "version": "3.11.5"
  }
 },
 "nbformat": 4,
 "nbformat_minor": 2
}
