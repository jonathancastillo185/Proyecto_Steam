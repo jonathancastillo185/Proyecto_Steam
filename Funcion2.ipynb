{
 "cells": [
  {
   "cell_type": "code",
   "execution_count": 1,
   "metadata": {},
   "outputs": [],
   "source": [
    "import pandas as pd\n",
    "import ast\n",
    "from funciones import extract\n",
    "import pyarrow\n",
    "import json\n",
    "import gzip\n",
    "import pandas as pd\n",
    "import pyarrow as pa\n",
    "import pyarrow.parquet as pq\n",
    "%load_ext memory_profiler\n",
    "import pyarrow.parquet as pq"
   ]
  },
  {
   "cell_type": "code",
   "execution_count": 3,
   "metadata": {},
   "outputs": [],
   "source": [
    "item_user = pd.read_csv(r'data_set_limpio\\item_cantidad_usuarios.csv.gz')"
   ]
  },
  {
   "cell_type": "code",
   "execution_count": 2,
   "metadata": {},
   "outputs": [],
   "source": [
    "opinion = pd.read_csv(r'data_set_limpio/reviews_preparado.csv.gz')"
   ]
  },
  {
   "cell_type": "code",
   "execution_count": 4,
   "metadata": {},
   "outputs": [],
   "source": [
    "def userdata(user: str):\n",
    "    try:\n",
    "        usuario = 0\n",
    "        chunks = pd.read_csv(r'data_set_limpio\\item_desplegado.csv.gz', chunksize=200000)\n",
    "        for chunk in chunks:\n",
    "            if chunk['user'].isin([user]).any():\n",
    "                usuario = chunk[chunk['user'] == user]\n",
    "                break\n",
    "\n",
    "        resultado = {\n",
    "            'Usuario' : user,\n",
    "            'Dinero gastado' : str(usuario['price'].sum())+'$',\n",
    "            'cantidad de items' : str(item_user.loc[item_user['user_id'] == user]['items_count'].values[0]),\n",
    "            'Porcentaje de recomendaciones' :str(round((len(opinion.loc[opinion['user'] == user])  / item_user.loc[item_user['user_id'] == user]['items_count'].values[0])*100,2))+'%'}\n",
    "        \n",
    "        return resultado\n",
    "    except:\n",
    "        return 'El usuario no se encuentra en la base de datos.'\n"
   ]
  },
  {
   "cell_type": "code",
   "execution_count": 5,
   "metadata": {},
   "outputs": [
    {
     "data": {
      "text/plain": [
       "{'Usuario': '76561198329548331',\n",
       " 'Dinero gastado': '0.0$',\n",
       " 'cantidad de items': '7',\n",
       " 'Porcentaje de recomendaciones': '0.0%'}"
      ]
     },
     "execution_count": 5,
     "metadata": {},
     "output_type": "execute_result"
    }
   ],
   "source": [
    "userdata('76561198329548331')"
   ]
  },
  {
   "cell_type": "markdown",
   "metadata": {},
   "source": [
    "usuarios probados - iteracion de chunks\n",
    "\n",
    "indice  -   usuario\n",
    "1000004     conordarley1998 -> peak memory: 320.53 MiB, increment: 193.39 MiB 4.42s\n",
    "2000003     xenocide1310 -> peak memory: peak memory: 324.86 MiB 4.38 s\n",
    "2050004     76561198073938058 -> peak memory: 323.74 MiB 5.1s\n",
    "1050004     76561198076447620 -> peak memory: 325.99 MiB 5 s\n",
    "550004      aromortis -> peak memory: 320.77 MiB 5 s"
   ]
  },
  {
   "cell_type": "markdown",
   "metadata": {},
   "source": [
    "usuarios probados - iteracion de chunks optimizada\n",
    "\n",
    "indice  -   usuario\n",
    "1000004     conordarley1998 -> peak memory: 171.46 MiB 2.4s => 1.8 s\n",
    "2000003     xenocide1310 -> peak memory: 140.34 MiB 3.9 s 100000 chunks = 2.9s\n",
    "2050004     76561198073938058 -> peak memory: 140.45 MiB 4.0 s = 3\n",
    "1050004     76561198076447620 -> peak memory: 140.23 MiB 2.3 s =  1.9\n",
    "550004      aromortis -> peak memory: 138.73 MiB    = 1.3"
   ]
  },
  {
   "cell_type": "code",
   "execution_count": 19,
   "metadata": {},
   "outputs": [
    {
     "data": {
      "text/html": [
       "<div>\n",
       "<style scoped>\n",
       "    .dataframe tbody tr th:only-of-type {\n",
       "        vertical-align: middle;\n",
       "    }\n",
       "\n",
       "    .dataframe tbody tr th {\n",
       "        vertical-align: top;\n",
       "    }\n",
       "\n",
       "    .dataframe thead th {\n",
       "        text-align: right;\n",
       "    }\n",
       "</style>\n",
       "<table border=\"1\" class=\"dataframe\">\n",
       "  <thead>\n",
       "    <tr style=\"text-align: right;\">\n",
       "      <th></th>\n",
       "      <th>user_id</th>\n",
       "      <th>items_count</th>\n",
       "    </tr>\n",
       "  </thead>\n",
       "  <tbody>\n",
       "    <tr>\n",
       "      <th>0</th>\n",
       "      <td>76561197970982479</td>\n",
       "      <td>277</td>\n",
       "    </tr>\n",
       "    <tr>\n",
       "      <th>1</th>\n",
       "      <td>js41637</td>\n",
       "      <td>888</td>\n",
       "    </tr>\n",
       "    <tr>\n",
       "      <th>2</th>\n",
       "      <td>evcentric</td>\n",
       "      <td>137</td>\n",
       "    </tr>\n",
       "    <tr>\n",
       "      <th>3</th>\n",
       "      <td>Riot-Punch</td>\n",
       "      <td>328</td>\n",
       "    </tr>\n",
       "    <tr>\n",
       "      <th>4</th>\n",
       "      <td>doctr</td>\n",
       "      <td>541</td>\n",
       "    </tr>\n",
       "    <tr>\n",
       "      <th>...</th>\n",
       "      <td>...</td>\n",
       "      <td>...</td>\n",
       "    </tr>\n",
       "    <tr>\n",
       "      <th>71499</th>\n",
       "      <td>76561198320136420</td>\n",
       "      <td>321</td>\n",
       "    </tr>\n",
       "    <tr>\n",
       "      <th>71500</th>\n",
       "      <td>ArkPlays7</td>\n",
       "      <td>4</td>\n",
       "    </tr>\n",
       "    <tr>\n",
       "      <th>71501</th>\n",
       "      <td>76561198323066619</td>\n",
       "      <td>22</td>\n",
       "    </tr>\n",
       "    <tr>\n",
       "      <th>71502</th>\n",
       "      <td>76561198326700687</td>\n",
       "      <td>177</td>\n",
       "    </tr>\n",
       "    <tr>\n",
       "      <th>71503</th>\n",
       "      <td>76561198329548331</td>\n",
       "      <td>7</td>\n",
       "    </tr>\n",
       "  </tbody>\n",
       "</table>\n",
       "<p>71504 rows × 2 columns</p>\n",
       "</div>"
      ],
      "text/plain": [
       "                 user_id  items_count\n",
       "0      76561197970982479          277\n",
       "1                js41637          888\n",
       "2              evcentric          137\n",
       "3             Riot-Punch          328\n",
       "4                  doctr          541\n",
       "...                  ...          ...\n",
       "71499  76561198320136420          321\n",
       "71500          ArkPlays7            4\n",
       "71501  76561198323066619           22\n",
       "71502  76561198326700687          177\n",
       "71503  76561198329548331            7\n",
       "\n",
       "[71504 rows x 2 columns]"
      ]
     },
     "execution_count": 19,
     "metadata": {},
     "output_type": "execute_result"
    }
   ],
   "source": [
    "item_user"
   ]
  },
  {
   "cell_type": "code",
   "execution_count": null,
   "metadata": {},
   "outputs": [],
   "source": []
  }
 ],
 "metadata": {
  "kernelspec": {
   "display_name": "Python 3",
   "language": "python",
   "name": "python3"
  },
  "language_info": {
   "codemirror_mode": {
    "name": "ipython",
    "version": 3
   },
   "file_extension": ".py",
   "mimetype": "text/x-python",
   "name": "python",
   "nbconvert_exporter": "python",
   "pygments_lexer": "ipython3",
   "version": "3.11.5"
  }
 },
 "nbformat": 4,
 "nbformat_minor": 2
}
