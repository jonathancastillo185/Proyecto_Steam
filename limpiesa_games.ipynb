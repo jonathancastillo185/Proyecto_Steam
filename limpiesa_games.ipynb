{
 "cells": [
  {
   "cell_type": "code",
   "execution_count": 4,
   "metadata": {},
   "outputs": [],
   "source": [
    "import pandas as pd\n",
    "import gzip\n",
    "from funciones import extraer_anio\n",
    "from funciones import convertir_0"
   ]
  },
  {
   "cell_type": "code",
   "execution_count": 5,
   "metadata": {},
   "outputs": [
    {
     "name": "stderr",
     "output_type": "stream",
     "text": [
      "C:\\Users\\jonat\\AppData\\Local\\Temp\\ipykernel_11480\\2807454174.py:1: DtypeWarning: Columns (0,1,2,3,4,5,6,7,8,9,12) have mixed types. Specify dtype option on import or set low_memory=False.\n",
      "  games = pd.read_csv(r'data_sets\\steam_gamez.csv',index_col=False)\n"
     ]
    }
   ],
   "source": [
    "games = pd.read_csv(r'data_sets\\steam_gamez.csv',index_col=False)"
   ]
  },
  {
   "cell_type": "code",
   "execution_count": 6,
   "metadata": {},
   "outputs": [
    {
     "data": {
      "text/plain": [
       "120445"
      ]
     },
     "execution_count": 6,
     "metadata": {},
     "output_type": "execute_result"
    }
   ],
   "source": [
    "# Verifico que las filas que tengo pensado eliminar, solo esten rellenas con valores NaN, de lo contrario, en pasos siguientes verificare como realizar la normalizacion\n",
    "games[games.isna().all(axis=1)].shape[0] + games.dropna(thresh=1).shape[0]"
   ]
  },
  {
   "cell_type": "code",
   "execution_count": 7,
   "metadata": {},
   "outputs": [
    {
     "data": {
      "text/plain": [
       "(27220, 11)"
      ]
     },
     "execution_count": 7,
     "metadata": {},
     "output_type": "execute_result"
    }
   ],
   "source": [
    "# Elimino las filas nulas\n",
    "\n",
    "\n",
    "games.dropna(thresh=9,inplace=True) # ---> Elimino las filas que cumplen con la condicion de estar completamente sin datos (NaN), de lo contrario si contienen algun valor no se eliminan\n",
    "\n",
    "\n",
    "games.drop(columns='title',inplace=True) # ---> Elimino la columna title ya que la columna app_name contien el mismo valor y con los faltantes\n",
    "\n",
    "\n",
    "games = games.drop(games.loc[games['id'].isna()].index) # ---> Realice una exploracion en la columna id, y tome la desicion de eliminar las filas que no contienen valores, no tienen relevancia en el resto del proceso\n",
    "\n",
    "\n",
    "games['id'] = games['id'].astype(int) # ---> Realice una conversion en el tipo de dato de la columna id, de Float a Int\n",
    "\n",
    "\n",
    "games = games.drop_duplicates(subset=['id']) # ---> Comprobe que existen valores repetidos, verifique que todos sus valores sean identicos y luego procedi a realizar su eliminacion.\n",
    "\n",
    "\n",
    "# Primero comprobe que la columna genres y tags, contienen los mismos valores, complete los faltantes de la columna tags con los valores de la columna genres\n",
    "filas_vacias = games['tags'].isna() # ---> guardo las filas con valores NaN en tags\n",
    "games.loc[filas_vacias, 'tags'] = games.loc[filas_vacias, 'genres'] # asigno los valores de la columna genres dentro de la columna tags\n",
    "games.drop(columns='genres',inplace=True) # ---> Elimino la columna genres\n",
    "\n",
    "\n",
    "# Relleno los valores de la columna publisher, con los valores de la columna developer, solo cuando publisher no tiene ningun valor.\n",
    "filas_vacias = games['publisher'].isna()\n",
    "games.loc[filas_vacias, 'publisher'] = games.loc[filas_vacias, 'developer']\n",
    "# En este caso no elimino ninguna de las columnas, ya que algunos valores que son relevantes tambien son diferentes.\n",
    "\n",
    "\n",
    "games.dropna(inplace=True) # ---> Elimino todos los NaN\n",
    "\n",
    "games['release_date'] = games['release_date'].apply(extraer_anio)\n",
    "\n",
    "games['release_date'] = games['release_date'].replace('SOON™',2019)\n",
    "games['release_date'] = games['release_date'].replace('soon',2019)\n",
    "games['release_date'] = games['release_date'].replace('SOON',2019)\n",
    "\n",
    "games['price'] = games['price'].apply(convertir_0)\n",
    "\n",
    "\n",
    "games['id'] = games['id'].astype(int)\n",
    "\n",
    "\n",
    "games['release_date'] = games['release_date'].astype(int)\n",
    "\n",
    "games.shape"
   ]
  },
  {
   "cell_type": "code",
   "execution_count": 10,
   "metadata": {},
   "outputs": [
    {
     "data": {
      "text/html": [
       "<div>\n",
       "<style scoped>\n",
       "    .dataframe tbody tr th:only-of-type {\n",
       "        vertical-align: middle;\n",
       "    }\n",
       "\n",
       "    .dataframe tbody tr th {\n",
       "        vertical-align: top;\n",
       "    }\n",
       "\n",
       "    .dataframe thead th {\n",
       "        text-align: right;\n",
       "    }\n",
       "</style>\n",
       "<table border=\"1\" class=\"dataframe\">\n",
       "  <thead>\n",
       "    <tr style=\"text-align: right;\">\n",
       "      <th></th>\n",
       "      <th>publisher</th>\n",
       "      <th>app_name</th>\n",
       "      <th>url</th>\n",
       "      <th>release_date</th>\n",
       "      <th>tags</th>\n",
       "      <th>reviews_url</th>\n",
       "      <th>specs</th>\n",
       "      <th>price</th>\n",
       "      <th>early_access</th>\n",
       "      <th>id</th>\n",
       "      <th>developer</th>\n",
       "    </tr>\n",
       "  </thead>\n",
       "  <tbody>\n",
       "    <tr>\n",
       "      <th>88310</th>\n",
       "      <td>Kotoshiro</td>\n",
       "      <td>Lost Summoner Kitty</td>\n",
       "      <td>http://store.steampowered.com/app/761140/Lost_...</td>\n",
       "      <td>2018</td>\n",
       "      <td>['Strategy', 'Action', 'Indie', 'Casual', 'Sim...</td>\n",
       "      <td>http://steamcommunity.com/app/761140/reviews/?...</td>\n",
       "      <td>['Single-player']</td>\n",
       "      <td>4.99</td>\n",
       "      <td>0.0</td>\n",
       "      <td>761140</td>\n",
       "      <td>Kotoshiro</td>\n",
       "    </tr>\n",
       "    <tr>\n",
       "      <th>88311</th>\n",
       "      <td>Making Fun, Inc.</td>\n",
       "      <td>Ironbound</td>\n",
       "      <td>http://store.steampowered.com/app/643980/Ironb...</td>\n",
       "      <td>2018</td>\n",
       "      <td>['Free to Play', 'Strategy', 'Indie', 'RPG', '...</td>\n",
       "      <td>http://steamcommunity.com/app/643980/reviews/?...</td>\n",
       "      <td>['Single-player', 'Multi-player', 'Online Mult...</td>\n",
       "      <td>0.00</td>\n",
       "      <td>0.0</td>\n",
       "      <td>643980</td>\n",
       "      <td>Secret Level SRL</td>\n",
       "    </tr>\n",
       "    <tr>\n",
       "      <th>88312</th>\n",
       "      <td>Poolians.com</td>\n",
       "      <td>Real Pool 3D - Poolians</td>\n",
       "      <td>http://store.steampowered.com/app/670290/Real_...</td>\n",
       "      <td>2017</td>\n",
       "      <td>['Free to Play', 'Simulation', 'Sports', 'Casu...</td>\n",
       "      <td>http://steamcommunity.com/app/670290/reviews/?...</td>\n",
       "      <td>['Single-player', 'Multi-player', 'Online Mult...</td>\n",
       "      <td>0.00</td>\n",
       "      <td>0.0</td>\n",
       "      <td>670290</td>\n",
       "      <td>Poolians.com</td>\n",
       "    </tr>\n",
       "    <tr>\n",
       "      <th>88313</th>\n",
       "      <td>彼岸领域</td>\n",
       "      <td>弹炸人2222</td>\n",
       "      <td>http://store.steampowered.com/app/767400/2222/</td>\n",
       "      <td>2017</td>\n",
       "      <td>['Action', 'Adventure', 'Casual']</td>\n",
       "      <td>http://steamcommunity.com/app/767400/reviews/?...</td>\n",
       "      <td>['Single-player']</td>\n",
       "      <td>0.99</td>\n",
       "      <td>0.0</td>\n",
       "      <td>767400</td>\n",
       "      <td>彼岸领域</td>\n",
       "    </tr>\n",
       "    <tr>\n",
       "      <th>88315</th>\n",
       "      <td>Trickjump Games Ltd</td>\n",
       "      <td>Battle Royale Trainer</td>\n",
       "      <td>http://store.steampowered.com/app/772540/Battl...</td>\n",
       "      <td>2018</td>\n",
       "      <td>['Action', 'Adventure', 'Simulation', 'FPS', '...</td>\n",
       "      <td>http://steamcommunity.com/app/772540/reviews/?...</td>\n",
       "      <td>['Single-player', 'Steam Achievements']</td>\n",
       "      <td>3.99</td>\n",
       "      <td>0.0</td>\n",
       "      <td>772540</td>\n",
       "      <td>Trickjump Games Ltd</td>\n",
       "    </tr>\n",
       "  </tbody>\n",
       "</table>\n",
       "</div>"
      ],
      "text/plain": [
       "                 publisher                 app_name  \\\n",
       "88310            Kotoshiro      Lost Summoner Kitty   \n",
       "88311     Making Fun, Inc.                Ironbound   \n",
       "88312         Poolians.com  Real Pool 3D - Poolians   \n",
       "88313                 彼岸领域                  弹炸人2222   \n",
       "88315  Trickjump Games Ltd    Battle Royale Trainer   \n",
       "\n",
       "                                                     url  release_date  \\\n",
       "88310  http://store.steampowered.com/app/761140/Lost_...          2018   \n",
       "88311  http://store.steampowered.com/app/643980/Ironb...          2018   \n",
       "88312  http://store.steampowered.com/app/670290/Real_...          2017   \n",
       "88313     http://store.steampowered.com/app/767400/2222/          2017   \n",
       "88315  http://store.steampowered.com/app/772540/Battl...          2018   \n",
       "\n",
       "                                                    tags  \\\n",
       "88310  ['Strategy', 'Action', 'Indie', 'Casual', 'Sim...   \n",
       "88311  ['Free to Play', 'Strategy', 'Indie', 'RPG', '...   \n",
       "88312  ['Free to Play', 'Simulation', 'Sports', 'Casu...   \n",
       "88313                  ['Action', 'Adventure', 'Casual']   \n",
       "88315  ['Action', 'Adventure', 'Simulation', 'FPS', '...   \n",
       "\n",
       "                                             reviews_url  \\\n",
       "88310  http://steamcommunity.com/app/761140/reviews/?...   \n",
       "88311  http://steamcommunity.com/app/643980/reviews/?...   \n",
       "88312  http://steamcommunity.com/app/670290/reviews/?...   \n",
       "88313  http://steamcommunity.com/app/767400/reviews/?...   \n",
       "88315  http://steamcommunity.com/app/772540/reviews/?...   \n",
       "\n",
       "                                                   specs  price  early_access  \\\n",
       "88310                                  ['Single-player']   4.99           0.0   \n",
       "88311  ['Single-player', 'Multi-player', 'Online Mult...   0.00           0.0   \n",
       "88312  ['Single-player', 'Multi-player', 'Online Mult...   0.00           0.0   \n",
       "88313                                  ['Single-player']   0.99           0.0   \n",
       "88315            ['Single-player', 'Steam Achievements']   3.99           0.0   \n",
       "\n",
       "           id            developer  \n",
       "88310  761140            Kotoshiro  \n",
       "88311  643980     Secret Level SRL  \n",
       "88312  670290         Poolians.com  \n",
       "88313  767400                 彼岸领域  \n",
       "88315  772540  Trickjump Games Ltd  "
      ]
     },
     "execution_count": 10,
     "metadata": {},
     "output_type": "execute_result"
    }
   ],
   "source": [
    "games.head()"
   ]
  },
  {
   "cell_type": "code",
   "execution_count": 11,
   "metadata": {},
   "outputs": [
    {
     "data": {
      "text/plain": [
       "publisher       0\n",
       "app_name        0\n",
       "url             0\n",
       "release_date    0\n",
       "tags            0\n",
       "reviews_url     0\n",
       "specs           0\n",
       "price           0\n",
       "early_access    0\n",
       "id              0\n",
       "developer       0\n",
       "dtype: int64"
      ]
     },
     "execution_count": 11,
     "metadata": {},
     "output_type": "execute_result"
    }
   ],
   "source": [
    "games.isna().sum()"
   ]
  },
  {
   "cell_type": "code",
   "execution_count": 12,
   "metadata": {},
   "outputs": [],
   "source": [
    "games.to_csv('data_set_limpio/games_preparado.csv',encoding='UTF-8',index=False)"
   ]
  },
  {
   "cell_type": "code",
   "execution_count": 13,
   "metadata": {},
   "outputs": [],
   "source": [
    "with open('data_set_limpio/games_preparado.csv', 'rb') as f_in, gzip.open('data_set_limpio/games_preparado.csv.gz', 'wb') as f_out:\n",
    "    f_out.writelines(f_in)"
   ]
  }
 ],
 "metadata": {
  "kernelspec": {
   "display_name": "Python 3",
   "language": "python",
   "name": "python3"
  },
  "language_info": {
   "codemirror_mode": {
    "name": "ipython",
    "version": 3
   },
   "file_extension": ".py",
   "mimetype": "text/x-python",
   "name": "python",
   "nbconvert_exporter": "python",
   "pygments_lexer": "ipython3",
   "version": "3.11.5"
  }
 },
 "nbformat": 4,
 "nbformat_minor": 2
}
