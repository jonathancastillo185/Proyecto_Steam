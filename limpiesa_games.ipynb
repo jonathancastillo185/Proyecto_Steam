{
 "cells": [
  {
   "cell_type": "code",
   "execution_count": 2,
   "metadata": {},
   "outputs": [],
   "source": [
    "import pandas as pd\n",
    "import gzip"
   ]
  },
  {
   "cell_type": "code",
   "execution_count": 3,
   "metadata": {},
   "outputs": [
    {
     "name": "stderr",
     "output_type": "stream",
     "text": [
      "C:\\Users\\jonat\\AppData\\Local\\Temp\\ipykernel_8632\\2807454174.py:1: DtypeWarning: Columns (0,1,2,3,4,5,6,7,8,9,12) have mixed types. Specify dtype option on import or set low_memory=False.\n",
      "  games = pd.read_csv(r'data_sets\\steam_gamez.csv',index_col=False)\n"
     ]
    }
   ],
   "source": [
    "games = pd.read_csv(r'data_sets\\steam_gamez.csv',index_col=False)"
   ]
  },
  {
   "cell_type": "code",
   "execution_count": 4,
   "metadata": {},
   "outputs": [
    {
     "data": {
      "text/plain": [
       "120445"
      ]
     },
     "execution_count": 4,
     "metadata": {},
     "output_type": "execute_result"
    }
   ],
   "source": [
    "# Verifico que las filas que tengo pensado eliminar, solo esten rellenas con valores NaN, de lo contrario, en pasos siguientes verificare como realizar la normalizacion\n",
    "games[games.isna().all(axis=1)].shape[0] + games.dropna(thresh=1).shape[0]"
   ]
  },
  {
   "cell_type": "code",
   "execution_count": 5,
   "metadata": {},
   "outputs": [
    {
     "data": {
      "text/plain": [
       "(27220, 11)"
      ]
     },
     "execution_count": 5,
     "metadata": {},
     "output_type": "execute_result"
    }
   ],
   "source": [
    "# Elimino las filas nulas\n",
    "\n",
    "\n",
    "games.dropna(thresh=9,inplace=True) # ---> Elimino las filas que cumplen con la condicion de estar completamente sin datos (NaN), de lo contrario si contienen algun valor no se eliminan\n",
    "\n",
    "\n",
    "games.drop(columns='title',inplace=True) # ---> Elimino la columna title ya que la columna app_name contien el mismo valor y con los faltantes\n",
    "\n",
    "\n",
    "games = games.drop(games.loc[games['id'].isna()].index) # ---> Realice una exploracion en la columna id, y tome la desicion de eliminar las filas que no contienen valores, no tienen relevancia en el resto del proceso\n",
    "\n",
    "\n",
    "games['id'] = games['id'].astype(int) # ---> Realice una conversion en el tipo de dato de la columna id, de Float a Int\n",
    "\n",
    "\n",
    "games = games.drop_duplicates(subset=['id']) # ---> Comprobe que existen valores repetidos, verifique que todos sus valores sean identicos y luego procedi a realizar su eliminacion.\n",
    "\n",
    "\n",
    "# Primero comprobe que la columna genres y tags, contienen los mismos valores, complete los faltantes de la columna tags con los valores de la columna genres\n",
    "filas_vacias = games['tags'].isna() # ---> guardo las filas con valores NaN en tags\n",
    "games.loc[filas_vacias, 'tags'] = games.loc[filas_vacias, 'genres'] # asigno los valores de la columna genres dentro de la columna tags\n",
    "games.drop(columns='genres',inplace=True) # ---> Elimino la columna genres\n",
    "\n",
    "\n",
    "# Relleno los valores de la columna publisher, con los valores de la columna developer, solo cuando publisher no tiene ningun valor.\n",
    "filas_vacias = games['publisher'].isna()\n",
    "games.loc[filas_vacias, 'publisher'] = games.loc[filas_vacias, 'developer']\n",
    "# En este caso no elimino ninguna de las columnas, ya que algunos valores que son relevantes tambien son diferentes.\n",
    "\n",
    "games['price'] = games['price'].replace('Free', 'Free to Play')\n",
    "\n",
    "games.dropna(inplace=True) # ---> Elimino todos los NaN\n",
    "\n",
    "games['id'] = games['id'].astype(int)\n",
    "\n",
    "games.shape"
   ]
  },
  {
   "cell_type": "code",
   "execution_count": 6,
   "metadata": {},
   "outputs": [
    {
     "data": {
      "text/plain": [
       "publisher       0\n",
       "app_name        0\n",
       "url             0\n",
       "release_date    0\n",
       "tags            0\n",
       "reviews_url     0\n",
       "specs           0\n",
       "price           0\n",
       "early_access    0\n",
       "id              0\n",
       "developer       0\n",
       "dtype: int64"
      ]
     },
     "execution_count": 6,
     "metadata": {},
     "output_type": "execute_result"
    }
   ],
   "source": [
    "games.isna().sum()"
   ]
  },
  {
   "cell_type": "code",
   "execution_count": 7,
   "metadata": {},
   "outputs": [],
   "source": [
    "games.to_csv('data_set_limpio/games_preparado.csv',encoding='UTF-8',index=False)"
   ]
  },
  {
   "cell_type": "code",
   "execution_count": 8,
   "metadata": {},
   "outputs": [],
   "source": [
    "with open('data_set_limpio/games_preparado.csv', 'rb') as f_in, gzip.open('data_set_limpio/games_preparado.csv.gz', 'wb') as f_out:\n",
    "    f_out.writelines(f_in)"
   ]
  }
 ],
 "metadata": {
  "kernelspec": {
   "display_name": "Python 3",
   "language": "python",
   "name": "python3"
  },
  "language_info": {
   "codemirror_mode": {
    "name": "ipython",
    "version": 3
   },
   "file_extension": ".py",
   "mimetype": "text/x-python",
   "name": "python",
   "nbconvert_exporter": "python",
   "pygments_lexer": "ipython3",
   "version": "3.11.5"
  }
 },
 "nbformat": 4,
 "nbformat_minor": 2
}
